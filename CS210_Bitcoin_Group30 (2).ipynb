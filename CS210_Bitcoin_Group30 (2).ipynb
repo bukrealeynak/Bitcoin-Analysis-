{
  "nbformat": 4,
  "nbformat_minor": 0,
  "metadata": {
    "colab": {
      "provenance": [],
      "collapsed_sections": [
        "tPdlcstH11mU",
        "HmULLx3twVRD"
      ]
    },
    "kernelspec": {
      "name": "python3",
      "display_name": "Python 3"
    }
  },
  "cells": [
    {
      "cell_type": "markdown",
      "metadata": {
        "id": "tPdlcstH11mU"
      },
      "source": [
        "# [Bitcoin - Group 30]\n",
        "\n",
        "Group Members:\n",
        "* Belin Gül\n",
        "* Bükre Aleyna Kitapci\n",
        "* Defne Akter\n",
        "* Mustafa Cem Büyükalpelli"
      ]
    },
    {
      "cell_type": "markdown",
      "metadata": {
        "id": "B1iB4MSX3-6L"
      },
      "source": [
        "## Introduction\n",
        "\n",
        "<font color=\"white\">\n",
        "First, we will be visualizing the data in time-series format, both as a whole and separate features. We will also be monitoring the high and low values, how they change over time and their comparisons. Secondly, we will be conducting statistical tests in order to understand the contribution of volume and close features, differences between different time frames, the fluctuations in the market on any given day and so on. Moreover, we are particularly interested in implementing machine learning algorithms that will predict the future of bitcoin. The predictions will vary: How a market fluctuates on a daily basis, if a particular day is a good day to purchase in a 30-day time frame, trends for a future span of 6 months etc.Throughout Bitcoin's rise, popularity and popular mentions have been crucial to its rise and fall. The most influential person in the Bitcoin market has been Elon Musk with his 81 million followers on Twitter. In addition to other features we want to make the market more predictable by working on Elon Musk's tweets and this impact on Bitcoin.\n",
        "\n",
        "\n",
        "</font>"
      ]
    },
    {
      "cell_type": "markdown",
      "metadata": {
        "id": "ZjWMWVoA4NcV"
      },
      "source": [
        "### Utilized Datasets\n",
        "\n",
        "<font color=\"white\">\n",
        "We work with additional datasets which are related directly with bitcoin fluctuation and Elon Musk's tweets.\n",
        "\n",
        "[Elon Musk's tweets](https://www.kaggle.com/code/andradaolteanu/bitcoin-dogecoin-on-rapids-and-elon-musk)\n",
        "\n",
        "[Main Dataset](https://drive.google.com/file/d/16oJB3upKi8kAsxs_If2_HGq8ECZp5Y04/view?usp=sharing)\n",
        "\n",
        "\n",
        "\n",
        "</font>"
      ]
    },
    {
      "cell_type": "markdown",
      "source": [
        "<font color=\"white\">\n",
        "We add replies_count,retweet_date,retweets_count and video features for now from Elon Musks's tweets dataset, We are planning to develop it furthermore.\n",
        "\n",
        "<font>"
      ],
      "metadata": {
        "id": "saBlue1t8hnV"
      }
    },
    {
      "cell_type": "markdown",
      "source": [
        "<font color=\"white\">\n",
        "Installation of required libraries\n",
        "</font>"
      ],
      "metadata": {
        "id": "Zg5D_yO5vq1s"
      }
    },
    {
      "cell_type": "code",
      "source": [
        "from google.colab import drive\n",
        "from os.path import join\n",
        "import matplotlib.pyplot as plt\n",
        "\n",
        "drive.mount('./drive')\n",
        "path_prefix1 = './drive/My Drive'\n",
        "path_prefix = \"./drive/MyDrive/data\""
      ],
      "metadata": {
        "colab": {
          "base_uri": "https://localhost:8080/"
        },
        "id": "tB8M0xbgwE69",
        "outputId": "b6f076de-a5c8-4cde-bb96-c0d52d45e723"
      },
      "execution_count": null,
      "outputs": [
        {
          "output_type": "stream",
          "name": "stdout",
          "text": [
            "Drive already mounted at ./drive; to attempt to forcibly remount, call drive.mount(\"./drive\", force_remount=True).\n"
          ]
        }
      ]
    },
    {
      "cell_type": "code",
      "source": [
        "import pandas as pd\n",
        "import numpy as np\n",
        "import matplotlib.pyplot as plt\n",
        "from geopy.distance import geodesic\n",
        "from scipy import stats\n",
        "from scipy.stats import f_oneway\n",
        "from scipy import special\n",
        "import seaborn as sns\n",
        "from os.path import join\n",
        "from os import listdir\n",
        "import math\n",
        "from sklearn import preprocessing\n",
        "from sklearn.model_selection import train_test_split\n",
        "from sklearn.linear_model import LinearRegression\n",
        "from sklearn.neighbors import KNeighborsRegressor\n",
        "from sklearn.model_selection import GridSearchCV\n",
        "from sklearn import metrics\n",
        "from os.path import join\n",
        "from sklearn import preprocessing\n",
        "from sklearn.model_selection import train_test_split\n",
        "from sklearn.linear_model import LinearRegression\n",
        "from sklearn import metrics\n",
        "from sklearn.neighbors import KNeighborsRegressor\n",
        "from sklearn.tree import DecisionTreeRegressor\n",
        "from sklearn.ensemble import RandomForestRegressor\n",
        "\n",
        "import warnings\n",
        "warnings.filterwarnings(\"ignore\")\n",
        "\n",
        "%matplotlib inline"
      ],
      "metadata": {
        "id": "nMYOaELovxaP"
      },
      "execution_count": null,
      "outputs": []
    },
    {
      "cell_type": "markdown",
      "metadata": {
        "id": "ict00io34o_x"
      },
      "source": [
        "## Exploratory Data Analysis\n",
        "\n"
      ]
    },
    {
      "cell_type": "markdown",
      "source": [
        "# <font color=\"white\">\n",
        "We are reading our data.\n",
        "</font>"
      ],
      "metadata": {
        "id": "HmULLx3twVRD"
      }
    },
    {
      "cell_type": "code",
      "source": [
        "all_df = pd.read_csv(join(path_prefix,\"BTC-USD.csv\"));\n",
        "elon_df = pd.read_csv(join(path_prefix,\"TweetsElonMusk.csv\"));\n",
        "el_df = pd.read_csv(join(path_prefix,\"TweetsElonMusk.csv\"));"
      ],
      "metadata": {
        "id": "KjIaAwKrwkDH"
      },
      "execution_count": null,
      "outputs": []
    },
    {
      "cell_type": "code",
      "source": [
        "all_df.head()\n"
      ],
      "metadata": {
        "id": "kKIcZnklw21y",
        "colab": {
          "base_uri": "https://localhost:8080/"
        },
        "outputId": "ef81043d-f3a0-4bd2-9ade-432c493e07aa"
      },
      "execution_count": null,
      "outputs": [
        {
          "output_type": "execute_result",
          "data": {
            "text/plain": [
              "         Date        Open        High         Low       Close   Adj Close  \\\n",
              "0  2014-09-17  465.864014  468.174011  452.421997  457.334015  457.334015   \n",
              "1  2014-09-18  456.859985  456.859985  413.104004  424.440002  424.440002   \n",
              "2  2014-09-19  424.102997  427.834991  384.532013  394.795990  394.795990   \n",
              "3  2014-09-20  394.673004  423.295990  389.882996  408.903992  408.903992   \n",
              "4  2014-09-21  408.084991  412.425995  393.181000  398.821014  398.821014   \n",
              "\n",
              "     Volume  \n",
              "0  21056800  \n",
              "1  34483200  \n",
              "2  37919700  \n",
              "3  36863600  \n",
              "4  26580100  "
            ],
            "text/html": [
              "\n",
              "  <div id=\"df-835f2a47-0886-4afc-b713-bd1941463f96\">\n",
              "    <div class=\"colab-df-container\">\n",
              "      <div>\n",
              "<style scoped>\n",
              "    .dataframe tbody tr th:only-of-type {\n",
              "        vertical-align: middle;\n",
              "    }\n",
              "\n",
              "    .dataframe tbody tr th {\n",
              "        vertical-align: top;\n",
              "    }\n",
              "\n",
              "    .dataframe thead th {\n",
              "        text-align: right;\n",
              "    }\n",
              "</style>\n",
              "<table border=\"1\" class=\"dataframe\">\n",
              "  <thead>\n",
              "    <tr style=\"text-align: right;\">\n",
              "      <th></th>\n",
              "      <th>Date</th>\n",
              "      <th>Open</th>\n",
              "      <th>High</th>\n",
              "      <th>Low</th>\n",
              "      <th>Close</th>\n",
              "      <th>Adj Close</th>\n",
              "      <th>Volume</th>\n",
              "    </tr>\n",
              "  </thead>\n",
              "  <tbody>\n",
              "    <tr>\n",
              "      <th>0</th>\n",
              "      <td>2014-09-17</td>\n",
              "      <td>465.864014</td>\n",
              "      <td>468.174011</td>\n",
              "      <td>452.421997</td>\n",
              "      <td>457.334015</td>\n",
              "      <td>457.334015</td>\n",
              "      <td>21056800</td>\n",
              "    </tr>\n",
              "    <tr>\n",
              "      <th>1</th>\n",
              "      <td>2014-09-18</td>\n",
              "      <td>456.859985</td>\n",
              "      <td>456.859985</td>\n",
              "      <td>413.104004</td>\n",
              "      <td>424.440002</td>\n",
              "      <td>424.440002</td>\n",
              "      <td>34483200</td>\n",
              "    </tr>\n",
              "    <tr>\n",
              "      <th>2</th>\n",
              "      <td>2014-09-19</td>\n",
              "      <td>424.102997</td>\n",
              "      <td>427.834991</td>\n",
              "      <td>384.532013</td>\n",
              "      <td>394.795990</td>\n",
              "      <td>394.795990</td>\n",
              "      <td>37919700</td>\n",
              "    </tr>\n",
              "    <tr>\n",
              "      <th>3</th>\n",
              "      <td>2014-09-20</td>\n",
              "      <td>394.673004</td>\n",
              "      <td>423.295990</td>\n",
              "      <td>389.882996</td>\n",
              "      <td>408.903992</td>\n",
              "      <td>408.903992</td>\n",
              "      <td>36863600</td>\n",
              "    </tr>\n",
              "    <tr>\n",
              "      <th>4</th>\n",
              "      <td>2014-09-21</td>\n",
              "      <td>408.084991</td>\n",
              "      <td>412.425995</td>\n",
              "      <td>393.181000</td>\n",
              "      <td>398.821014</td>\n",
              "      <td>398.821014</td>\n",
              "      <td>26580100</td>\n",
              "    </tr>\n",
              "  </tbody>\n",
              "</table>\n",
              "</div>\n",
              "      <button class=\"colab-df-convert\" onclick=\"convertToInteractive('df-835f2a47-0886-4afc-b713-bd1941463f96')\"\n",
              "              title=\"Convert this dataframe to an interactive table.\"\n",
              "              style=\"display:none;\">\n",
              "        \n",
              "  <svg xmlns=\"http://www.w3.org/2000/svg\" height=\"24px\"viewBox=\"0 0 24 24\"\n",
              "       width=\"24px\">\n",
              "    <path d=\"M0 0h24v24H0V0z\" fill=\"none\"/>\n",
              "    <path d=\"M18.56 5.44l.94 2.06.94-2.06 2.06-.94-2.06-.94-.94-2.06-.94 2.06-2.06.94zm-11 1L8.5 8.5l.94-2.06 2.06-.94-2.06-.94L8.5 2.5l-.94 2.06-2.06.94zm10 10l.94 2.06.94-2.06 2.06-.94-2.06-.94-.94-2.06-.94 2.06-2.06.94z\"/><path d=\"M17.41 7.96l-1.37-1.37c-.4-.4-.92-.59-1.43-.59-.52 0-1.04.2-1.43.59L10.3 9.45l-7.72 7.72c-.78.78-.78 2.05 0 2.83L4 21.41c.39.39.9.59 1.41.59.51 0 1.02-.2 1.41-.59l7.78-7.78 2.81-2.81c.8-.78.8-2.07 0-2.86zM5.41 20L4 18.59l7.72-7.72 1.47 1.35L5.41 20z\"/>\n",
              "  </svg>\n",
              "      </button>\n",
              "      \n",
              "  <style>\n",
              "    .colab-df-container {\n",
              "      display:flex;\n",
              "      flex-wrap:wrap;\n",
              "      gap: 12px;\n",
              "    }\n",
              "\n",
              "    .colab-df-convert {\n",
              "      background-color: #E8F0FE;\n",
              "      border: none;\n",
              "      border-radius: 50%;\n",
              "      cursor: pointer;\n",
              "      display: none;\n",
              "      fill: #1967D2;\n",
              "      height: 32px;\n",
              "      padding: 0 0 0 0;\n",
              "      width: 32px;\n",
              "    }\n",
              "\n",
              "    .colab-df-convert:hover {\n",
              "      background-color: #E2EBFA;\n",
              "      box-shadow: 0px 1px 2px rgba(60, 64, 67, 0.3), 0px 1px 3px 1px rgba(60, 64, 67, 0.15);\n",
              "      fill: #174EA6;\n",
              "    }\n",
              "\n",
              "    [theme=dark] .colab-df-convert {\n",
              "      background-color: #3B4455;\n",
              "      fill: #D2E3FC;\n",
              "    }\n",
              "\n",
              "    [theme=dark] .colab-df-convert:hover {\n",
              "      background-color: #434B5C;\n",
              "      box-shadow: 0px 1px 3px 1px rgba(0, 0, 0, 0.15);\n",
              "      filter: drop-shadow(0px 1px 2px rgba(0, 0, 0, 0.3));\n",
              "      fill: #FFFFFF;\n",
              "    }\n",
              "  </style>\n",
              "\n",
              "      <script>\n",
              "        const buttonEl =\n",
              "          document.querySelector('#df-835f2a47-0886-4afc-b713-bd1941463f96 button.colab-df-convert');\n",
              "        buttonEl.style.display =\n",
              "          google.colab.kernel.accessAllowed ? 'block' : 'none';\n",
              "\n",
              "        async function convertToInteractive(key) {\n",
              "          const element = document.querySelector('#df-835f2a47-0886-4afc-b713-bd1941463f96');\n",
              "          const dataTable =\n",
              "            await google.colab.kernel.invokeFunction('convertToInteractive',\n",
              "                                                     [key], {});\n",
              "          if (!dataTable) return;\n",
              "\n",
              "          const docLinkHtml = 'Like what you see? Visit the ' +\n",
              "            '<a target=\"_blank\" href=https://colab.research.google.com/notebooks/data_table.ipynb>data table notebook</a>'\n",
              "            + ' to learn more about interactive tables.';\n",
              "          element.innerHTML = '';\n",
              "          dataTable['output_type'] = 'display_data';\n",
              "          await google.colab.output.renderOutput(dataTable, element);\n",
              "          const docLink = document.createElement('div');\n",
              "          docLink.innerHTML = docLinkHtml;\n",
              "          element.appendChild(docLink);\n",
              "        }\n",
              "      </script>\n",
              "    </div>\n",
              "  </div>\n",
              "  "
            ]
          },
          "metadata": {},
          "execution_count": 74
        }
      ]
    },
    {
      "cell_type": "code",
      "source": [
        "all_df.shape"
      ],
      "metadata": {
        "id": "v5gkoXWOhYPX",
        "colab": {
          "base_uri": "https://localhost:8080/"
        },
        "outputId": "705284ed-0f42-4157-ca07-0863f9635863"
      },
      "execution_count": null,
      "outputs": [
        {
          "output_type": "execute_result",
          "data": {
            "text/plain": [
              "(2755, 7)"
            ]
          },
          "metadata": {},
          "execution_count": 75
        }
      ]
    },
    {
      "cell_type": "code",
      "source": [
        "el_df.describe()"
      ],
      "metadata": {
        "id": "238DnkRgxFTv",
        "colab": {
          "base_uri": "https://localhost:8080/"
        },
        "outputId": "0fa31bc2-e58d-4ec9-866b-9174b3596579"
      },
      "execution_count": null,
      "outputs": [
        {
          "output_type": "execute_result",
          "data": {
            "text/plain": [
              "                 id  conversation_id  timezone     user_id  place  \\\n",
              "count  1.256200e+04     1.256200e+04   12562.0     12562.0    0.0   \n",
              "mean   1.049919e+18     1.047490e+18     300.0  44196397.0    NaN   \n",
              "std    2.761981e+17     2.783202e+17       0.0         0.0    NaN   \n",
              "min    1.543473e+10     1.659576e+09     300.0  44196397.0    NaN   \n",
              "25%    9.444958e+17     9.413883e+17     300.0  44196397.0    NaN   \n",
              "50%    1.117568e+18     1.117117e+18     300.0  44196397.0    NaN   \n",
              "75%    1.255896e+18     1.254922e+18     300.0  44196397.0    NaN   \n",
              "max    1.383296e+18     1.383296e+18     300.0  44196397.0    NaN   \n",
              "\n",
              "       replies_count  retweets_count   likes_count         video  near  geo  \\\n",
              "count   12562.000000    12562.000000  1.256200e+04  12562.000000   0.0  0.0   \n",
              "mean      679.370005     2256.727193  2.147006e+04      0.063047   NaN  NaN   \n",
              "std      2453.853763     9793.382524  6.727787e+04      0.243058   NaN  NaN   \n",
              "min         0.000000        0.000000  2.000000e+00      0.000000   NaN  NaN   \n",
              "25%        45.000000       45.000000  8.790000e+02      0.000000   NaN  NaN   \n",
              "50%       113.000000      144.500000  2.439500e+03      0.000000   NaN  NaN   \n",
              "75%       373.000000      847.750000  1.128250e+04      0.000000   NaN  NaN   \n",
              "max     61349.000000   361461.000000  1.593425e+06      1.000000   NaN  NaN   \n",
              "\n",
              "       source  user_rt_id  user_rt  retweet_id  retweet_date  translate  \\\n",
              "count     0.0         0.0      0.0         0.0           0.0        0.0   \n",
              "mean      NaN         NaN      NaN         NaN           NaN        NaN   \n",
              "std       NaN         NaN      NaN         NaN           NaN        NaN   \n",
              "min       NaN         NaN      NaN         NaN           NaN        NaN   \n",
              "25%       NaN         NaN      NaN         NaN           NaN        NaN   \n",
              "50%       NaN         NaN      NaN         NaN           NaN        NaN   \n",
              "75%       NaN         NaN      NaN         NaN           NaN        NaN   \n",
              "max       NaN         NaN      NaN         NaN           NaN        NaN   \n",
              "\n",
              "       trans_src  trans_dest  \n",
              "count        0.0         0.0  \n",
              "mean         NaN         NaN  \n",
              "std          NaN         NaN  \n",
              "min          NaN         NaN  \n",
              "25%          NaN         NaN  \n",
              "50%          NaN         NaN  \n",
              "75%          NaN         NaN  \n",
              "max          NaN         NaN  "
            ],
            "text/html": [
              "\n",
              "  <div id=\"df-32a58653-32c6-4dc8-bff8-1fb1cff58e25\">\n",
              "    <div class=\"colab-df-container\">\n",
              "      <div>\n",
              "<style scoped>\n",
              "    .dataframe tbody tr th:only-of-type {\n",
              "        vertical-align: middle;\n",
              "    }\n",
              "\n",
              "    .dataframe tbody tr th {\n",
              "        vertical-align: top;\n",
              "    }\n",
              "\n",
              "    .dataframe thead th {\n",
              "        text-align: right;\n",
              "    }\n",
              "</style>\n",
              "<table border=\"1\" class=\"dataframe\">\n",
              "  <thead>\n",
              "    <tr style=\"text-align: right;\">\n",
              "      <th></th>\n",
              "      <th>id</th>\n",
              "      <th>conversation_id</th>\n",
              "      <th>timezone</th>\n",
              "      <th>user_id</th>\n",
              "      <th>place</th>\n",
              "      <th>replies_count</th>\n",
              "      <th>retweets_count</th>\n",
              "      <th>likes_count</th>\n",
              "      <th>video</th>\n",
              "      <th>near</th>\n",
              "      <th>geo</th>\n",
              "      <th>source</th>\n",
              "      <th>user_rt_id</th>\n",
              "      <th>user_rt</th>\n",
              "      <th>retweet_id</th>\n",
              "      <th>retweet_date</th>\n",
              "      <th>translate</th>\n",
              "      <th>trans_src</th>\n",
              "      <th>trans_dest</th>\n",
              "    </tr>\n",
              "  </thead>\n",
              "  <tbody>\n",
              "    <tr>\n",
              "      <th>count</th>\n",
              "      <td>1.256200e+04</td>\n",
              "      <td>1.256200e+04</td>\n",
              "      <td>12562.0</td>\n",
              "      <td>12562.0</td>\n",
              "      <td>0.0</td>\n",
              "      <td>12562.000000</td>\n",
              "      <td>12562.000000</td>\n",
              "      <td>1.256200e+04</td>\n",
              "      <td>12562.000000</td>\n",
              "      <td>0.0</td>\n",
              "      <td>0.0</td>\n",
              "      <td>0.0</td>\n",
              "      <td>0.0</td>\n",
              "      <td>0.0</td>\n",
              "      <td>0.0</td>\n",
              "      <td>0.0</td>\n",
              "      <td>0.0</td>\n",
              "      <td>0.0</td>\n",
              "      <td>0.0</td>\n",
              "    </tr>\n",
              "    <tr>\n",
              "      <th>mean</th>\n",
              "      <td>1.049919e+18</td>\n",
              "      <td>1.047490e+18</td>\n",
              "      <td>300.0</td>\n",
              "      <td>44196397.0</td>\n",
              "      <td>NaN</td>\n",
              "      <td>679.370005</td>\n",
              "      <td>2256.727193</td>\n",
              "      <td>2.147006e+04</td>\n",
              "      <td>0.063047</td>\n",
              "      <td>NaN</td>\n",
              "      <td>NaN</td>\n",
              "      <td>NaN</td>\n",
              "      <td>NaN</td>\n",
              "      <td>NaN</td>\n",
              "      <td>NaN</td>\n",
              "      <td>NaN</td>\n",
              "      <td>NaN</td>\n",
              "      <td>NaN</td>\n",
              "      <td>NaN</td>\n",
              "    </tr>\n",
              "    <tr>\n",
              "      <th>std</th>\n",
              "      <td>2.761981e+17</td>\n",
              "      <td>2.783202e+17</td>\n",
              "      <td>0.0</td>\n",
              "      <td>0.0</td>\n",
              "      <td>NaN</td>\n",
              "      <td>2453.853763</td>\n",
              "      <td>9793.382524</td>\n",
              "      <td>6.727787e+04</td>\n",
              "      <td>0.243058</td>\n",
              "      <td>NaN</td>\n",
              "      <td>NaN</td>\n",
              "      <td>NaN</td>\n",
              "      <td>NaN</td>\n",
              "      <td>NaN</td>\n",
              "      <td>NaN</td>\n",
              "      <td>NaN</td>\n",
              "      <td>NaN</td>\n",
              "      <td>NaN</td>\n",
              "      <td>NaN</td>\n",
              "    </tr>\n",
              "    <tr>\n",
              "      <th>min</th>\n",
              "      <td>1.543473e+10</td>\n",
              "      <td>1.659576e+09</td>\n",
              "      <td>300.0</td>\n",
              "      <td>44196397.0</td>\n",
              "      <td>NaN</td>\n",
              "      <td>0.000000</td>\n",
              "      <td>0.000000</td>\n",
              "      <td>2.000000e+00</td>\n",
              "      <td>0.000000</td>\n",
              "      <td>NaN</td>\n",
              "      <td>NaN</td>\n",
              "      <td>NaN</td>\n",
              "      <td>NaN</td>\n",
              "      <td>NaN</td>\n",
              "      <td>NaN</td>\n",
              "      <td>NaN</td>\n",
              "      <td>NaN</td>\n",
              "      <td>NaN</td>\n",
              "      <td>NaN</td>\n",
              "    </tr>\n",
              "    <tr>\n",
              "      <th>25%</th>\n",
              "      <td>9.444958e+17</td>\n",
              "      <td>9.413883e+17</td>\n",
              "      <td>300.0</td>\n",
              "      <td>44196397.0</td>\n",
              "      <td>NaN</td>\n",
              "      <td>45.000000</td>\n",
              "      <td>45.000000</td>\n",
              "      <td>8.790000e+02</td>\n",
              "      <td>0.000000</td>\n",
              "      <td>NaN</td>\n",
              "      <td>NaN</td>\n",
              "      <td>NaN</td>\n",
              "      <td>NaN</td>\n",
              "      <td>NaN</td>\n",
              "      <td>NaN</td>\n",
              "      <td>NaN</td>\n",
              "      <td>NaN</td>\n",
              "      <td>NaN</td>\n",
              "      <td>NaN</td>\n",
              "    </tr>\n",
              "    <tr>\n",
              "      <th>50%</th>\n",
              "      <td>1.117568e+18</td>\n",
              "      <td>1.117117e+18</td>\n",
              "      <td>300.0</td>\n",
              "      <td>44196397.0</td>\n",
              "      <td>NaN</td>\n",
              "      <td>113.000000</td>\n",
              "      <td>144.500000</td>\n",
              "      <td>2.439500e+03</td>\n",
              "      <td>0.000000</td>\n",
              "      <td>NaN</td>\n",
              "      <td>NaN</td>\n",
              "      <td>NaN</td>\n",
              "      <td>NaN</td>\n",
              "      <td>NaN</td>\n",
              "      <td>NaN</td>\n",
              "      <td>NaN</td>\n",
              "      <td>NaN</td>\n",
              "      <td>NaN</td>\n",
              "      <td>NaN</td>\n",
              "    </tr>\n",
              "    <tr>\n",
              "      <th>75%</th>\n",
              "      <td>1.255896e+18</td>\n",
              "      <td>1.254922e+18</td>\n",
              "      <td>300.0</td>\n",
              "      <td>44196397.0</td>\n",
              "      <td>NaN</td>\n",
              "      <td>373.000000</td>\n",
              "      <td>847.750000</td>\n",
              "      <td>1.128250e+04</td>\n",
              "      <td>0.000000</td>\n",
              "      <td>NaN</td>\n",
              "      <td>NaN</td>\n",
              "      <td>NaN</td>\n",
              "      <td>NaN</td>\n",
              "      <td>NaN</td>\n",
              "      <td>NaN</td>\n",
              "      <td>NaN</td>\n",
              "      <td>NaN</td>\n",
              "      <td>NaN</td>\n",
              "      <td>NaN</td>\n",
              "    </tr>\n",
              "    <tr>\n",
              "      <th>max</th>\n",
              "      <td>1.383296e+18</td>\n",
              "      <td>1.383296e+18</td>\n",
              "      <td>300.0</td>\n",
              "      <td>44196397.0</td>\n",
              "      <td>NaN</td>\n",
              "      <td>61349.000000</td>\n",
              "      <td>361461.000000</td>\n",
              "      <td>1.593425e+06</td>\n",
              "      <td>1.000000</td>\n",
              "      <td>NaN</td>\n",
              "      <td>NaN</td>\n",
              "      <td>NaN</td>\n",
              "      <td>NaN</td>\n",
              "      <td>NaN</td>\n",
              "      <td>NaN</td>\n",
              "      <td>NaN</td>\n",
              "      <td>NaN</td>\n",
              "      <td>NaN</td>\n",
              "      <td>NaN</td>\n",
              "    </tr>\n",
              "  </tbody>\n",
              "</table>\n",
              "</div>\n",
              "      <button class=\"colab-df-convert\" onclick=\"convertToInteractive('df-32a58653-32c6-4dc8-bff8-1fb1cff58e25')\"\n",
              "              title=\"Convert this dataframe to an interactive table.\"\n",
              "              style=\"display:none;\">\n",
              "        \n",
              "  <svg xmlns=\"http://www.w3.org/2000/svg\" height=\"24px\"viewBox=\"0 0 24 24\"\n",
              "       width=\"24px\">\n",
              "    <path d=\"M0 0h24v24H0V0z\" fill=\"none\"/>\n",
              "    <path d=\"M18.56 5.44l.94 2.06.94-2.06 2.06-.94-2.06-.94-.94-2.06-.94 2.06-2.06.94zm-11 1L8.5 8.5l.94-2.06 2.06-.94-2.06-.94L8.5 2.5l-.94 2.06-2.06.94zm10 10l.94 2.06.94-2.06 2.06-.94-2.06-.94-.94-2.06-.94 2.06-2.06.94z\"/><path d=\"M17.41 7.96l-1.37-1.37c-.4-.4-.92-.59-1.43-.59-.52 0-1.04.2-1.43.59L10.3 9.45l-7.72 7.72c-.78.78-.78 2.05 0 2.83L4 21.41c.39.39.9.59 1.41.59.51 0 1.02-.2 1.41-.59l7.78-7.78 2.81-2.81c.8-.78.8-2.07 0-2.86zM5.41 20L4 18.59l7.72-7.72 1.47 1.35L5.41 20z\"/>\n",
              "  </svg>\n",
              "      </button>\n",
              "      \n",
              "  <style>\n",
              "    .colab-df-container {\n",
              "      display:flex;\n",
              "      flex-wrap:wrap;\n",
              "      gap: 12px;\n",
              "    }\n",
              "\n",
              "    .colab-df-convert {\n",
              "      background-color: #E8F0FE;\n",
              "      border: none;\n",
              "      border-radius: 50%;\n",
              "      cursor: pointer;\n",
              "      display: none;\n",
              "      fill: #1967D2;\n",
              "      height: 32px;\n",
              "      padding: 0 0 0 0;\n",
              "      width: 32px;\n",
              "    }\n",
              "\n",
              "    .colab-df-convert:hover {\n",
              "      background-color: #E2EBFA;\n",
              "      box-shadow: 0px 1px 2px rgba(60, 64, 67, 0.3), 0px 1px 3px 1px rgba(60, 64, 67, 0.15);\n",
              "      fill: #174EA6;\n",
              "    }\n",
              "\n",
              "    [theme=dark] .colab-df-convert {\n",
              "      background-color: #3B4455;\n",
              "      fill: #D2E3FC;\n",
              "    }\n",
              "\n",
              "    [theme=dark] .colab-df-convert:hover {\n",
              "      background-color: #434B5C;\n",
              "      box-shadow: 0px 1px 3px 1px rgba(0, 0, 0, 0.15);\n",
              "      filter: drop-shadow(0px 1px 2px rgba(0, 0, 0, 0.3));\n",
              "      fill: #FFFFFF;\n",
              "    }\n",
              "  </style>\n",
              "\n",
              "      <script>\n",
              "        const buttonEl =\n",
              "          document.querySelector('#df-32a58653-32c6-4dc8-bff8-1fb1cff58e25 button.colab-df-convert');\n",
              "        buttonEl.style.display =\n",
              "          google.colab.kernel.accessAllowed ? 'block' : 'none';\n",
              "\n",
              "        async function convertToInteractive(key) {\n",
              "          const element = document.querySelector('#df-32a58653-32c6-4dc8-bff8-1fb1cff58e25');\n",
              "          const dataTable =\n",
              "            await google.colab.kernel.invokeFunction('convertToInteractive',\n",
              "                                                     [key], {});\n",
              "          if (!dataTable) return;\n",
              "\n",
              "          const docLinkHtml = 'Like what you see? Visit the ' +\n",
              "            '<a target=\"_blank\" href=https://colab.research.google.com/notebooks/data_table.ipynb>data table notebook</a>'\n",
              "            + ' to learn more about interactive tables.';\n",
              "          element.innerHTML = '';\n",
              "          dataTable['output_type'] = 'display_data';\n",
              "          await google.colab.output.renderOutput(dataTable, element);\n",
              "          const docLink = document.createElement('div');\n",
              "          docLink.innerHTML = docLinkHtml;\n",
              "          element.appendChild(docLink);\n",
              "        }\n",
              "      </script>\n",
              "    </div>\n",
              "  </div>\n",
              "  "
            ]
          },
          "metadata": {},
          "execution_count": 76
        }
      ]
    },
    {
      "cell_type": "code",
      "source": [
        "all_df.head()"
      ],
      "metadata": {
        "id": "UNcUtayHzv9P",
        "colab": {
          "base_uri": "https://localhost:8080/"
        },
        "outputId": "aed4cf3e-bc7d-4428-fdfc-01fe258703a9"
      },
      "execution_count": null,
      "outputs": [
        {
          "output_type": "execute_result",
          "data": {
            "text/plain": [
              "         Date        Open        High         Low       Close   Adj Close  \\\n",
              "0  2014-09-17  465.864014  468.174011  452.421997  457.334015  457.334015   \n",
              "1  2014-09-18  456.859985  456.859985  413.104004  424.440002  424.440002   \n",
              "2  2014-09-19  424.102997  427.834991  384.532013  394.795990  394.795990   \n",
              "3  2014-09-20  394.673004  423.295990  389.882996  408.903992  408.903992   \n",
              "4  2014-09-21  408.084991  412.425995  393.181000  398.821014  398.821014   \n",
              "\n",
              "     Volume  \n",
              "0  21056800  \n",
              "1  34483200  \n",
              "2  37919700  \n",
              "3  36863600  \n",
              "4  26580100  "
            ],
            "text/html": [
              "\n",
              "  <div id=\"df-54c3e4f7-094b-4a20-bdef-2167d5e17c43\">\n",
              "    <div class=\"colab-df-container\">\n",
              "      <div>\n",
              "<style scoped>\n",
              "    .dataframe tbody tr th:only-of-type {\n",
              "        vertical-align: middle;\n",
              "    }\n",
              "\n",
              "    .dataframe tbody tr th {\n",
              "        vertical-align: top;\n",
              "    }\n",
              "\n",
              "    .dataframe thead th {\n",
              "        text-align: right;\n",
              "    }\n",
              "</style>\n",
              "<table border=\"1\" class=\"dataframe\">\n",
              "  <thead>\n",
              "    <tr style=\"text-align: right;\">\n",
              "      <th></th>\n",
              "      <th>Date</th>\n",
              "      <th>Open</th>\n",
              "      <th>High</th>\n",
              "      <th>Low</th>\n",
              "      <th>Close</th>\n",
              "      <th>Adj Close</th>\n",
              "      <th>Volume</th>\n",
              "    </tr>\n",
              "  </thead>\n",
              "  <tbody>\n",
              "    <tr>\n",
              "      <th>0</th>\n",
              "      <td>2014-09-17</td>\n",
              "      <td>465.864014</td>\n",
              "      <td>468.174011</td>\n",
              "      <td>452.421997</td>\n",
              "      <td>457.334015</td>\n",
              "      <td>457.334015</td>\n",
              "      <td>21056800</td>\n",
              "    </tr>\n",
              "    <tr>\n",
              "      <th>1</th>\n",
              "      <td>2014-09-18</td>\n",
              "      <td>456.859985</td>\n",
              "      <td>456.859985</td>\n",
              "      <td>413.104004</td>\n",
              "      <td>424.440002</td>\n",
              "      <td>424.440002</td>\n",
              "      <td>34483200</td>\n",
              "    </tr>\n",
              "    <tr>\n",
              "      <th>2</th>\n",
              "      <td>2014-09-19</td>\n",
              "      <td>424.102997</td>\n",
              "      <td>427.834991</td>\n",
              "      <td>384.532013</td>\n",
              "      <td>394.795990</td>\n",
              "      <td>394.795990</td>\n",
              "      <td>37919700</td>\n",
              "    </tr>\n",
              "    <tr>\n",
              "      <th>3</th>\n",
              "      <td>2014-09-20</td>\n",
              "      <td>394.673004</td>\n",
              "      <td>423.295990</td>\n",
              "      <td>389.882996</td>\n",
              "      <td>408.903992</td>\n",
              "      <td>408.903992</td>\n",
              "      <td>36863600</td>\n",
              "    </tr>\n",
              "    <tr>\n",
              "      <th>4</th>\n",
              "      <td>2014-09-21</td>\n",
              "      <td>408.084991</td>\n",
              "      <td>412.425995</td>\n",
              "      <td>393.181000</td>\n",
              "      <td>398.821014</td>\n",
              "      <td>398.821014</td>\n",
              "      <td>26580100</td>\n",
              "    </tr>\n",
              "  </tbody>\n",
              "</table>\n",
              "</div>\n",
              "      <button class=\"colab-df-convert\" onclick=\"convertToInteractive('df-54c3e4f7-094b-4a20-bdef-2167d5e17c43')\"\n",
              "              title=\"Convert this dataframe to an interactive table.\"\n",
              "              style=\"display:none;\">\n",
              "        \n",
              "  <svg xmlns=\"http://www.w3.org/2000/svg\" height=\"24px\"viewBox=\"0 0 24 24\"\n",
              "       width=\"24px\">\n",
              "    <path d=\"M0 0h24v24H0V0z\" fill=\"none\"/>\n",
              "    <path d=\"M18.56 5.44l.94 2.06.94-2.06 2.06-.94-2.06-.94-.94-2.06-.94 2.06-2.06.94zm-11 1L8.5 8.5l.94-2.06 2.06-.94-2.06-.94L8.5 2.5l-.94 2.06-2.06.94zm10 10l.94 2.06.94-2.06 2.06-.94-2.06-.94-.94-2.06-.94 2.06-2.06.94z\"/><path d=\"M17.41 7.96l-1.37-1.37c-.4-.4-.92-.59-1.43-.59-.52 0-1.04.2-1.43.59L10.3 9.45l-7.72 7.72c-.78.78-.78 2.05 0 2.83L4 21.41c.39.39.9.59 1.41.59.51 0 1.02-.2 1.41-.59l7.78-7.78 2.81-2.81c.8-.78.8-2.07 0-2.86zM5.41 20L4 18.59l7.72-7.72 1.47 1.35L5.41 20z\"/>\n",
              "  </svg>\n",
              "      </button>\n",
              "      \n",
              "  <style>\n",
              "    .colab-df-container {\n",
              "      display:flex;\n",
              "      flex-wrap:wrap;\n",
              "      gap: 12px;\n",
              "    }\n",
              "\n",
              "    .colab-df-convert {\n",
              "      background-color: #E8F0FE;\n",
              "      border: none;\n",
              "      border-radius: 50%;\n",
              "      cursor: pointer;\n",
              "      display: none;\n",
              "      fill: #1967D2;\n",
              "      height: 32px;\n",
              "      padding: 0 0 0 0;\n",
              "      width: 32px;\n",
              "    }\n",
              "\n",
              "    .colab-df-convert:hover {\n",
              "      background-color: #E2EBFA;\n",
              "      box-shadow: 0px 1px 2px rgba(60, 64, 67, 0.3), 0px 1px 3px 1px rgba(60, 64, 67, 0.15);\n",
              "      fill: #174EA6;\n",
              "    }\n",
              "\n",
              "    [theme=dark] .colab-df-convert {\n",
              "      background-color: #3B4455;\n",
              "      fill: #D2E3FC;\n",
              "    }\n",
              "\n",
              "    [theme=dark] .colab-df-convert:hover {\n",
              "      background-color: #434B5C;\n",
              "      box-shadow: 0px 1px 3px 1px rgba(0, 0, 0, 0.15);\n",
              "      filter: drop-shadow(0px 1px 2px rgba(0, 0, 0, 0.3));\n",
              "      fill: #FFFFFF;\n",
              "    }\n",
              "  </style>\n",
              "\n",
              "      <script>\n",
              "        const buttonEl =\n",
              "          document.querySelector('#df-54c3e4f7-094b-4a20-bdef-2167d5e17c43 button.colab-df-convert');\n",
              "        buttonEl.style.display =\n",
              "          google.colab.kernel.accessAllowed ? 'block' : 'none';\n",
              "\n",
              "        async function convertToInteractive(key) {\n",
              "          const element = document.querySelector('#df-54c3e4f7-094b-4a20-bdef-2167d5e17c43');\n",
              "          const dataTable =\n",
              "            await google.colab.kernel.invokeFunction('convertToInteractive',\n",
              "                                                     [key], {});\n",
              "          if (!dataTable) return;\n",
              "\n",
              "          const docLinkHtml = 'Like what you see? Visit the ' +\n",
              "            '<a target=\"_blank\" href=https://colab.research.google.com/notebooks/data_table.ipynb>data table notebook</a>'\n",
              "            + ' to learn more about interactive tables.';\n",
              "          element.innerHTML = '';\n",
              "          dataTable['output_type'] = 'display_data';\n",
              "          await google.colab.output.renderOutput(dataTable, element);\n",
              "          const docLink = document.createElement('div');\n",
              "          docLink.innerHTML = docLinkHtml;\n",
              "          element.appendChild(docLink);\n",
              "        }\n",
              "      </script>\n",
              "    </div>\n",
              "  </div>\n",
              "  "
            ]
          },
          "metadata": {},
          "execution_count": 77
        }
      ]
    },
    {
      "cell_type": "code",
      "source": [
        "\n",
        "elon_df[\"time\"] = elon_df[\"time\"].astype(str)\n",
        "elon_df[\"time\"] = elon_df[\"time\"].str.replace(':', '')\n",
        "elon_df[\"time\"]= elon_df[\"time\"].astype(int)\n",
        "elon_df[\"time\"] = elon_df[\"time\"] - 120000\n",
        "print(elon_df[\"time\"]);"
      ],
      "metadata": {
        "colab": {
          "base_uri": "https://localhost:8080/"
        },
        "id": "h9qtkJht6sec",
        "outputId": "45ed7579-8dfd-4212-a33a-04d867f2f66c"
      },
      "execution_count": null,
      "outputs": [
        {
          "output_type": "stream",
          "name": "stdout",
          "text": [
            "0         65033\n",
            "1         64858\n",
            "2         54938\n",
            "3         32349\n",
            "4        -28153\n",
            "          ...  \n",
            "12557     -4686\n",
            "12558    -14955\n",
            "12559    -15175\n",
            "12560    -85855\n",
            "12561    102511\n",
            "Name: time, Length: 12562, dtype: int64\n"
          ]
        }
      ]
    },
    {
      "cell_type": "code",
      "source": [],
      "metadata": {
        "id": "CzlJIo-aWpmq"
      },
      "execution_count": null,
      "outputs": []
    },
    {
      "cell_type": "code",
      "source": [
        "elon_df[[\"replies_count\",\"retweet_date\", \"retweets_count\", \"time\"]].describe()"
      ],
      "metadata": {
        "id": "voL33u_CqIhV",
        "colab": {
          "base_uri": "https://localhost:8080/"
        },
        "outputId": "b5d41742-79b2-45e5-ab4f-818b5ecc6aa7"
      },
      "execution_count": null,
      "outputs": [
        {
          "output_type": "execute_result",
          "data": {
            "text/plain": [
              "       replies_count  retweet_date  retweets_count           time\n",
              "count   12562.000000           0.0    12562.000000   12562.000000\n",
              "mean      679.370005           NaN     2256.727193   -4554.416176\n",
              "std      2453.853763           NaN     9793.382524   79009.060851\n",
              "min         0.000000           NaN        0.000000 -119996.000000\n",
              "25%        45.000000           NaN       45.000000  -76740.250000\n",
              "50%       113.000000           NaN      144.500000  -19255.500000\n",
              "75%       373.000000           NaN      847.750000   80521.000000\n",
              "max     61349.000000           NaN   361461.000000  115956.000000"
            ],
            "text/html": [
              "\n",
              "  <div id=\"df-f41bbd14-34be-42a5-a9e1-63405e7bc869\">\n",
              "    <div class=\"colab-df-container\">\n",
              "      <div>\n",
              "<style scoped>\n",
              "    .dataframe tbody tr th:only-of-type {\n",
              "        vertical-align: middle;\n",
              "    }\n",
              "\n",
              "    .dataframe tbody tr th {\n",
              "        vertical-align: top;\n",
              "    }\n",
              "\n",
              "    .dataframe thead th {\n",
              "        text-align: right;\n",
              "    }\n",
              "</style>\n",
              "<table border=\"1\" class=\"dataframe\">\n",
              "  <thead>\n",
              "    <tr style=\"text-align: right;\">\n",
              "      <th></th>\n",
              "      <th>replies_count</th>\n",
              "      <th>retweet_date</th>\n",
              "      <th>retweets_count</th>\n",
              "      <th>time</th>\n",
              "    </tr>\n",
              "  </thead>\n",
              "  <tbody>\n",
              "    <tr>\n",
              "      <th>count</th>\n",
              "      <td>12562.000000</td>\n",
              "      <td>0.0</td>\n",
              "      <td>12562.000000</td>\n",
              "      <td>12562.000000</td>\n",
              "    </tr>\n",
              "    <tr>\n",
              "      <th>mean</th>\n",
              "      <td>679.370005</td>\n",
              "      <td>NaN</td>\n",
              "      <td>2256.727193</td>\n",
              "      <td>-4554.416176</td>\n",
              "    </tr>\n",
              "    <tr>\n",
              "      <th>std</th>\n",
              "      <td>2453.853763</td>\n",
              "      <td>NaN</td>\n",
              "      <td>9793.382524</td>\n",
              "      <td>79009.060851</td>\n",
              "    </tr>\n",
              "    <tr>\n",
              "      <th>min</th>\n",
              "      <td>0.000000</td>\n",
              "      <td>NaN</td>\n",
              "      <td>0.000000</td>\n",
              "      <td>-119996.000000</td>\n",
              "    </tr>\n",
              "    <tr>\n",
              "      <th>25%</th>\n",
              "      <td>45.000000</td>\n",
              "      <td>NaN</td>\n",
              "      <td>45.000000</td>\n",
              "      <td>-76740.250000</td>\n",
              "    </tr>\n",
              "    <tr>\n",
              "      <th>50%</th>\n",
              "      <td>113.000000</td>\n",
              "      <td>NaN</td>\n",
              "      <td>144.500000</td>\n",
              "      <td>-19255.500000</td>\n",
              "    </tr>\n",
              "    <tr>\n",
              "      <th>75%</th>\n",
              "      <td>373.000000</td>\n",
              "      <td>NaN</td>\n",
              "      <td>847.750000</td>\n",
              "      <td>80521.000000</td>\n",
              "    </tr>\n",
              "    <tr>\n",
              "      <th>max</th>\n",
              "      <td>61349.000000</td>\n",
              "      <td>NaN</td>\n",
              "      <td>361461.000000</td>\n",
              "      <td>115956.000000</td>\n",
              "    </tr>\n",
              "  </tbody>\n",
              "</table>\n",
              "</div>\n",
              "      <button class=\"colab-df-convert\" onclick=\"convertToInteractive('df-f41bbd14-34be-42a5-a9e1-63405e7bc869')\"\n",
              "              title=\"Convert this dataframe to an interactive table.\"\n",
              "              style=\"display:none;\">\n",
              "        \n",
              "  <svg xmlns=\"http://www.w3.org/2000/svg\" height=\"24px\"viewBox=\"0 0 24 24\"\n",
              "       width=\"24px\">\n",
              "    <path d=\"M0 0h24v24H0V0z\" fill=\"none\"/>\n",
              "    <path d=\"M18.56 5.44l.94 2.06.94-2.06 2.06-.94-2.06-.94-.94-2.06-.94 2.06-2.06.94zm-11 1L8.5 8.5l.94-2.06 2.06-.94-2.06-.94L8.5 2.5l-.94 2.06-2.06.94zm10 10l.94 2.06.94-2.06 2.06-.94-2.06-.94-.94-2.06-.94 2.06-2.06.94z\"/><path d=\"M17.41 7.96l-1.37-1.37c-.4-.4-.92-.59-1.43-.59-.52 0-1.04.2-1.43.59L10.3 9.45l-7.72 7.72c-.78.78-.78 2.05 0 2.83L4 21.41c.39.39.9.59 1.41.59.51 0 1.02-.2 1.41-.59l7.78-7.78 2.81-2.81c.8-.78.8-2.07 0-2.86zM5.41 20L4 18.59l7.72-7.72 1.47 1.35L5.41 20z\"/>\n",
              "  </svg>\n",
              "      </button>\n",
              "      \n",
              "  <style>\n",
              "    .colab-df-container {\n",
              "      display:flex;\n",
              "      flex-wrap:wrap;\n",
              "      gap: 12px;\n",
              "    }\n",
              "\n",
              "    .colab-df-convert {\n",
              "      background-color: #E8F0FE;\n",
              "      border: none;\n",
              "      border-radius: 50%;\n",
              "      cursor: pointer;\n",
              "      display: none;\n",
              "      fill: #1967D2;\n",
              "      height: 32px;\n",
              "      padding: 0 0 0 0;\n",
              "      width: 32px;\n",
              "    }\n",
              "\n",
              "    .colab-df-convert:hover {\n",
              "      background-color: #E2EBFA;\n",
              "      box-shadow: 0px 1px 2px rgba(60, 64, 67, 0.3), 0px 1px 3px 1px rgba(60, 64, 67, 0.15);\n",
              "      fill: #174EA6;\n",
              "    }\n",
              "\n",
              "    [theme=dark] .colab-df-convert {\n",
              "      background-color: #3B4455;\n",
              "      fill: #D2E3FC;\n",
              "    }\n",
              "\n",
              "    [theme=dark] .colab-df-convert:hover {\n",
              "      background-color: #434B5C;\n",
              "      box-shadow: 0px 1px 3px 1px rgba(0, 0, 0, 0.15);\n",
              "      filter: drop-shadow(0px 1px 2px rgba(0, 0, 0, 0.3));\n",
              "      fill: #FFFFFF;\n",
              "    }\n",
              "  </style>\n",
              "\n",
              "      <script>\n",
              "        const buttonEl =\n",
              "          document.querySelector('#df-f41bbd14-34be-42a5-a9e1-63405e7bc869 button.colab-df-convert');\n",
              "        buttonEl.style.display =\n",
              "          google.colab.kernel.accessAllowed ? 'block' : 'none';\n",
              "\n",
              "        async function convertToInteractive(key) {\n",
              "          const element = document.querySelector('#df-f41bbd14-34be-42a5-a9e1-63405e7bc869');\n",
              "          const dataTable =\n",
              "            await google.colab.kernel.invokeFunction('convertToInteractive',\n",
              "                                                     [key], {});\n",
              "          if (!dataTable) return;\n",
              "\n",
              "          const docLinkHtml = 'Like what you see? Visit the ' +\n",
              "            '<a target=\"_blank\" href=https://colab.research.google.com/notebooks/data_table.ipynb>data table notebook</a>'\n",
              "            + ' to learn more about interactive tables.';\n",
              "          element.innerHTML = '';\n",
              "          dataTable['output_type'] = 'display_data';\n",
              "          await google.colab.output.renderOutput(dataTable, element);\n",
              "          const docLink = document.createElement('div');\n",
              "          docLink.innerHTML = docLinkHtml;\n",
              "          element.appendChild(docLink);\n",
              "        }\n",
              "      </script>\n",
              "    </div>\n",
              "  </div>\n",
              "  "
            ]
          },
          "metadata": {},
          "execution_count": 79
        }
      ]
    },
    {
      "cell_type": "code",
      "source": [
        "\n",
        "elon_df[\"time\"] = elon_df[\"time\"].astype(str)\n",
        "elon_df[\"time\"] = elon_df[\"time\"].str.replace(':', '')\n",
        "elon_df[\"time\"]= elon_df[\"time\"].astype(int)\n",
        "elon_df[\"time\"] = elon_df[\"time\"] - 120000\n",
        "print(elon_df[\"time\"]);"
      ],
      "metadata": {
        "colab": {
          "base_uri": "https://localhost:8080/"
        },
        "outputId": "4015dd62-baef-40e9-8d44-d0dd2bc089e8",
        "id": "_E6QLqwBkHkf"
      },
      "execution_count": null,
      "outputs": [
        {
          "output_type": "stream",
          "name": "stdout",
          "text": [
            "0        -54967\n",
            "1        -55142\n",
            "2        -65062\n",
            "3        -87651\n",
            "4       -148153\n",
            "          ...  \n",
            "12557   -124686\n",
            "12558   -134955\n",
            "12559   -135175\n",
            "12560   -205855\n",
            "12561    -17489\n",
            "Name: time, Length: 12562, dtype: int64\n"
          ]
        }
      ]
    },
    {
      "cell_type": "code",
      "source": [
        "elon_df.head()"
      ],
      "metadata": {
        "id": "xYtDbW6nw7gu",
        "colab": {
          "base_uri": "https://localhost:8080/"
        },
        "outputId": "b1f6a2f9-21ec-48fd-be2e-53157358d3eb"
      },
      "execution_count": null,
      "outputs": [
        {
          "output_type": "execute_result",
          "data": {
            "text/plain": [
              "                    id      conversation_id                created_at  \\\n",
              "0  1381273474400800773  1381002894032347138  2021-04-11 18:50:33 EEST   \n",
              "1  1381273076709478403  1372444955050971142  2021-04-11 18:48:58 EEST   \n",
              "2  1381258144916008964  1381230136918433792  2021-04-11 17:49:38 EEST   \n",
              "3  1381221447322935303  1381221447322935303  2021-04-11 15:23:49 EEST   \n",
              "4  1381129584435818496  1381079981485252611  2021-04-11 09:18:47 EEST   \n",
              "\n",
              "         date    time  timezone   user_id  username       name  place  ...  \\\n",
              "0  2021-04-11  -54967       300  44196397  elonmusk  Elon Musk    NaN  ...   \n",
              "1  2021-04-11  -55142       300  44196397  elonmusk  Elon Musk    NaN  ...   \n",
              "2  2021-04-11  -65062       300  44196397  elonmusk  Elon Musk    NaN  ...   \n",
              "3  2021-04-11  -87651       300  44196397  elonmusk  Elon Musk    NaN  ...   \n",
              "4  2021-04-11 -148153       300  44196397  elonmusk  Elon Musk    NaN  ...   \n",
              "\n",
              "  geo source user_rt_id user_rt retweet_id  \\\n",
              "0 NaN    NaN        NaN     NaN        NaN   \n",
              "1 NaN    NaN        NaN     NaN        NaN   \n",
              "2 NaN    NaN        NaN     NaN        NaN   \n",
              "3 NaN    NaN        NaN     NaN        NaN   \n",
              "4 NaN    NaN        NaN     NaN        NaN   \n",
              "\n",
              "                                            reply_to  retweet_date  translate  \\\n",
              "0  [{'screen_name': 'vincent13031925', 'name': 'V...           NaN        NaN   \n",
              "1                                                 []           NaN        NaN   \n",
              "2  [{'screen_name': 'agnostoxxx', 'name': 'Shrubb...           NaN        NaN   \n",
              "3                                                 []           NaN        NaN   \n",
              "4  [{'screen_name': 'itsALLrisky', 'name': '💸💸💸',...           NaN        NaN   \n",
              "\n",
              "  trans_src trans_dest  \n",
              "0       NaN        NaN  \n",
              "1       NaN        NaN  \n",
              "2       NaN        NaN  \n",
              "3       NaN        NaN  \n",
              "4       NaN        NaN  \n",
              "\n",
              "[5 rows x 36 columns]"
            ],
            "text/html": [
              "\n",
              "  <div id=\"df-95833326-bb61-4d34-a9e7-00707258dc5f\">\n",
              "    <div class=\"colab-df-container\">\n",
              "      <div>\n",
              "<style scoped>\n",
              "    .dataframe tbody tr th:only-of-type {\n",
              "        vertical-align: middle;\n",
              "    }\n",
              "\n",
              "    .dataframe tbody tr th {\n",
              "        vertical-align: top;\n",
              "    }\n",
              "\n",
              "    .dataframe thead th {\n",
              "        text-align: right;\n",
              "    }\n",
              "</style>\n",
              "<table border=\"1\" class=\"dataframe\">\n",
              "  <thead>\n",
              "    <tr style=\"text-align: right;\">\n",
              "      <th></th>\n",
              "      <th>id</th>\n",
              "      <th>conversation_id</th>\n",
              "      <th>created_at</th>\n",
              "      <th>date</th>\n",
              "      <th>time</th>\n",
              "      <th>timezone</th>\n",
              "      <th>user_id</th>\n",
              "      <th>username</th>\n",
              "      <th>name</th>\n",
              "      <th>place</th>\n",
              "      <th>...</th>\n",
              "      <th>geo</th>\n",
              "      <th>source</th>\n",
              "      <th>user_rt_id</th>\n",
              "      <th>user_rt</th>\n",
              "      <th>retweet_id</th>\n",
              "      <th>reply_to</th>\n",
              "      <th>retweet_date</th>\n",
              "      <th>translate</th>\n",
              "      <th>trans_src</th>\n",
              "      <th>trans_dest</th>\n",
              "    </tr>\n",
              "  </thead>\n",
              "  <tbody>\n",
              "    <tr>\n",
              "      <th>0</th>\n",
              "      <td>1381273474400800773</td>\n",
              "      <td>1381002894032347138</td>\n",
              "      <td>2021-04-11 18:50:33 EEST</td>\n",
              "      <td>2021-04-11</td>\n",
              "      <td>-54967</td>\n",
              "      <td>300</td>\n",
              "      <td>44196397</td>\n",
              "      <td>elonmusk</td>\n",
              "      <td>Elon Musk</td>\n",
              "      <td>NaN</td>\n",
              "      <td>...</td>\n",
              "      <td>NaN</td>\n",
              "      <td>NaN</td>\n",
              "      <td>NaN</td>\n",
              "      <td>NaN</td>\n",
              "      <td>NaN</td>\n",
              "      <td>[{'screen_name': 'vincent13031925', 'name': 'V...</td>\n",
              "      <td>NaN</td>\n",
              "      <td>NaN</td>\n",
              "      <td>NaN</td>\n",
              "      <td>NaN</td>\n",
              "    </tr>\n",
              "    <tr>\n",
              "      <th>1</th>\n",
              "      <td>1381273076709478403</td>\n",
              "      <td>1372444955050971142</td>\n",
              "      <td>2021-04-11 18:48:58 EEST</td>\n",
              "      <td>2021-04-11</td>\n",
              "      <td>-55142</td>\n",
              "      <td>300</td>\n",
              "      <td>44196397</td>\n",
              "      <td>elonmusk</td>\n",
              "      <td>Elon Musk</td>\n",
              "      <td>NaN</td>\n",
              "      <td>...</td>\n",
              "      <td>NaN</td>\n",
              "      <td>NaN</td>\n",
              "      <td>NaN</td>\n",
              "      <td>NaN</td>\n",
              "      <td>NaN</td>\n",
              "      <td>[]</td>\n",
              "      <td>NaN</td>\n",
              "      <td>NaN</td>\n",
              "      <td>NaN</td>\n",
              "      <td>NaN</td>\n",
              "    </tr>\n",
              "    <tr>\n",
              "      <th>2</th>\n",
              "      <td>1381258144916008964</td>\n",
              "      <td>1381230136918433792</td>\n",
              "      <td>2021-04-11 17:49:38 EEST</td>\n",
              "      <td>2021-04-11</td>\n",
              "      <td>-65062</td>\n",
              "      <td>300</td>\n",
              "      <td>44196397</td>\n",
              "      <td>elonmusk</td>\n",
              "      <td>Elon Musk</td>\n",
              "      <td>NaN</td>\n",
              "      <td>...</td>\n",
              "      <td>NaN</td>\n",
              "      <td>NaN</td>\n",
              "      <td>NaN</td>\n",
              "      <td>NaN</td>\n",
              "      <td>NaN</td>\n",
              "      <td>[{'screen_name': 'agnostoxxx', 'name': 'Shrubb...</td>\n",
              "      <td>NaN</td>\n",
              "      <td>NaN</td>\n",
              "      <td>NaN</td>\n",
              "      <td>NaN</td>\n",
              "    </tr>\n",
              "    <tr>\n",
              "      <th>3</th>\n",
              "      <td>1381221447322935303</td>\n",
              "      <td>1381221447322935303</td>\n",
              "      <td>2021-04-11 15:23:49 EEST</td>\n",
              "      <td>2021-04-11</td>\n",
              "      <td>-87651</td>\n",
              "      <td>300</td>\n",
              "      <td>44196397</td>\n",
              "      <td>elonmusk</td>\n",
              "      <td>Elon Musk</td>\n",
              "      <td>NaN</td>\n",
              "      <td>...</td>\n",
              "      <td>NaN</td>\n",
              "      <td>NaN</td>\n",
              "      <td>NaN</td>\n",
              "      <td>NaN</td>\n",
              "      <td>NaN</td>\n",
              "      <td>[]</td>\n",
              "      <td>NaN</td>\n",
              "      <td>NaN</td>\n",
              "      <td>NaN</td>\n",
              "      <td>NaN</td>\n",
              "    </tr>\n",
              "    <tr>\n",
              "      <th>4</th>\n",
              "      <td>1381129584435818496</td>\n",
              "      <td>1381079981485252611</td>\n",
              "      <td>2021-04-11 09:18:47 EEST</td>\n",
              "      <td>2021-04-11</td>\n",
              "      <td>-148153</td>\n",
              "      <td>300</td>\n",
              "      <td>44196397</td>\n",
              "      <td>elonmusk</td>\n",
              "      <td>Elon Musk</td>\n",
              "      <td>NaN</td>\n",
              "      <td>...</td>\n",
              "      <td>NaN</td>\n",
              "      <td>NaN</td>\n",
              "      <td>NaN</td>\n",
              "      <td>NaN</td>\n",
              "      <td>NaN</td>\n",
              "      <td>[{'screen_name': 'itsALLrisky', 'name': '💸💸💸',...</td>\n",
              "      <td>NaN</td>\n",
              "      <td>NaN</td>\n",
              "      <td>NaN</td>\n",
              "      <td>NaN</td>\n",
              "    </tr>\n",
              "  </tbody>\n",
              "</table>\n",
              "<p>5 rows × 36 columns</p>\n",
              "</div>\n",
              "      <button class=\"colab-df-convert\" onclick=\"convertToInteractive('df-95833326-bb61-4d34-a9e7-00707258dc5f')\"\n",
              "              title=\"Convert this dataframe to an interactive table.\"\n",
              "              style=\"display:none;\">\n",
              "        \n",
              "  <svg xmlns=\"http://www.w3.org/2000/svg\" height=\"24px\"viewBox=\"0 0 24 24\"\n",
              "       width=\"24px\">\n",
              "    <path d=\"M0 0h24v24H0V0z\" fill=\"none\"/>\n",
              "    <path d=\"M18.56 5.44l.94 2.06.94-2.06 2.06-.94-2.06-.94-.94-2.06-.94 2.06-2.06.94zm-11 1L8.5 8.5l.94-2.06 2.06-.94-2.06-.94L8.5 2.5l-.94 2.06-2.06.94zm10 10l.94 2.06.94-2.06 2.06-.94-2.06-.94-.94-2.06-.94 2.06-2.06.94z\"/><path d=\"M17.41 7.96l-1.37-1.37c-.4-.4-.92-.59-1.43-.59-.52 0-1.04.2-1.43.59L10.3 9.45l-7.72 7.72c-.78.78-.78 2.05 0 2.83L4 21.41c.39.39.9.59 1.41.59.51 0 1.02-.2 1.41-.59l7.78-7.78 2.81-2.81c.8-.78.8-2.07 0-2.86zM5.41 20L4 18.59l7.72-7.72 1.47 1.35L5.41 20z\"/>\n",
              "  </svg>\n",
              "      </button>\n",
              "      \n",
              "  <style>\n",
              "    .colab-df-container {\n",
              "      display:flex;\n",
              "      flex-wrap:wrap;\n",
              "      gap: 12px;\n",
              "    }\n",
              "\n",
              "    .colab-df-convert {\n",
              "      background-color: #E8F0FE;\n",
              "      border: none;\n",
              "      border-radius: 50%;\n",
              "      cursor: pointer;\n",
              "      display: none;\n",
              "      fill: #1967D2;\n",
              "      height: 32px;\n",
              "      padding: 0 0 0 0;\n",
              "      width: 32px;\n",
              "    }\n",
              "\n",
              "    .colab-df-convert:hover {\n",
              "      background-color: #E2EBFA;\n",
              "      box-shadow: 0px 1px 2px rgba(60, 64, 67, 0.3), 0px 1px 3px 1px rgba(60, 64, 67, 0.15);\n",
              "      fill: #174EA6;\n",
              "    }\n",
              "\n",
              "    [theme=dark] .colab-df-convert {\n",
              "      background-color: #3B4455;\n",
              "      fill: #D2E3FC;\n",
              "    }\n",
              "\n",
              "    [theme=dark] .colab-df-convert:hover {\n",
              "      background-color: #434B5C;\n",
              "      box-shadow: 0px 1px 3px 1px rgba(0, 0, 0, 0.15);\n",
              "      filter: drop-shadow(0px 1px 2px rgba(0, 0, 0, 0.3));\n",
              "      fill: #FFFFFF;\n",
              "    }\n",
              "  </style>\n",
              "\n",
              "      <script>\n",
              "        const buttonEl =\n",
              "          document.querySelector('#df-95833326-bb61-4d34-a9e7-00707258dc5f button.colab-df-convert');\n",
              "        buttonEl.style.display =\n",
              "          google.colab.kernel.accessAllowed ? 'block' : 'none';\n",
              "\n",
              "        async function convertToInteractive(key) {\n",
              "          const element = document.querySelector('#df-95833326-bb61-4d34-a9e7-00707258dc5f');\n",
              "          const dataTable =\n",
              "            await google.colab.kernel.invokeFunction('convertToInteractive',\n",
              "                                                     [key], {});\n",
              "          if (!dataTable) return;\n",
              "\n",
              "          const docLinkHtml = 'Like what you see? Visit the ' +\n",
              "            '<a target=\"_blank\" href=https://colab.research.google.com/notebooks/data_table.ipynb>data table notebook</a>'\n",
              "            + ' to learn more about interactive tables.';\n",
              "          element.innerHTML = '';\n",
              "          dataTable['output_type'] = 'display_data';\n",
              "          await google.colab.output.renderOutput(dataTable, element);\n",
              "          const docLink = document.createElement('div');\n",
              "          docLink.innerHTML = docLinkHtml;\n",
              "          element.appendChild(docLink);\n",
              "        }\n",
              "      </script>\n",
              "    </div>\n",
              "  </div>\n",
              "  "
            ]
          },
          "metadata": {},
          "execution_count": 81
        }
      ]
    },
    {
      "cell_type": "code",
      "source": [
        "print(elon_df[\"replies_count\"]);"
      ],
      "metadata": {
        "id": "OnVMXwg9oo2_",
        "colab": {
          "base_uri": "https://localhost:8080/"
        },
        "outputId": "f384e2e9-6f66-4bdb-f0b5-09d0cdb36a8a"
      },
      "execution_count": null,
      "outputs": [
        {
          "output_type": "stream",
          "name": "stdout",
          "text": [
            "0         640\n",
            "1        2464\n",
            "2         115\n",
            "3        8437\n",
            "4         446\n",
            "         ... \n",
            "12557     142\n",
            "12558     283\n",
            "12559     598\n",
            "12560     374\n",
            "12561    1289\n",
            "Name: replies_count, Length: 12562, dtype: int64\n"
          ]
        }
      ]
    },
    {
      "cell_type": "code",
      "source": [
        "print(elon_df[\"retweet_date\"]);"
      ],
      "metadata": {
        "id": "SGwHUFz8o0p5",
        "colab": {
          "base_uri": "https://localhost:8080/"
        },
        "outputId": "8ab7252d-dff5-4db9-f7f9-74fded421479"
      },
      "execution_count": null,
      "outputs": [
        {
          "output_type": "stream",
          "name": "stdout",
          "text": [
            "0       NaN\n",
            "1       NaN\n",
            "2       NaN\n",
            "3       NaN\n",
            "4       NaN\n",
            "         ..\n",
            "12557   NaN\n",
            "12558   NaN\n",
            "12559   NaN\n",
            "12560   NaN\n",
            "12561   NaN\n",
            "Name: retweet_date, Length: 12562, dtype: float64\n"
          ]
        }
      ]
    },
    {
      "cell_type": "code",
      "source": [
        "print(elon_df[\"retweets_count\"]);"
      ],
      "metadata": {
        "id": "aO8WQpxCpCXB",
        "colab": {
          "base_uri": "https://localhost:8080/"
        },
        "outputId": "a8c76e7b-572f-4b2b-9494-439bfe052638"
      },
      "execution_count": null,
      "outputs": [
        {
          "output_type": "stream",
          "name": "stdout",
          "text": [
            "0          444\n",
            "1         1517\n",
            "2           48\n",
            "3        10329\n",
            "4          542\n",
            "         ...  \n",
            "12557      102\n",
            "12558      270\n",
            "12559     1158\n",
            "12560      204\n",
            "12561     1192\n",
            "Name: retweets_count, Length: 12562, dtype: int64\n"
          ]
        }
      ]
    },
    {
      "cell_type": "code",
      "source": [
        "print(elon_df[\"time\"]);"
      ],
      "metadata": {
        "id": "UsC7Og_HpRco",
        "colab": {
          "base_uri": "https://localhost:8080/"
        },
        "outputId": "c8c9f3cc-a916-4a3f-b849-a21ad4e7f17c"
      },
      "execution_count": null,
      "outputs": [
        {
          "output_type": "stream",
          "name": "stdout",
          "text": [
            "0        -54967\n",
            "1        -55142\n",
            "2        -65062\n",
            "3        -87651\n",
            "4       -148153\n",
            "          ...  \n",
            "12557   -124686\n",
            "12558   -134955\n",
            "12559   -135175\n",
            "12560   -205855\n",
            "12561    -17489\n",
            "Name: time, Length: 12562, dtype: int64\n"
          ]
        }
      ]
    },
    {
      "cell_type": "code",
      "source": [
        "all_df.mean()"
      ],
      "metadata": {
        "id": "APzfKoSQxBc9",
        "colab": {
          "base_uri": "https://localhost:8080/"
        },
        "outputId": "25077225-1556-4e89-d964-938101e23739"
      },
      "execution_count": null,
      "outputs": [
        {
          "output_type": "execute_result",
          "data": {
            "text/plain": [
              "Open         1.176866e+04\n",
              "High         1.208290e+04\n",
              "Low          1.142523e+04\n",
              "Close        1.178373e+04\n",
              "Adj Close    1.178373e+04\n",
              "Volume       1.489443e+10\n",
              "dtype: float64"
            ]
          },
          "metadata": {},
          "execution_count": 86
        }
      ]
    },
    {
      "cell_type": "code",
      "source": [
        "elon_df[\"time\"].mean()\n",
        "elon_df[\"replies_count\"].mean()\n",
        "elon_df[\"retweet_date\"].mean()\n",
        "elon_df[\"retweets_count\"].mean()"
      ],
      "metadata": {
        "id": "IXwRSPzlrv7J",
        "colab": {
          "base_uri": "https://localhost:8080/"
        },
        "outputId": "e98d04af-36d8-4e80-8090-e3bd822f66f1"
      },
      "execution_count": null,
      "outputs": [
        {
          "output_type": "execute_result",
          "data": {
            "text/plain": [
              "2256.7271931221144"
            ]
          },
          "metadata": {},
          "execution_count": 87
        }
      ]
    },
    {
      "cell_type": "code",
      "source": [
        "all_df.var()"
      ],
      "metadata": {
        "id": "NE9HPV5ZxJIm",
        "colab": {
          "base_uri": "https://localhost:8080/"
        },
        "outputId": "c630a7d4-1d1a-4f13-b1d4-14eb834c1f08"
      },
      "execution_count": null,
      "outputs": [
        {
          "output_type": "execute_result",
          "data": {
            "text/plain": [
              "Open         2.691317e+08\n",
              "High         2.836342e+08\n",
              "Low          2.531349e+08\n",
              "Close        2.693955e+08\n",
              "Adj Close    2.693955e+08\n",
              "Volume       3.976594e+20\n",
              "dtype: float64"
            ]
          },
          "metadata": {},
          "execution_count": 88
        }
      ]
    },
    {
      "cell_type": "code",
      "source": [
        "elon_df[\"time\"].var()"
      ],
      "metadata": {
        "id": "Zj3nz_s_r6Vq",
        "colab": {
          "base_uri": "https://localhost:8080/"
        },
        "outputId": "d58b3cbd-b28f-4ff0-936d-ae11b89e9c75"
      },
      "execution_count": null,
      "outputs": [
        {
          "output_type": "execute_result",
          "data": {
            "text/plain": [
              "6242431696.497254"
            ]
          },
          "metadata": {},
          "execution_count": 89
        }
      ]
    },
    {
      "cell_type": "code",
      "source": [
        "elon_df[\"replies_count\"].var()"
      ],
      "metadata": {
        "id": "4tejfmBds3iT",
        "colab": {
          "base_uri": "https://localhost:8080/"
        },
        "outputId": "15dcd882-dbc3-46b4-df91-8791cc72a7d0"
      },
      "execution_count": null,
      "outputs": [
        {
          "output_type": "execute_result",
          "data": {
            "text/plain": [
              "6021398.289803184"
            ]
          },
          "metadata": {},
          "execution_count": 90
        }
      ]
    },
    {
      "cell_type": "code",
      "source": [
        "elon_df[\"retweet_date\"].var()"
      ],
      "metadata": {
        "id": "hozzEn0cs3Le",
        "colab": {
          "base_uri": "https://localhost:8080/"
        },
        "outputId": "8e016dfc-dcf9-4ced-eebc-46b3c2ff3a78"
      },
      "execution_count": null,
      "outputs": [
        {
          "output_type": "execute_result",
          "data": {
            "text/plain": [
              "nan"
            ]
          },
          "metadata": {},
          "execution_count": 91
        }
      ]
    },
    {
      "cell_type": "code",
      "source": [
        "elon_df[\"retweets_count\"].var()"
      ],
      "metadata": {
        "id": "C9CXaLyZs7G5",
        "colab": {
          "base_uri": "https://localhost:8080/"
        },
        "outputId": "941b50f0-182c-4c65-8ce8-401c874d79c3"
      },
      "execution_count": null,
      "outputs": [
        {
          "output_type": "execute_result",
          "data": {
            "text/plain": [
              "95910341.26248547"
            ]
          },
          "metadata": {},
          "execution_count": 92
        }
      ]
    },
    {
      "cell_type": "code",
      "source": [
        "all_df.hist(figsize=(20, 20))\n",
        "plt.show()"
      ],
      "metadata": {
        "id": "NHfzMrPlxRlX",
        "colab": {
          "base_uri": "https://localhost:8080/"
        },
        "outputId": "dfc99a09-ed4d-4a84-de71-0930efcd0791"
      },
      "execution_count": null,
      "outputs": [
        {
          "output_type": "display_data",
          "data": {
            "text/plain": [
              "<Figure size 1440x1440 with 6 Axes>"
            ],
            "image/png": "[encoded data removed]"
          },
          "metadata": {
            "needs_background": "light"
          }
        }
      ]
    },
    {
      "cell_type": "code",
      "source": [
        "elon_df[\"time\"].hist(figsize=(10, 10))\n",
        "plt.show()\n",
        "elon_df[\"replies_count\"].hist(figsize=(10, 10))\n",
        "plt.show()\n",
        "elon_df[\"retweet_date\"].hist(figsize=(10, 10))\n",
        "plt.show()\n",
        "elon_df[\"retweets_count\"].hist(figsize=(10, 10))\n",
        "plt.show()"
      ],
      "metadata": {
        "id": "7mUMVgC8sE82",
        "colab": {
          "base_uri": "https://localhost:8080/"
        },
        "outputId": "c09d88ea-f6d4-4e35-a63e-b2e0e1bf2224"
      },
      "execution_count": null,
      "outputs": [
        {
          "output_type": "display_data",
          "data": {
            "text/plain": [
              "<Figure size 720x720 with 1 Axes>"
            ],
            "image/png": "[encoded data removed]"
          },
          "metadata": {
            "needs_background": "light"
          }
        },
        {
          "output_type": "display_data",
          "data": {
            "text/plain": [
              "<Figure size 720x720 with 1 Axes>"
            ],
            "image/png": "[encoded data removed]"
          },
          "metadata": {
            "needs_background": "light"
          }
        },
        {
          "output_type": "display_data",
          "data": {
            "text/plain": [
              "<Figure size 720x720 with 1 Axes>"
            ],
            "image/png": "[encoded data removed]"
          },
          "metadata": {
            "needs_background": "light"
          }
        },
        {
          "output_type": "display_data",
          "data": {
            "text/plain": [
              "<Figure size 720x720 with 1 Axes>"
            ],
            "image/png": "[encoded data removed]"
          },
          "metadata": {
            "needs_background": "light"
          }
        }
      ]
    },
    {
      "cell_type": "markdown",
      "source": [
        "# <font color=\"pink\">\n",
        "Analysis of Features\n",
        "</font>\n",
        "\n",
        "Here is an analysis of High and Low Prices with respect to time. The time is terms of years, and to see the fluctuations we will be checking the difference.\n",
        "\n",
        "\n",
        "We have duplicated our data in order to preserve the main dataset. In the High and Low Price analysis, we will be using the data from \"dataforHighandLow\".\n",
        "\n",
        "\n"
      ],
      "metadata": {
        "id": "EO5rH_beyU3t"
      }
    },
    {
      "cell_type": "code",
      "source": [
        "dataforHighandLow = all_df\n",
        "dataforHighandLow\n"
      ],
      "metadata": {
        "id": "QBlonQSJyUQO",
        "colab": {
          "base_uri": "https://localhost:8080/",
          "height": 661
        },
        "outputId": "b165f4cb-7a1b-4c4e-9e09-9cd7b259cdc2"
      },
      "execution_count": null,
      "outputs": [
        {
          "output_type": "execute_result",
          "data": {
            "text/plain": [
              "            Date          Open          High           Low         Close  \\\n",
              "0     2014-09-17    465.864014    468.174011    452.421997    457.334015   \n",
              "1     2014-09-18    456.859985    456.859985    413.104004    424.440002   \n",
              "2     2014-09-19    424.102997    427.834991    384.532013    394.795990   \n",
              "3     2014-09-20    394.673004    423.295990    389.882996    408.903992   \n",
              "4     2014-09-21    408.084991    412.425995    393.181000    398.821014   \n",
              "...          ...           ...           ...           ...           ...   \n",
              "2750  2022-03-29  47100.437500  48022.289063  47100.437500  47465.730469   \n",
              "2751  2022-03-30  47456.898438  47655.148438  46746.210938  47062.664063   \n",
              "2752  2022-03-31  47062.148438  47512.027344  45390.539063  45538.675781   \n",
              "2753  2022-04-01  45554.164063  46616.242188  44403.140625  46281.644531   \n",
              "2754  2022-04-02  46168.101563  47003.429688  46157.980469  46508.101563   \n",
              "\n",
              "         Adj Close       Volume  \n",
              "0       457.334015     21056800  \n",
              "1       424.440002     34483200  \n",
              "2       394.795990     37919700  \n",
              "3       408.903992     36863600  \n",
              "4       398.821014     26580100  \n",
              "...            ...          ...  \n",
              "2750  47465.730469  31397059069  \n",
              "2751  47062.664063  29333883962  \n",
              "2752  45538.675781  33327427106  \n",
              "2753  46281.644531  38162644287  \n",
              "2754  46508.101563  35441143808  \n",
              "\n",
              "[2755 rows x 7 columns]"
            ],
            "text/html": [
              "\n",
              "  <div id=\"df-a01cdf5a-a5c4-4b54-bf95-83974075d2e6\">\n",
              "    <div class=\"colab-df-container\">\n",
              "      <div>\n",
              "<style scoped>\n",
              "    .dataframe tbody tr th:only-of-type {\n",
              "        vertical-align: middle;\n",
              "    }\n",
              "\n",
              "    .dataframe tbody tr th {\n",
              "        vertical-align: top;\n",
              "    }\n",
              "\n",
              "    .dataframe thead th {\n",
              "        text-align: right;\n",
              "    }\n",
              "</style>\n",
              "<table border=\"1\" class=\"dataframe\">\n",
              "  <thead>\n",
              "    <tr style=\"text-align: right;\">\n",
              "      <th></th>\n",
              "      <th>Date</th>\n",
              "      <th>Open</th>\n",
              "      <th>High</th>\n",
              "      <th>Low</th>\n",
              "      <th>Close</th>\n",
              "      <th>Adj Close</th>\n",
              "      <th>Volume</th>\n",
              "    </tr>\n",
              "  </thead>\n",
              "  <tbody>\n",
              "    <tr>\n",
              "      <th>0</th>\n",
              "      <td>2014-09-17</td>\n",
              "      <td>465.864014</td>\n",
              "      <td>468.174011</td>\n",
              "      <td>452.421997</td>\n",
              "      <td>457.334015</td>\n",
              "      <td>457.334015</td>\n",
              "      <td>21056800</td>\n",
              "    </tr>\n",
              "    <tr>\n",
              "      <th>1</th>\n",
              "      <td>2014-09-18</td>\n",
              "      <td>456.859985</td>\n",
              "      <td>456.859985</td>\n",
              "      <td>413.104004</td>\n",
              "      <td>424.440002</td>\n",
              "      <td>424.440002</td>\n",
              "      <td>34483200</td>\n",
              "    </tr>\n",
              "    <tr>\n",
              "      <th>2</th>\n",
              "      <td>2014-09-19</td>\n",
              "      <td>424.102997</td>\n",
              "      <td>427.834991</td>\n",
              "      <td>384.532013</td>\n",
              "      <td>394.795990</td>\n",
              "      <td>394.795990</td>\n",
              "      <td>37919700</td>\n",
              "    </tr>\n",
              "    <tr>\n",
              "      <th>3</th>\n",
              "      <td>2014-09-20</td>\n",
              "      <td>394.673004</td>\n",
              "      <td>423.295990</td>\n",
              "      <td>389.882996</td>\n",
              "      <td>408.903992</td>\n",
              "      <td>408.903992</td>\n",
              "      <td>36863600</td>\n",
              "    </tr>\n",
              "    <tr>\n",
              "      <th>4</th>\n",
              "      <td>2014-09-21</td>\n",
              "      <td>408.084991</td>\n",
              "      <td>412.425995</td>\n",
              "      <td>393.181000</td>\n",
              "      <td>398.821014</td>\n",
              "      <td>398.821014</td>\n",
              "      <td>26580100</td>\n",
              "    </tr>\n",
              "    <tr>\n",
              "      <th>...</th>\n",
              "      <td>...</td>\n",
              "      <td>...</td>\n",
              "      <td>...</td>\n",
              "      <td>...</td>\n",
              "      <td>...</td>\n",
              "      <td>...</td>\n",
              "      <td>...</td>\n",
              "    </tr>\n",
              "    <tr>\n",
              "      <th>2750</th>\n",
              "      <td>2022-03-29</td>\n",
              "      <td>47100.437500</td>\n",
              "      <td>48022.289063</td>\n",
              "      <td>47100.437500</td>\n",
              "      <td>47465.730469</td>\n",
              "      <td>47465.730469</td>\n",
              "      <td>31397059069</td>\n",
              "    </tr>\n",
              "    <tr>\n",
              "      <th>2751</th>\n",
              "      <td>2022-03-30</td>\n",
              "      <td>47456.898438</td>\n",
              "      <td>47655.148438</td>\n",
              "      <td>46746.210938</td>\n",
              "      <td>47062.664063</td>\n",
              "      <td>47062.664063</td>\n",
              "      <td>29333883962</td>\n",
              "    </tr>\n",
              "    <tr>\n",
              "      <th>2752</th>\n",
              "      <td>2022-03-31</td>\n",
              "      <td>47062.148438</td>\n",
              "      <td>47512.027344</td>\n",
              "      <td>45390.539063</td>\n",
              "      <td>45538.675781</td>\n",
              "      <td>45538.675781</td>\n",
              "      <td>33327427106</td>\n",
              "    </tr>\n",
              "    <tr>\n",
              "      <th>2753</th>\n",
              "      <td>2022-04-01</td>\n",
              "      <td>45554.164063</td>\n",
              "      <td>46616.242188</td>\n",
              "      <td>44403.140625</td>\n",
              "      <td>46281.644531</td>\n",
              "      <td>46281.644531</td>\n",
              "      <td>38162644287</td>\n",
              "    </tr>\n",
              "    <tr>\n",
              "      <th>2754</th>\n",
              "      <td>2022-04-02</td>\n",
              "      <td>46168.101563</td>\n",
              "      <td>47003.429688</td>\n",
              "      <td>46157.980469</td>\n",
              "      <td>46508.101563</td>\n",
              "      <td>46508.101563</td>\n",
              "      <td>35441143808</td>\n",
              "    </tr>\n",
              "  </tbody>\n",
              "</table>\n",
              "<p>2755 rows × 7 columns</p>\n",
              "</div>\n",
              "      <button class=\"colab-df-convert\" onclick=\"convertToInteractive('df-a01cdf5a-a5c4-4b54-bf95-83974075d2e6')\"\n",
              "              title=\"Convert this dataframe to an interactive table.\"\n",
              "              style=\"display:none;\">\n",
              "        \n",
              "  <svg xmlns=\"http://www.w3.org/2000/svg\" height=\"24px\"viewBox=\"0 0 24 24\"\n",
              "       width=\"24px\">\n",
              "    <path d=\"M0 0h24v24H0V0z\" fill=\"none\"/>\n",
              "    <path d=\"M18.56 5.44l.94 2.06.94-2.06 2.06-.94-2.06-.94-.94-2.06-.94 2.06-2.06.94zm-11 1L8.5 8.5l.94-2.06 2.06-.94-2.06-.94L8.5 2.5l-.94 2.06-2.06.94zm10 10l.94 2.06.94-2.06 2.06-.94-2.06-.94-.94-2.06-.94 2.06-2.06.94z\"/><path d=\"M17.41 7.96l-1.37-1.37c-.4-.4-.92-.59-1.43-.59-.52 0-1.04.2-1.43.59L10.3 9.45l-7.72 7.72c-.78.78-.78 2.05 0 2.83L4 21.41c.39.39.9.59 1.41.59.51 0 1.02-.2 1.41-.59l7.78-7.78 2.81-2.81c.8-.78.8-2.07 0-2.86zM5.41 20L4 18.59l7.72-7.72 1.47 1.35L5.41 20z\"/>\n",
              "  </svg>\n",
              "      </button>\n",
              "      \n",
              "  <style>\n",
              "    .colab-df-container {\n",
              "      display:flex;\n",
              "      flex-wrap:wrap;\n",
              "      gap: 12px;\n",
              "    }\n",
              "\n",
              "    .colab-df-convert {\n",
              "      background-color: #E8F0FE;\n",
              "      border: none;\n",
              "      border-radius: 50%;\n",
              "      cursor: pointer;\n",
              "      display: none;\n",
              "      fill: #1967D2;\n",
              "      height: 32px;\n",
              "      padding: 0 0 0 0;\n",
              "      width: 32px;\n",
              "    }\n",
              "\n",
              "    .colab-df-convert:hover {\n",
              "      background-color: #E2EBFA;\n",
              "      box-shadow: 0px 1px 2px rgba(60, 64, 67, 0.3), 0px 1px 3px 1px rgba(60, 64, 67, 0.15);\n",
              "      fill: #174EA6;\n",
              "    }\n",
              "\n",
              "    [theme=dark] .colab-df-convert {\n",
              "      background-color: #3B4455;\n",
              "      fill: #D2E3FC;\n",
              "    }\n",
              "\n",
              "    [theme=dark] .colab-df-convert:hover {\n",
              "      background-color: #434B5C;\n",
              "      box-shadow: 0px 1px 3px 1px rgba(0, 0, 0, 0.15);\n",
              "      filter: drop-shadow(0px 1px 2px rgba(0, 0, 0, 0.3));\n",
              "      fill: #FFFFFF;\n",
              "    }\n",
              "  </style>\n",
              "\n",
              "      <script>\n",
              "        const buttonEl =\n",
              "          document.querySelector('#df-a01cdf5a-a5c4-4b54-bf95-83974075d2e6 button.colab-df-convert');\n",
              "        buttonEl.style.display =\n",
              "          google.colab.kernel.accessAllowed ? 'block' : 'none';\n",
              "\n",
              "        async function convertToInteractive(key) {\n",
              "          const element = document.querySelector('#df-a01cdf5a-a5c4-4b54-bf95-83974075d2e6');\n",
              "          const dataTable =\n",
              "            await google.colab.kernel.invokeFunction('convertToInteractive',\n",
              "                                                     [key], {});\n",
              "          if (!dataTable) return;\n",
              "\n",
              "          const docLinkHtml = 'Like what you see? Visit the ' +\n",
              "            '<a target=\"_blank\" href=https://colab.research.google.com/notebooks/data_table.ipynb>data table notebook</a>'\n",
              "            + ' to learn more about interactive tables.';\n",
              "          element.innerHTML = '';\n",
              "          dataTable['output_type'] = 'display_data';\n",
              "          await google.colab.output.renderOutput(dataTable, element);\n",
              "          const docLink = document.createElement('div');\n",
              "          docLink.innerHTML = docLinkHtml;\n",
              "          element.appendChild(docLink);\n",
              "        }\n",
              "      </script>\n",
              "    </div>\n",
              "  </div>\n",
              "  "
            ]
          },
          "metadata": {},
          "execution_count": 95
        }
      ]
    },
    {
      "cell_type": "markdown",
      "source": [
        "<font color=\"white\">\n",
        "We are looking at the difference between the highest and lowest values, in order to understand the fluctuation of the currency throughout the years. The difference is added to the data as a column later on.<br>\n",
        "</font>"
      ],
      "metadata": {
        "id": "hzzH4doM38Ko"
      }
    },
    {
      "cell_type": "code",
      "source": [
        "HighLowDifference = dataforHighandLow[\"High\"] - dataforHighandLow[\"Low\"]\n",
        "HighLowDifference"
      ],
      "metadata": {
        "id": "N84DutwX03xk",
        "colab": {
          "base_uri": "https://localhost:8080/"
        },
        "outputId": "c87954fb-d003-44a3-9c1c-de4f7fd3f65d"
      },
      "execution_count": null,
      "outputs": [
        {
          "output_type": "execute_result",
          "data": {
            "text/plain": [
              "0         15.752014\n",
              "1         43.755981\n",
              "2         43.302978\n",
              "3         33.412994\n",
              "4         19.244995\n",
              "           ...     \n",
              "2750     921.851563\n",
              "2751     908.937500\n",
              "2752    2121.488281\n",
              "2753    2213.101563\n",
              "2754     845.449219\n",
              "Length: 2755, dtype: float64"
            ]
          },
          "metadata": {},
          "execution_count": 96
        }
      ]
    },
    {
      "cell_type": "code",
      "source": [
        "dataforHighandLow[\"High-Low Difference\"] = HighLowDifference\n",
        "dataforHighandLow"
      ],
      "metadata": {
        "id": "mNeDT_yo1F6p",
        "colab": {
          "base_uri": "https://localhost:8080/",
          "height": 678
        },
        "outputId": "fe72bfa3-2aac-4c59-f5b6-5a5474c81ce6"
      },
      "execution_count": null,
      "outputs": [
        {
          "output_type": "execute_result",
          "data": {
            "text/plain": [
              "            Date          Open          High           Low         Close  \\\n",
              "0     2014-09-17    465.864014    468.174011    452.421997    457.334015   \n",
              "1     2014-09-18    456.859985    456.859985    413.104004    424.440002   \n",
              "2     2014-09-19    424.102997    427.834991    384.532013    394.795990   \n",
              "3     2014-09-20    394.673004    423.295990    389.882996    408.903992   \n",
              "4     2014-09-21    408.084991    412.425995    393.181000    398.821014   \n",
              "...          ...           ...           ...           ...           ...   \n",
              "2750  2022-03-29  47100.437500  48022.289063  47100.437500  47465.730469   \n",
              "2751  2022-03-30  47456.898438  47655.148438  46746.210938  47062.664063   \n",
              "2752  2022-03-31  47062.148438  47512.027344  45390.539063  45538.675781   \n",
              "2753  2022-04-01  45554.164063  46616.242188  44403.140625  46281.644531   \n",
              "2754  2022-04-02  46168.101563  47003.429688  46157.980469  46508.101563   \n",
              "\n",
              "         Adj Close       Volume  High-Low Difference  \n",
              "0       457.334015     21056800            15.752014  \n",
              "1       424.440002     34483200            43.755981  \n",
              "2       394.795990     37919700            43.302978  \n",
              "3       408.903992     36863600            33.412994  \n",
              "4       398.821014     26580100            19.244995  \n",
              "...            ...          ...                  ...  \n",
              "2750  47465.730469  31397059069           921.851563  \n",
              "2751  47062.664063  29333883962           908.937500  \n",
              "2752  45538.675781  33327427106          2121.488281  \n",
              "2753  46281.644531  38162644287          2213.101563  \n",
              "2754  46508.101563  35441143808           845.449219  \n",
              "\n",
              "[2755 rows x 8 columns]"
            ],
            "text/html": [
              "\n",
              "  <div id=\"df-66b3a8b1-d3b1-4642-baf1-ed8b7ec42129\">\n",
              "    <div class=\"colab-df-container\">\n",
              "      <div>\n",
              "<style scoped>\n",
              "    .dataframe tbody tr th:only-of-type {\n",
              "        vertical-align: middle;\n",
              "    }\n",
              "\n",
              "    .dataframe tbody tr th {\n",
              "        vertical-align: top;\n",
              "    }\n",
              "\n",
              "    .dataframe thead th {\n",
              "        text-align: right;\n",
              "    }\n",
              "</style>\n",
              "<table border=\"1\" class=\"dataframe\">\n",
              "  <thead>\n",
              "    <tr style=\"text-align: right;\">\n",
              "      <th></th>\n",
              "      <th>Date</th>\n",
              "      <th>Open</th>\n",
              "      <th>High</th>\n",
              "      <th>Low</th>\n",
              "      <th>Close</th>\n",
              "      <th>Adj Close</th>\n",
              "      <th>Volume</th>\n",
              "      <th>High-Low Difference</th>\n",
              "    </tr>\n",
              "  </thead>\n",
              "  <tbody>\n",
              "    <tr>\n",
              "      <th>0</th>\n",
              "      <td>2014-09-17</td>\n",
              "      <td>465.864014</td>\n",
              "      <td>468.174011</td>\n",
              "      <td>452.421997</td>\n",
              "      <td>457.334015</td>\n",
              "      <td>457.334015</td>\n",
              "      <td>21056800</td>\n",
              "      <td>15.752014</td>\n",
              "    </tr>\n",
              "    <tr>\n",
              "      <th>1</th>\n",
              "      <td>2014-09-18</td>\n",
              "      <td>456.859985</td>\n",
              "      <td>456.859985</td>\n",
              "      <td>413.104004</td>\n",
              "      <td>424.440002</td>\n",
              "      <td>424.440002</td>\n",
              "      <td>34483200</td>\n",
              "      <td>43.755981</td>\n",
              "    </tr>\n",
              "    <tr>\n",
              "      <th>2</th>\n",
              "      <td>2014-09-19</td>\n",
              "      <td>424.102997</td>\n",
              "      <td>427.834991</td>\n",
              "      <td>384.532013</td>\n",
              "      <td>394.795990</td>\n",
              "      <td>394.795990</td>\n",
              "      <td>37919700</td>\n",
              "      <td>43.302978</td>\n",
              "    </tr>\n",
              "    <tr>\n",
              "      <th>3</th>\n",
              "      <td>2014-09-20</td>\n",
              "      <td>394.673004</td>\n",
              "      <td>423.295990</td>\n",
              "      <td>389.882996</td>\n",
              "      <td>408.903992</td>\n",
              "      <td>408.903992</td>\n",
              "      <td>36863600</td>\n",
              "      <td>33.412994</td>\n",
              "    </tr>\n",
              "    <tr>\n",
              "      <th>4</th>\n",
              "      <td>2014-09-21</td>\n",
              "      <td>408.084991</td>\n",
              "      <td>412.425995</td>\n",
              "      <td>393.181000</td>\n",
              "      <td>398.821014</td>\n",
              "      <td>398.821014</td>\n",
              "      <td>26580100</td>\n",
              "      <td>19.244995</td>\n",
              "    </tr>\n",
              "    <tr>\n",
              "      <th>...</th>\n",
              "      <td>...</td>\n",
              "      <td>...</td>\n",
              "      <td>...</td>\n",
              "      <td>...</td>\n",
              "      <td>...</td>\n",
              "      <td>...</td>\n",
              "      <td>...</td>\n",
              "      <td>...</td>\n",
              "    </tr>\n",
              "    <tr>\n",
              "      <th>2750</th>\n",
              "      <td>2022-03-29</td>\n",
              "      <td>47100.437500</td>\n",
              "      <td>48022.289063</td>\n",
              "      <td>47100.437500</td>\n",
              "      <td>47465.730469</td>\n",
              "      <td>47465.730469</td>\n",
              "      <td>31397059069</td>\n",
              "      <td>921.851563</td>\n",
              "    </tr>\n",
              "    <tr>\n",
              "      <th>2751</th>\n",
              "      <td>2022-03-30</td>\n",
              "      <td>47456.898438</td>\n",
              "      <td>47655.148438</td>\n",
              "      <td>46746.210938</td>\n",
              "      <td>47062.664063</td>\n",
              "      <td>47062.664063</td>\n",
              "      <td>29333883962</td>\n",
              "      <td>908.937500</td>\n",
              "    </tr>\n",
              "    <tr>\n",
              "      <th>2752</th>\n",
              "      <td>2022-03-31</td>\n",
              "      <td>47062.148438</td>\n",
              "      <td>47512.027344</td>\n",
              "      <td>45390.539063</td>\n",
              "      <td>45538.675781</td>\n",
              "      <td>45538.675781</td>\n",
              "      <td>33327427106</td>\n",
              "      <td>2121.488281</td>\n",
              "    </tr>\n",
              "    <tr>\n",
              "      <th>2753</th>\n",
              "      <td>2022-04-01</td>\n",
              "      <td>45554.164063</td>\n",
              "      <td>46616.242188</td>\n",
              "      <td>44403.140625</td>\n",
              "      <td>46281.644531</td>\n",
              "      <td>46281.644531</td>\n",
              "      <td>38162644287</td>\n",
              "      <td>2213.101563</td>\n",
              "    </tr>\n",
              "    <tr>\n",
              "      <th>2754</th>\n",
              "      <td>2022-04-02</td>\n",
              "      <td>46168.101563</td>\n",
              "      <td>47003.429688</td>\n",
              "      <td>46157.980469</td>\n",
              "      <td>46508.101563</td>\n",
              "      <td>46508.101563</td>\n",
              "      <td>35441143808</td>\n",
              "      <td>845.449219</td>\n",
              "    </tr>\n",
              "  </tbody>\n",
              "</table>\n",
              "<p>2755 rows × 8 columns</p>\n",
              "</div>\n",
              "      <button class=\"colab-df-convert\" onclick=\"convertToInteractive('df-66b3a8b1-d3b1-4642-baf1-ed8b7ec42129')\"\n",
              "              title=\"Convert this dataframe to an interactive table.\"\n",
              "              style=\"display:none;\">\n",
              "        \n",
              "  <svg xmlns=\"http://www.w3.org/2000/svg\" height=\"24px\"viewBox=\"0 0 24 24\"\n",
              "       width=\"24px\">\n",
              "    <path d=\"M0 0h24v24H0V0z\" fill=\"none\"/>\n",
              "    <path d=\"M18.56 5.44l.94 2.06.94-2.06 2.06-.94-2.06-.94-.94-2.06-.94 2.06-2.06.94zm-11 1L8.5 8.5l.94-2.06 2.06-.94-2.06-.94L8.5 2.5l-.94 2.06-2.06.94zm10 10l.94 2.06.94-2.06 2.06-.94-2.06-.94-.94-2.06-.94 2.06-2.06.94z\"/><path d=\"M17.41 7.96l-1.37-1.37c-.4-.4-.92-.59-1.43-.59-.52 0-1.04.2-1.43.59L10.3 9.45l-7.72 7.72c-.78.78-.78 2.05 0 2.83L4 21.41c.39.39.9.59 1.41.59.51 0 1.02-.2 1.41-.59l7.78-7.78 2.81-2.81c.8-.78.8-2.07 0-2.86zM5.41 20L4 18.59l7.72-7.72 1.47 1.35L5.41 20z\"/>\n",
              "  </svg>\n",
              "      </button>\n",
              "      \n",
              "  <style>\n",
              "    .colab-df-container {\n",
              "      display:flex;\n",
              "      flex-wrap:wrap;\n",
              "      gap: 12px;\n",
              "    }\n",
              "\n",
              "    .colab-df-convert {\n",
              "      background-color: #E8F0FE;\n",
              "      border: none;\n",
              "      border-radius: 50%;\n",
              "      cursor: pointer;\n",
              "      display: none;\n",
              "      fill: #1967D2;\n",
              "      height: 32px;\n",
              "      padding: 0 0 0 0;\n",
              "      width: 32px;\n",
              "    }\n",
              "\n",
              "    .colab-df-convert:hover {\n",
              "      background-color: #E2EBFA;\n",
              "      box-shadow: 0px 1px 2px rgba(60, 64, 67, 0.3), 0px 1px 3px 1px rgba(60, 64, 67, 0.15);\n",
              "      fill: #174EA6;\n",
              "    }\n",
              "\n",
              "    [theme=dark] .colab-df-convert {\n",
              "      background-color: #3B4455;\n",
              "      fill: #D2E3FC;\n",
              "    }\n",
              "\n",
              "    [theme=dark] .colab-df-convert:hover {\n",
              "      background-color: #434B5C;\n",
              "      box-shadow: 0px 1px 3px 1px rgba(0, 0, 0, 0.15);\n",
              "      filter: drop-shadow(0px 1px 2px rgba(0, 0, 0, 0.3));\n",
              "      fill: #FFFFFF;\n",
              "    }\n",
              "  </style>\n",
              "\n",
              "      <script>\n",
              "        const buttonEl =\n",
              "          document.querySelector('#df-66b3a8b1-d3b1-4642-baf1-ed8b7ec42129 button.colab-df-convert');\n",
              "        buttonEl.style.display =\n",
              "          google.colab.kernel.accessAllowed ? 'block' : 'none';\n",
              "\n",
              "        async function convertToInteractive(key) {\n",
              "          const element = document.querySelector('#df-66b3a8b1-d3b1-4642-baf1-ed8b7ec42129');\n",
              "          const dataTable =\n",
              "            await google.colab.kernel.invokeFunction('convertToInteractive',\n",
              "                                                     [key], {});\n",
              "          if (!dataTable) return;\n",
              "\n",
              "          const docLinkHtml = 'Like what you see? Visit the ' +\n",
              "            '<a target=\"_blank\" href=https://colab.research.google.com/notebooks/data_table.ipynb>data table notebook</a>'\n",
              "            + ' to learn more about interactive tables.';\n",
              "          element.innerHTML = '';\n",
              "          dataTable['output_type'] = 'display_data';\n",
              "          await google.colab.output.renderOutput(dataTable, element);\n",
              "          const docLink = document.createElement('div');\n",
              "          docLink.innerHTML = docLinkHtml;\n",
              "          element.appendChild(docLink);\n",
              "        }\n",
              "      </script>\n",
              "    </div>\n",
              "  </div>\n",
              "  "
            ]
          },
          "metadata": {},
          "execution_count": 97
        }
      ]
    },
    {
      "cell_type": "markdown",
      "source": [
        "The date is simplified at this point in order to simplify the time portion of the data. In order to do a better visualisation of high and low prices and fluctuations, we are using years.\n",
        "\n",
        "In order to plot the graph, we changed the year variable type from a string to a numeric value, integer.\n",
        "\n",
        "\n",
        "\n"
      ],
      "metadata": {
        "id": "Y_ED4Y6b4lAM"
      }
    },
    {
      "cell_type": "code",
      "source": [
        "dataforHighandLow[\"Date\"] = dataforHighandLow[\"Date\"].str[:-3]\n",
        "dataforHighandLow[\"Date\"] = dataforHighandLow[\"Date\"].replace(\"-\",\".\",regex=True)\n",
        "\n",
        "dataforHighandLow"
      ],
      "metadata": {
        "id": "OhDZfC6h1p0p",
        "colab": {
          "base_uri": "https://localhost:8080/",
          "height": 505
        },
        "outputId": "35e0f3ed-8094-4608-bb89-069b511c2d47"
      },
      "execution_count": null,
      "outputs": [
        {
          "output_type": "execute_result",
          "data": {
            "text/plain": [
              "         Date          Open          High           Low         Close  \\\n",
              "0     2014.09    465.864014    468.174011    452.421997    457.334015   \n",
              "1     2014.09    456.859985    456.859985    413.104004    424.440002   \n",
              "2     2014.09    424.102997    427.834991    384.532013    394.795990   \n",
              "3     2014.09    394.673004    423.295990    389.882996    408.903992   \n",
              "4     2014.09    408.084991    412.425995    393.181000    398.821014   \n",
              "...       ...           ...           ...           ...           ...   \n",
              "2750  2022.03  47100.437500  48022.289063  47100.437500  47465.730469   \n",
              "2751  2022.03  47456.898438  47655.148438  46746.210938  47062.664063   \n",
              "2752  2022.03  47062.148438  47512.027344  45390.539063  45538.675781   \n",
              "2753  2022.04  45554.164063  46616.242188  44403.140625  46281.644531   \n",
              "2754  2022.04  46168.101563  47003.429688  46157.980469  46508.101563   \n",
              "\n",
              "         Adj Close       Volume  High-Low Difference  \n",
              "0       457.334015     21056800            15.752014  \n",
              "1       424.440002     34483200            43.755981  \n",
              "2       394.795990     37919700            43.302978  \n",
              "3       408.903992     36863600            33.412994  \n",
              "4       398.821014     26580100            19.244995  \n",
              "...            ...          ...                  ...  \n",
              "2750  47465.730469  31397059069           921.851563  \n",
              "2751  47062.664063  29333883962           908.937500  \n",
              "2752  45538.675781  33327427106          2121.488281  \n",
              "2753  46281.644531  38162644287          2213.101563  \n",
              "2754  46508.101563  35441143808           845.449219  \n",
              "\n",
              "[2755 rows x 8 columns]"
            ],
            "text/html": [
              "\n",
              "  <div id=\"df-f0210537-a9fe-4626-8ef0-055388dcad72\">\n",
              "    <div class=\"colab-df-container\">\n",
              "      <div>\n",
              "<style scoped>\n",
              "    .dataframe tbody tr th:only-of-type {\n",
              "        vertical-align: middle;\n",
              "    }\n",
              "\n",
              "    .dataframe tbody tr th {\n",
              "        vertical-align: top;\n",
              "    }\n",
              "\n",
              "    .dataframe thead th {\n",
              "        text-align: right;\n",
              "    }\n",
              "</style>\n",
              "<table border=\"1\" class=\"dataframe\">\n",
              "  <thead>\n",
              "    <tr style=\"text-align: right;\">\n",
              "      <th></th>\n",
              "      <th>Date</th>\n",
              "      <th>Open</th>\n",
              "      <th>High</th>\n",
              "      <th>Low</th>\n",
              "      <th>Close</th>\n",
              "      <th>Adj Close</th>\n",
              "      <th>Volume</th>\n",
              "      <th>High-Low Difference</th>\n",
              "    </tr>\n",
              "  </thead>\n",
              "  <tbody>\n",
              "    <tr>\n",
              "      <th>0</th>\n",
              "      <td>2014.09</td>\n",
              "      <td>465.864014</td>\n",
              "      <td>468.174011</td>\n",
              "      <td>452.421997</td>\n",
              "      <td>457.334015</td>\n",
              "      <td>457.334015</td>\n",
              "      <td>21056800</td>\n",
              "      <td>15.752014</td>\n",
              "    </tr>\n",
              "    <tr>\n",
              "      <th>1</th>\n",
              "      <td>2014.09</td>\n",
              "      <td>456.859985</td>\n",
              "      <td>456.859985</td>\n",
              "      <td>413.104004</td>\n",
              "      <td>424.440002</td>\n",
              "      <td>424.440002</td>\n",
              "      <td>34483200</td>\n",
              "      <td>43.755981</td>\n",
              "    </tr>\n",
              "    <tr>\n",
              "      <th>2</th>\n",
              "      <td>2014.09</td>\n",
              "      <td>424.102997</td>\n",
              "      <td>427.834991</td>\n",
              "      <td>384.532013</td>\n",
              "      <td>394.795990</td>\n",
              "      <td>394.795990</td>\n",
              "      <td>37919700</td>\n",
              "      <td>43.302978</td>\n",
              "    </tr>\n",
              "    <tr>\n",
              "      <th>3</th>\n",
              "      <td>2014.09</td>\n",
              "      <td>394.673004</td>\n",
              "      <td>423.295990</td>\n",
              "      <td>389.882996</td>\n",
              "      <td>408.903992</td>\n",
              "      <td>408.903992</td>\n",
              "      <td>36863600</td>\n",
              "      <td>33.412994</td>\n",
              "    </tr>\n",
              "    <tr>\n",
              "      <th>4</th>\n",
              "      <td>2014.09</td>\n",
              "      <td>408.084991</td>\n",
              "      <td>412.425995</td>\n",
              "      <td>393.181000</td>\n",
              "      <td>398.821014</td>\n",
              "      <td>398.821014</td>\n",
              "      <td>26580100</td>\n",
              "      <td>19.244995</td>\n",
              "    </tr>\n",
              "    <tr>\n",
              "      <th>...</th>\n",
              "      <td>...</td>\n",
              "      <td>...</td>\n",
              "      <td>...</td>\n",
              "      <td>...</td>\n",
              "      <td>...</td>\n",
              "      <td>...</td>\n",
              "      <td>...</td>\n",
              "      <td>...</td>\n",
              "    </tr>\n",
              "    <tr>\n",
              "      <th>2750</th>\n",
              "      <td>2022.03</td>\n",
              "      <td>47100.437500</td>\n",
              "      <td>48022.289063</td>\n",
              "      <td>47100.437500</td>\n",
              "      <td>47465.730469</td>\n",
              "      <td>47465.730469</td>\n",
              "      <td>31397059069</td>\n",
              "      <td>921.851563</td>\n",
              "    </tr>\n",
              "    <tr>\n",
              "      <th>2751</th>\n",
              "      <td>2022.03</td>\n",
              "      <td>47456.898438</td>\n",
              "      <td>47655.148438</td>\n",
              "      <td>46746.210938</td>\n",
              "      <td>47062.664063</td>\n",
              "      <td>47062.664063</td>\n",
              "      <td>29333883962</td>\n",
              "      <td>908.937500</td>\n",
              "    </tr>\n",
              "    <tr>\n",
              "      <th>2752</th>\n",
              "      <td>2022.03</td>\n",
              "      <td>47062.148438</td>\n",
              "      <td>47512.027344</td>\n",
              "      <td>45390.539063</td>\n",
              "      <td>45538.675781</td>\n",
              "      <td>45538.675781</td>\n",
              "      <td>33327427106</td>\n",
              "      <td>2121.488281</td>\n",
              "    </tr>\n",
              "    <tr>\n",
              "      <th>2753</th>\n",
              "      <td>2022.04</td>\n",
              "      <td>45554.164063</td>\n",
              "      <td>46616.242188</td>\n",
              "      <td>44403.140625</td>\n",
              "      <td>46281.644531</td>\n",
              "      <td>46281.644531</td>\n",
              "      <td>38162644287</td>\n",
              "      <td>2213.101563</td>\n",
              "    </tr>\n",
              "    <tr>\n",
              "      <th>2754</th>\n",
              "      <td>2022.04</td>\n",
              "      <td>46168.101563</td>\n",
              "      <td>47003.429688</td>\n",
              "      <td>46157.980469</td>\n",
              "      <td>46508.101563</td>\n",
              "      <td>46508.101563</td>\n",
              "      <td>35441143808</td>\n",
              "      <td>845.449219</td>\n",
              "    </tr>\n",
              "  </tbody>\n",
              "</table>\n",
              "<p>2755 rows × 8 columns</p>\n",
              "</div>\n",
              "      <button class=\"colab-df-convert\" onclick=\"convertToInteractive('df-f0210537-a9fe-4626-8ef0-055388dcad72')\"\n",
              "              title=\"Convert this dataframe to an interactive table.\"\n",
              "              style=\"display:none;\">\n",
              "        \n",
              "  <svg xmlns=\"http://www.w3.org/2000/svg\" height=\"24px\"viewBox=\"0 0 24 24\"\n",
              "       width=\"24px\">\n",
              "    <path d=\"M0 0h24v24H0V0z\" fill=\"none\"/>\n",
              "    <path d=\"M18.56 5.44l.94 2.06.94-2.06 2.06-.94-2.06-.94-.94-2.06-.94 2.06-2.06.94zm-11 1L8.5 8.5l.94-2.06 2.06-.94-2.06-.94L8.5 2.5l-.94 2.06-2.06.94zm10 10l.94 2.06.94-2.06 2.06-.94-2.06-.94-.94-2.06-.94 2.06-2.06.94z\"/><path d=\"M17.41 7.96l-1.37-1.37c-.4-.4-.92-.59-1.43-.59-.52 0-1.04.2-1.43.59L10.3 9.45l-7.72 7.72c-.78.78-.78 2.05 0 2.83L4 21.41c.39.39.9.59 1.41.59.51 0 1.02-.2 1.41-.59l7.78-7.78 2.81-2.81c.8-.78.8-2.07 0-2.86zM5.41 20L4 18.59l7.72-7.72 1.47 1.35L5.41 20z\"/>\n",
              "  </svg>\n",
              "      </button>\n",
              "      \n",
              "  <style>\n",
              "    .colab-df-container {\n",
              "      display:flex;\n",
              "      flex-wrap:wrap;\n",
              "      gap: 12px;\n",
              "    }\n",
              "\n",
              "    .colab-df-convert {\n",
              "      background-color: #E8F0FE;\n",
              "      border: none;\n",
              "      border-radius: 50%;\n",
              "      cursor: pointer;\n",
              "      display: none;\n",
              "      fill: #1967D2;\n",
              "      height: 32px;\n",
              "      padding: 0 0 0 0;\n",
              "      width: 32px;\n",
              "    }\n",
              "\n",
              "    .colab-df-convert:hover {\n",
              "      background-color: #E2EBFA;\n",
              "      box-shadow: 0px 1px 2px rgba(60, 64, 67, 0.3), 0px 1px 3px 1px rgba(60, 64, 67, 0.15);\n",
              "      fill: #174EA6;\n",
              "    }\n",
              "\n",
              "    [theme=dark] .colab-df-convert {\n",
              "      background-color: #3B4455;\n",
              "      fill: #D2E3FC;\n",
              "    }\n",
              "\n",
              "    [theme=dark] .colab-df-convert:hover {\n",
              "      background-color: #434B5C;\n",
              "      box-shadow: 0px 1px 3px 1px rgba(0, 0, 0, 0.15);\n",
              "      filter: drop-shadow(0px 1px 2px rgba(0, 0, 0, 0.3));\n",
              "      fill: #FFFFFF;\n",
              "    }\n",
              "  </style>\n",
              "\n",
              "      <script>\n",
              "        const buttonEl =\n",
              "          document.querySelector('#df-f0210537-a9fe-4626-8ef0-055388dcad72 button.colab-df-convert');\n",
              "        buttonEl.style.display =\n",
              "          google.colab.kernel.accessAllowed ? 'block' : 'none';\n",
              "\n",
              "        async function convertToInteractive(key) {\n",
              "          const element = document.querySelector('#df-f0210537-a9fe-4626-8ef0-055388dcad72');\n",
              "          const dataTable =\n",
              "            await google.colab.kernel.invokeFunction('convertToInteractive',\n",
              "                                                     [key], {});\n",
              "          if (!dataTable) return;\n",
              "\n",
              "          const docLinkHtml = 'Like what you see? Visit the ' +\n",
              "            '<a target=\"_blank\" href=https://colab.research.google.com/notebooks/data_table.ipynb>data table notebook</a>'\n",
              "            + ' to learn more about interactive tables.';\n",
              "          element.innerHTML = '';\n",
              "          dataTable['output_type'] = 'display_data';\n",
              "          await google.colab.output.renderOutput(dataTable, element);\n",
              "          const docLink = document.createElement('div');\n",
              "          docLink.innerHTML = docLinkHtml;\n",
              "          element.appendChild(docLink);\n",
              "        }\n",
              "      </script>\n",
              "    </div>\n",
              "  </div>\n",
              "  "
            ]
          },
          "metadata": {},
          "execution_count": 98
        }
      ]
    },
    {
      "cell_type": "code",
      "source": [
        "dataforHighandLow[\"Year\"] = dataforHighandLow[\"Date\"].str[:4]\n",
        "dataforHighandLow"
      ],
      "metadata": {
        "id": "T6HJhwUN_GOO",
        "colab": {
          "base_uri": "https://localhost:8080/",
          "height": 505
        },
        "outputId": "384e373f-02bb-4588-b8f3-302561087d28"
      },
      "execution_count": null,
      "outputs": [
        {
          "output_type": "execute_result",
          "data": {
            "text/plain": [
              "         Date          Open          High           Low         Close  \\\n",
              "0     2014.09    465.864014    468.174011    452.421997    457.334015   \n",
              "1     2014.09    456.859985    456.859985    413.104004    424.440002   \n",
              "2     2014.09    424.102997    427.834991    384.532013    394.795990   \n",
              "3     2014.09    394.673004    423.295990    389.882996    408.903992   \n",
              "4     2014.09    408.084991    412.425995    393.181000    398.821014   \n",
              "...       ...           ...           ...           ...           ...   \n",
              "2750  2022.03  47100.437500  48022.289063  47100.437500  47465.730469   \n",
              "2751  2022.03  47456.898438  47655.148438  46746.210938  47062.664063   \n",
              "2752  2022.03  47062.148438  47512.027344  45390.539063  45538.675781   \n",
              "2753  2022.04  45554.164063  46616.242188  44403.140625  46281.644531   \n",
              "2754  2022.04  46168.101563  47003.429688  46157.980469  46508.101563   \n",
              "\n",
              "         Adj Close       Volume  High-Low Difference  Year  \n",
              "0       457.334015     21056800            15.752014  2014  \n",
              "1       424.440002     34483200            43.755981  2014  \n",
              "2       394.795990     37919700            43.302978  2014  \n",
              "3       408.903992     36863600            33.412994  2014  \n",
              "4       398.821014     26580100            19.244995  2014  \n",
              "...            ...          ...                  ...   ...  \n",
              "2750  47465.730469  31397059069           921.851563  2022  \n",
              "2751  47062.664063  29333883962           908.937500  2022  \n",
              "2752  45538.675781  33327427106          2121.488281  2022  \n",
              "2753  46281.644531  38162644287          2213.101563  2022  \n",
              "2754  46508.101563  35441143808           845.449219  2022  \n",
              "\n",
              "[2755 rows x 9 columns]"
            ],
            "text/html": [
              "\n",
              "  <div id=\"df-62eade73-4bae-45c6-a3be-8e97d20144b3\">\n",
              "    <div class=\"colab-df-container\">\n",
              "      <div>\n",
              "<style scoped>\n",
              "    .dataframe tbody tr th:only-of-type {\n",
              "        vertical-align: middle;\n",
              "    }\n",
              "\n",
              "    .dataframe tbody tr th {\n",
              "        vertical-align: top;\n",
              "    }\n",
              "\n",
              "    .dataframe thead th {\n",
              "        text-align: right;\n",
              "    }\n",
              "</style>\n",
              "<table border=\"1\" class=\"dataframe\">\n",
              "  <thead>\n",
              "    <tr style=\"text-align: right;\">\n",
              "      <th></th>\n",
              "      <th>Date</th>\n",
              "      <th>Open</th>\n",
              "      <th>High</th>\n",
              "      <th>Low</th>\n",
              "      <th>Close</th>\n",
              "      <th>Adj Close</th>\n",
              "      <th>Volume</th>\n",
              "      <th>High-Low Difference</th>\n",
              "      <th>Year</th>\n",
              "    </tr>\n",
              "  </thead>\n",
              "  <tbody>\n",
              "    <tr>\n",
              "      <th>0</th>\n",
              "      <td>2014.09</td>\n",
              "      <td>465.864014</td>\n",
              "      <td>468.174011</td>\n",
              "      <td>452.421997</td>\n",
              "      <td>457.334015</td>\n",
              "      <td>457.334015</td>\n",
              "      <td>21056800</td>\n",
              "      <td>15.752014</td>\n",
              "      <td>2014</td>\n",
              "    </tr>\n",
              "    <tr>\n",
              "      <th>1</th>\n",
              "      <td>2014.09</td>\n",
              "      <td>456.859985</td>\n",
              "      <td>456.859985</td>\n",
              "      <td>413.104004</td>\n",
              "      <td>424.440002</td>\n",
              "      <td>424.440002</td>\n",
              "      <td>34483200</td>\n",
              "      <td>43.755981</td>\n",
              "      <td>2014</td>\n",
              "    </tr>\n",
              "    <tr>\n",
              "      <th>2</th>\n",
              "      <td>2014.09</td>\n",
              "      <td>424.102997</td>\n",
              "      <td>427.834991</td>\n",
              "      <td>384.532013</td>\n",
              "      <td>394.795990</td>\n",
              "      <td>394.795990</td>\n",
              "      <td>37919700</td>\n",
              "      <td>43.302978</td>\n",
              "      <td>2014</td>\n",
              "    </tr>\n",
              "    <tr>\n",
              "      <th>3</th>\n",
              "      <td>2014.09</td>\n",
              "      <td>394.673004</td>\n",
              "      <td>423.295990</td>\n",
              "      <td>389.882996</td>\n",
              "      <td>408.903992</td>\n",
              "      <td>408.903992</td>\n",
              "      <td>36863600</td>\n",
              "      <td>33.412994</td>\n",
              "      <td>2014</td>\n",
              "    </tr>\n",
              "    <tr>\n",
              "      <th>4</th>\n",
              "      <td>2014.09</td>\n",
              "      <td>408.084991</td>\n",
              "      <td>412.425995</td>\n",
              "      <td>393.181000</td>\n",
              "      <td>398.821014</td>\n",
              "      <td>398.821014</td>\n",
              "      <td>26580100</td>\n",
              "      <td>19.244995</td>\n",
              "      <td>2014</td>\n",
              "    </tr>\n",
              "    <tr>\n",
              "      <th>...</th>\n",
              "      <td>...</td>\n",
              "      <td>...</td>\n",
              "      <td>...</td>\n",
              "      <td>...</td>\n",
              "      <td>...</td>\n",
              "      <td>...</td>\n",
              "      <td>...</td>\n",
              "      <td>...</td>\n",
              "      <td>...</td>\n",
              "    </tr>\n",
              "    <tr>\n",
              "      <th>2750</th>\n",
              "      <td>2022.03</td>\n",
              "      <td>47100.437500</td>\n",
              "      <td>48022.289063</td>\n",
              "      <td>47100.437500</td>\n",
              "      <td>47465.730469</td>\n",
              "      <td>47465.730469</td>\n",
              "      <td>31397059069</td>\n",
              "      <td>921.851563</td>\n",
              "      <td>2022</td>\n",
              "    </tr>\n",
              "    <tr>\n",
              "      <th>2751</th>\n",
              "      <td>2022.03</td>\n",
              "      <td>47456.898438</td>\n",
              "      <td>47655.148438</td>\n",
              "      <td>46746.210938</td>\n",
              "      <td>47062.664063</td>\n",
              "      <td>47062.664063</td>\n",
              "      <td>29333883962</td>\n",
              "      <td>908.937500</td>\n",
              "      <td>2022</td>\n",
              "    </tr>\n",
              "    <tr>\n",
              "      <th>2752</th>\n",
              "      <td>2022.03</td>\n",
              "      <td>47062.148438</td>\n",
              "      <td>47512.027344</td>\n",
              "      <td>45390.539063</td>\n",
              "      <td>45538.675781</td>\n",
              "      <td>45538.675781</td>\n",
              "      <td>33327427106</td>\n",
              "      <td>2121.488281</td>\n",
              "      <td>2022</td>\n",
              "    </tr>\n",
              "    <tr>\n",
              "      <th>2753</th>\n",
              "      <td>2022.04</td>\n",
              "      <td>45554.164063</td>\n",
              "      <td>46616.242188</td>\n",
              "      <td>44403.140625</td>\n",
              "      <td>46281.644531</td>\n",
              "      <td>46281.644531</td>\n",
              "      <td>38162644287</td>\n",
              "      <td>2213.101563</td>\n",
              "      <td>2022</td>\n",
              "    </tr>\n",
              "    <tr>\n",
              "      <th>2754</th>\n",
              "      <td>2022.04</td>\n",
              "      <td>46168.101563</td>\n",
              "      <td>47003.429688</td>\n",
              "      <td>46157.980469</td>\n",
              "      <td>46508.101563</td>\n",
              "      <td>46508.101563</td>\n",
              "      <td>35441143808</td>\n",
              "      <td>845.449219</td>\n",
              "      <td>2022</td>\n",
              "    </tr>\n",
              "  </tbody>\n",
              "</table>\n",
              "<p>2755 rows × 9 columns</p>\n",
              "</div>\n",
              "      <button class=\"colab-df-convert\" onclick=\"convertToInteractive('df-62eade73-4bae-45c6-a3be-8e97d20144b3')\"\n",
              "              title=\"Convert this dataframe to an interactive table.\"\n",
              "              style=\"display:none;\">\n",
              "        \n",
              "  <svg xmlns=\"http://www.w3.org/2000/svg\" height=\"24px\"viewBox=\"0 0 24 24\"\n",
              "       width=\"24px\">\n",
              "    <path d=\"M0 0h24v24H0V0z\" fill=\"none\"/>\n",
              "    <path d=\"M18.56 5.44l.94 2.06.94-2.06 2.06-.94-2.06-.94-.94-2.06-.94 2.06-2.06.94zm-11 1L8.5 8.5l.94-2.06 2.06-.94-2.06-.94L8.5 2.5l-.94 2.06-2.06.94zm10 10l.94 2.06.94-2.06 2.06-.94-2.06-.94-.94-2.06-.94 2.06-2.06.94z\"/><path d=\"M17.41 7.96l-1.37-1.37c-.4-.4-.92-.59-1.43-.59-.52 0-1.04.2-1.43.59L10.3 9.45l-7.72 7.72c-.78.78-.78 2.05 0 2.83L4 21.41c.39.39.9.59 1.41.59.51 0 1.02-.2 1.41-.59l7.78-7.78 2.81-2.81c.8-.78.8-2.07 0-2.86zM5.41 20L4 18.59l7.72-7.72 1.47 1.35L5.41 20z\"/>\n",
              "  </svg>\n",
              "      </button>\n",
              "      \n",
              "  <style>\n",
              "    .colab-df-container {\n",
              "      display:flex;\n",
              "      flex-wrap:wrap;\n",
              "      gap: 12px;\n",
              "    }\n",
              "\n",
              "    .colab-df-convert {\n",
              "      background-color: #E8F0FE;\n",
              "      border: none;\n",
              "      border-radius: 50%;\n",
              "      cursor: pointer;\n",
              "      display: none;\n",
              "      fill: #1967D2;\n",
              "      height: 32px;\n",
              "      padding: 0 0 0 0;\n",
              "      width: 32px;\n",
              "    }\n",
              "\n",
              "    .colab-df-convert:hover {\n",
              "      background-color: #E2EBFA;\n",
              "      box-shadow: 0px 1px 2px rgba(60, 64, 67, 0.3), 0px 1px 3px 1px rgba(60, 64, 67, 0.15);\n",
              "      fill: #174EA6;\n",
              "    }\n",
              "\n",
              "    [theme=dark] .colab-df-convert {\n",
              "      background-color: #3B4455;\n",
              "      fill: #D2E3FC;\n",
              "    }\n",
              "\n",
              "    [theme=dark] .colab-df-convert:hover {\n",
              "      background-color: #434B5C;\n",
              "      box-shadow: 0px 1px 3px 1px rgba(0, 0, 0, 0.15);\n",
              "      filter: drop-shadow(0px 1px 2px rgba(0, 0, 0, 0.3));\n",
              "      fill: #FFFFFF;\n",
              "    }\n",
              "  </style>\n",
              "\n",
              "      <script>\n",
              "        const buttonEl =\n",
              "          document.querySelector('#df-62eade73-4bae-45c6-a3be-8e97d20144b3 button.colab-df-convert');\n",
              "        buttonEl.style.display =\n",
              "          google.colab.kernel.accessAllowed ? 'block' : 'none';\n",
              "\n",
              "        async function convertToInteractive(key) {\n",
              "          const element = document.querySelector('#df-62eade73-4bae-45c6-a3be-8e97d20144b3');\n",
              "          const dataTable =\n",
              "            await google.colab.kernel.invokeFunction('convertToInteractive',\n",
              "                                                     [key], {});\n",
              "          if (!dataTable) return;\n",
              "\n",
              "          const docLinkHtml = 'Like what you see? Visit the ' +\n",
              "            '<a target=\"_blank\" href=https://colab.research.google.com/notebooks/data_table.ipynb>data table notebook</a>'\n",
              "            + ' to learn more about interactive tables.';\n",
              "          element.innerHTML = '';\n",
              "          dataTable['output_type'] = 'display_data';\n",
              "          await google.colab.output.renderOutput(dataTable, element);\n",
              "          const docLink = document.createElement('div');\n",
              "          docLink.innerHTML = docLinkHtml;\n",
              "          element.appendChild(docLink);\n",
              "        }\n",
              "      </script>\n",
              "    </div>\n",
              "  </div>\n",
              "  "
            ]
          },
          "metadata": {},
          "execution_count": 99
        }
      ]
    },
    {
      "cell_type": "code",
      "source": [
        "dataforHighandLow[[\"Date\",\"Year\"]] = dataforHighandLow[[\"Date\",\"Year\"]].apply(pd.to_numeric)\n",
        "dataforHighandLow.dtypes"
      ],
      "metadata": {
        "id": "GUAmr4f02djf",
        "colab": {
          "base_uri": "https://localhost:8080/"
        },
        "outputId": "b6f0d273-45d7-49ca-e698-aee2b8fa147d"
      },
      "execution_count": null,
      "outputs": [
        {
          "output_type": "execute_result",
          "data": {
            "text/plain": [
              "Date                   float64\n",
              "Open                   float64\n",
              "High                   float64\n",
              "Low                    float64\n",
              "Close                  float64\n",
              "Adj Close              float64\n",
              "Volume                   int64\n",
              "High-Low Difference    float64\n",
              "Year                     int64\n",
              "dtype: object"
            ]
          },
          "metadata": {},
          "execution_count": 100
        }
      ]
    },
    {
      "cell_type": "code",
      "source": [
        "dataforHighandLow[[\"High\",\"Low\"]].describe()"
      ],
      "metadata": {
        "id": "rXqh7gut2x3-",
        "colab": {
          "base_uri": "https://localhost:8080/",
          "height": 300
        },
        "outputId": "38916102-f253-40f0-ddde-361c200eac0a"
      },
      "execution_count": null,
      "outputs": [
        {
          "output_type": "execute_result",
          "data": {
            "text/plain": [
              "               High           Low\n",
              "count   2755.000000   2755.000000\n",
              "mean   12082.896368  11425.227294\n",
              "std    16841.443821  15910.212812\n",
              "min      211.731003    171.509995\n",
              "25%      612.311005    606.981994\n",
              "50%     6504.649902   6297.930176\n",
              "75%    11047.681152  10485.476074\n",
              "max    68789.625000  66382.062500"
            ],
            "text/html": [
              "\n",
              "  <div id=\"df-75fb58c5-0ee9-43f2-a85b-2752b94b534f\">\n",
              "    <div class=\"colab-df-container\">\n",
              "      <div>\n",
              "<style scoped>\n",
              "    .dataframe tbody tr th:only-of-type {\n",
              "        vertical-align: middle;\n",
              "    }\n",
              "\n",
              "    .dataframe tbody tr th {\n",
              "        vertical-align: top;\n",
              "    }\n",
              "\n",
              "    .dataframe thead th {\n",
              "        text-align: right;\n",
              "    }\n",
              "</style>\n",
              "<table border=\"1\" class=\"dataframe\">\n",
              "  <thead>\n",
              "    <tr style=\"text-align: right;\">\n",
              "      <th></th>\n",
              "      <th>High</th>\n",
              "      <th>Low</th>\n",
              "    </tr>\n",
              "  </thead>\n",
              "  <tbody>\n",
              "    <tr>\n",
              "      <th>count</th>\n",
              "      <td>2755.000000</td>\n",
              "      <td>2755.000000</td>\n",
              "    </tr>\n",
              "    <tr>\n",
              "      <th>mean</th>\n",
              "      <td>12082.896368</td>\n",
              "      <td>11425.227294</td>\n",
              "    </tr>\n",
              "    <tr>\n",
              "      <th>std</th>\n",
              "      <td>16841.443821</td>\n",
              "      <td>15910.212812</td>\n",
              "    </tr>\n",
              "    <tr>\n",
              "      <th>min</th>\n",
              "      <td>211.731003</td>\n",
              "      <td>171.509995</td>\n",
              "    </tr>\n",
              "    <tr>\n",
              "      <th>25%</th>\n",
              "      <td>612.311005</td>\n",
              "      <td>606.981994</td>\n",
              "    </tr>\n",
              "    <tr>\n",
              "      <th>50%</th>\n",
              "      <td>6504.649902</td>\n",
              "      <td>6297.930176</td>\n",
              "    </tr>\n",
              "    <tr>\n",
              "      <th>75%</th>\n",
              "      <td>11047.681152</td>\n",
              "      <td>10485.476074</td>\n",
              "    </tr>\n",
              "    <tr>\n",
              "      <th>max</th>\n",
              "      <td>68789.625000</td>\n",
              "      <td>66382.062500</td>\n",
              "    </tr>\n",
              "  </tbody>\n",
              "</table>\n",
              "</div>\n",
              "      <button class=\"colab-df-convert\" onclick=\"convertToInteractive('df-75fb58c5-0ee9-43f2-a85b-2752b94b534f')\"\n",
              "              title=\"Convert this dataframe to an interactive table.\"\n",
              "              style=\"display:none;\">\n",
              "        \n",
              "  <svg xmlns=\"http://www.w3.org/2000/svg\" height=\"24px\"viewBox=\"0 0 24 24\"\n",
              "       width=\"24px\">\n",
              "    <path d=\"M0 0h24v24H0V0z\" fill=\"none\"/>\n",
              "    <path d=\"M18.56 5.44l.94 2.06.94-2.06 2.06-.94-2.06-.94-.94-2.06-.94 2.06-2.06.94zm-11 1L8.5 8.5l.94-2.06 2.06-.94-2.06-.94L8.5 2.5l-.94 2.06-2.06.94zm10 10l.94 2.06.94-2.06 2.06-.94-2.06-.94-.94-2.06-.94 2.06-2.06.94z\"/><path d=\"M17.41 7.96l-1.37-1.37c-.4-.4-.92-.59-1.43-.59-.52 0-1.04.2-1.43.59L10.3 9.45l-7.72 7.72c-.78.78-.78 2.05 0 2.83L4 21.41c.39.39.9.59 1.41.59.51 0 1.02-.2 1.41-.59l7.78-7.78 2.81-2.81c.8-.78.8-2.07 0-2.86zM5.41 20L4 18.59l7.72-7.72 1.47 1.35L5.41 20z\"/>\n",
              "  </svg>\n",
              "      </button>\n",
              "      \n",
              "  <style>\n",
              "    .colab-df-container {\n",
              "      display:flex;\n",
              "      flex-wrap:wrap;\n",
              "      gap: 12px;\n",
              "    }\n",
              "\n",
              "    .colab-df-convert {\n",
              "      background-color: #E8F0FE;\n",
              "      border: none;\n",
              "      border-radius: 50%;\n",
              "      cursor: pointer;\n",
              "      display: none;\n",
              "      fill: #1967D2;\n",
              "      height: 32px;\n",
              "      padding: 0 0 0 0;\n",
              "      width: 32px;\n",
              "    }\n",
              "\n",
              "    .colab-df-convert:hover {\n",
              "      background-color: #E2EBFA;\n",
              "      box-shadow: 0px 1px 2px rgba(60, 64, 67, 0.3), 0px 1px 3px 1px rgba(60, 64, 67, 0.15);\n",
              "      fill: #174EA6;\n",
              "    }\n",
              "\n",
              "    [theme=dark] .colab-df-convert {\n",
              "      background-color: #3B4455;\n",
              "      fill: #D2E3FC;\n",
              "    }\n",
              "\n",
              "    [theme=dark] .colab-df-convert:hover {\n",
              "      background-color: #434B5C;\n",
              "      box-shadow: 0px 1px 3px 1px rgba(0, 0, 0, 0.15);\n",
              "      filter: drop-shadow(0px 1px 2px rgba(0, 0, 0, 0.3));\n",
              "      fill: #FFFFFF;\n",
              "    }\n",
              "  </style>\n",
              "\n",
              "      <script>\n",
              "        const buttonEl =\n",
              "          document.querySelector('#df-75fb58c5-0ee9-43f2-a85b-2752b94b534f button.colab-df-convert');\n",
              "        buttonEl.style.display =\n",
              "          google.colab.kernel.accessAllowed ? 'block' : 'none';\n",
              "\n",
              "        async function convertToInteractive(key) {\n",
              "          const element = document.querySelector('#df-75fb58c5-0ee9-43f2-a85b-2752b94b534f');\n",
              "          const dataTable =\n",
              "            await google.colab.kernel.invokeFunction('convertToInteractive',\n",
              "                                                     [key], {});\n",
              "          if (!dataTable) return;\n",
              "\n",
              "          const docLinkHtml = 'Like what you see? Visit the ' +\n",
              "            '<a target=\"_blank\" href=https://colab.research.google.com/notebooks/data_table.ipynb>data table notebook</a>'\n",
              "            + ' to learn more about interactive tables.';\n",
              "          element.innerHTML = '';\n",
              "          dataTable['output_type'] = 'display_data';\n",
              "          await google.colab.output.renderOutput(dataTable, element);\n",
              "          const docLink = document.createElement('div');\n",
              "          docLink.innerHTML = docLinkHtml;\n",
              "          element.appendChild(docLink);\n",
              "        }\n",
              "      </script>\n",
              "    </div>\n",
              "  </div>\n",
              "  "
            ]
          },
          "metadata": {},
          "execution_count": 101
        }
      ]
    },
    {
      "cell_type": "code",
      "source": [
        "fig = plt.figure(figsize = (12,8))\n",
        "ax = fig.add_axes([0,0,1,1])\n",
        "ax.plot(dataforHighandLow[\"Date\"], dataforHighandLow[\"High\"], \"b\", label = \"High\")\n",
        "ax.plot(dataforHighandLow[\"Date\"], dataforHighandLow[\"Low\"], \"r\", label = \"Low\")\n",
        "ax.legend(loc = 2)"
      ],
      "metadata": {
        "id": "G3_LHttm8_KR",
        "colab": {
          "base_uri": "https://localhost:8080/",
          "height": 489
        },
        "outputId": "86569485-bdb5-4a50-f69a-de10abac447e"
      },
      "execution_count": null,
      "outputs": [
        {
          "output_type": "execute_result",
          "data": {
            "text/plain": [
              "<matplotlib.legend.Legend at 0x7f33538dfb10>"
            ]
          },
          "metadata": {},
          "execution_count": 102
        },
        {
          "output_type": "display_data",
          "data": {
            "text/plain": [
              "<Figure size 864x576 with 1 Axes>"
            ],
            "image/png": "[encoded data removed]"
          },
          "metadata": {
            "needs_background": "light"
          }
        }
      ]
    },
    {
      "cell_type": "code",
      "source": [
        "highgraph_time = sns.lmplot(x = \"Year\", y=\"High\",\n",
        "                            truncate=True, height=8, data = dataforHighandLow)\n",
        "\n",
        "highgraph_time.set_axis_labels(\"Year\", \"High\")\n",
        "plt.show()\n",
        "\n"
      ],
      "metadata": {
        "id": "ImksPNho6-kv",
        "colab": {
          "base_uri": "https://localhost:8080/",
          "height": 585
        },
        "outputId": "2316d3e6-4d3b-490d-8e99-9ac763d8d974"
      },
      "execution_count": null,
      "outputs": [
        {
          "output_type": "display_data",
          "data": {
            "text/plain": [
              "<Figure size 576x576 with 1 Axes>"
            ],
            "image/png": "[encoded data removed]"
          },
          "metadata": {
            "needs_background": "light"
          }
        }
      ]
    },
    {
      "cell_type": "code",
      "source": [
        "highgraph_time = sns.lmplot(x = \"Year\", y=\"Low\",\n",
        "                            truncate=True, height=8, data = dataforHighandLow)\n",
        "\n",
        "highgraph_time.set_axis_labels(\"Year\", \"Low\")\n",
        "plt.show()"
      ],
      "metadata": {
        "id": "Fnxuvsy38CUx",
        "colab": {
          "base_uri": "https://localhost:8080/",
          "height": 585
        },
        "outputId": "d679a836-bb32-4aa7-e94e-36c270cc793e"
      },
      "execution_count": null,
      "outputs": [
        {
          "output_type": "display_data",
          "data": {
            "text/plain": [
              "<Figure size 576x576 with 1 Axes>"
            ],
            "image/png": "[encoded data removed]"
          },
          "metadata": {
            "needs_background": "light"
          }
        }
      ]
    },
    {
      "cell_type": "markdown",
      "source": [
        "In order to see the volume of a fluctuation in regards to time, we have chosen a lmplot-style graph. We can see that over time, the difference increases significantly, therefore daily highs and lows get more and more aggressive. This may suggest that there is more daily purchase."
      ],
      "metadata": {
        "id": "zYBIn_IW6CUO"
      }
    },
    {
      "cell_type": "code",
      "source": [
        "sns.set(style=\"darkgrid\")\n",
        "differencegraphovertime = sns.lmplot(x=\"Year\", y=\"High-Low Difference\",\n",
        "               truncate=True, height=8, data = dataforHighandLow)\n",
        "\n",
        "differencegraphovertime.set_axis_labels(\"Year\", \"Difference\")\n",
        "plt.show()"
      ],
      "metadata": {
        "id": "-EhJo_F93OH6",
        "colab": {
          "base_uri": "https://localhost:8080/",
          "height": 581
        },
        "outputId": "7ad134d1-e3a6-4880-cef7-38adcf75703d"
      },
      "execution_count": null,
      "outputs": [
        {
          "output_type": "display_data",
          "data": {
            "text/plain": [
              "<Figure size 576x576 with 1 Axes>"
            ],
            "image/png": "[encoded data removed]"
          },
          "metadata": {}
        }
      ]
    },
    {
      "cell_type": "code",
      "source": [
        "plt.bar(all_df.Volume, all_df.Open, color='r')\n",
        "plt.bar(all_df.Volume, all_df.Close, color='b')\n",
        "\n",
        "plt.title('Open vs Close at Volume')\n",
        "plt.xlabel('Volume')\n",
        "\n",
        "plt.show()\n",
        "\n"
      ],
      "metadata": {
        "id": "clcaNy32F4Xg",
        "colab": {
          "base_uri": "https://localhost:8080/",
          "height": 301
        },
        "outputId": "84c988c3-da61-4aac-96ce-32c7f32ce441"
      },
      "execution_count": null,
      "outputs": [
        {
          "output_type": "display_data",
          "data": {
            "text/plain": [
              "<Figure size 432x288 with 1 Axes>"
            ],
            "image/png": "[encoded data removed]"
          },
          "metadata": {}
        }
      ]
    },
    {
      "cell_type": "code",
      "source": [
        "plt.plot(all_df['Date'], all_df['Low'] , color='red')\n",
        "plt.plot(all_df['Date'], all_df['High'] , color='blue')\n",
        "\n",
        "# Set x,y lower, upper limits:\n",
        "#plt.xlim([0, 2022])\n",
        "#plt.ylim([0, 2014])\n",
        "plt.xlabel(\"Date\")\n",
        "plt.ylabel(\"price\")\n",
        "plt.legend([\"Low\",\"High\"])\n",
        "\n",
        "plt.show()"
      ],
      "metadata": {
        "id": "NErj5jAmiZP8",
        "colab": {
          "base_uri": "https://localhost:8080/",
          "height": 285
        },
        "outputId": "89d2742a-076d-432e-e42f-f009e51d9573"
      },
      "execution_count": null,
      "outputs": [
        {
          "output_type": "display_data",
          "data": {
            "text/plain": [
              "<Figure size 432x288 with 1 Axes>"
            ],
            "image/png": "[encoded data removed]"
          },
          "metadata": {}
        }
      ]
    },
    {
      "cell_type": "code",
      "source": [
        "fig, ax = plt.subplots(figsize=(32, 5))\n",
        "fig.autofmt_xdate(rotation=90)\n",
        "# Add x-axis and y-axis\n",
        "\n",
        "\n",
        "\n",
        "\n",
        "plt.bar(all_df[\"Date\"], all_df[\"Open\"], color='r')\n",
        "plt.bar(all_df[\"Date\"], all_df['High'], bottom= all_df[\"Open\"], color='b')\n",
        "plt.bar(all_df[\"Date\"],all_df['Low'], bottom= all_df[\"Open\"]+ all_df['High'], color='y')\n",
        "plt.bar(all_df[\"Date\"], all_df['Close'], bottom= all_df[\"Open\"]+ all_df['High']+all_df['Low'], color='g')\n",
        "\n",
        "# Set title and labels for axes\n",
        "#ax.set(xlabel=\"Date\", ylabel=\"low\",)\n",
        "\n",
        "plt.xlabel(\"Date\")\n",
        "plt.ylabel(\"price\")\n",
        "plt.legend([\"open\", \"high\", \"low\", \"close\"])\n",
        "\n",
        "\n",
        "plt.xlim([\"2017-01-01\",\"2017-06-01\"])\n",
        "plt.show()"
      ],
      "metadata": {
        "id": "RWRgEks-9a5y",
        "colab": {
          "base_uri": "https://localhost:8080/",
          "height": 145
        },
        "outputId": "1941879a-0ae7-4d2c-be4d-00d269cf6f37"
      },
      "execution_count": null,
      "outputs": [
        {
          "output_type": "display_data",
          "data": {
            "text/plain": [
              "<Figure size 2304x360 with 1 Axes>"
            ],
            "image/png": "[encoded data removed]"
          },
          "metadata": {}
        }
      ]
    },
    {
      "cell_type": "code",
      "source": [
        "fig, ax = plt.subplots(figsize=(32, 5))\n",
        "fig.autofmt_xdate(rotation=90)\n",
        "# Add x-axis and y-axis\n",
        "\n",
        "\n",
        "\n",
        "\n",
        "plt.bar(all_df[\"Date\"], all_df[\"Open\"], color='r')\n",
        "plt.bar(all_df[\"Date\"], all_df['High'], bottom= all_df[\"Open\"], color='b')\n",
        "plt.bar(all_df[\"Date\"],all_df['Low'], bottom= all_df[\"Open\"]+ all_df['High'], color='y')\n",
        "plt.bar(all_df[\"Date\"], all_df['Close'], bottom= all_df[\"Open\"]+ all_df['High']+all_df['Low'], color='g')\n",
        "\n",
        "# Set title and labels for axes\n",
        "#ax.set(xlabel=\"Date\", ylabel=\"low\",)\n",
        "\n",
        "plt.xlabel(\"Date\")\n",
        "plt.ylabel(\"price\")\n",
        "plt.legend([\"open\", \"high\", \"low\", \"close\"])\n",
        "\n",
        "\n",
        "plt.xlim([\"2017-06-02\",\"2018-01-01\"])\n",
        "plt.show()"
      ],
      "metadata": {
        "id": "zxi4IpRI9auC",
        "colab": {
          "base_uri": "https://localhost:8080/",
          "height": 145
        },
        "outputId": "ecf3bd22-dac6-4792-ce1e-ece816d0c59e"
      },
      "execution_count": null,
      "outputs": [
        {
          "output_type": "display_data",
          "data": {
            "text/plain": [
              "<Figure size 2304x360 with 1 Axes>"
            ],
            "image/png": "[encoded data removed]"
          },
          "metadata": {}
        }
      ]
    },
    {
      "cell_type": "code",
      "source": [
        "fig, ax = plt.subplots(figsize=(32, 5))\n",
        "fig.autofmt_xdate(rotation=90)\n",
        "# Add x-axis and y-axis\n",
        "\n",
        "\n",
        "\n",
        "\n",
        "plt.bar(all_df[\"Date\"], all_df[\"Open\"], color='r')\n",
        "plt.bar(all_df[\"Date\"], all_df['High'], bottom= all_df[\"Open\"], color='b')\n",
        "plt.bar(all_df[\"Date\"],all_df['Low'], bottom= all_df[\"Open\"]+ all_df['High'], color='y')\n",
        "plt.bar(all_df[\"Date\"], all_df['Close'], bottom= all_df[\"Open\"]+ all_df['High']+all_df['Low'], color='g')\n",
        "\n",
        "# Set title and labels for axes\n",
        "#ax.set(xlabel=\"Date\", ylabel=\"low\",)\n",
        "\n",
        "plt.xlabel(\"Date\")\n",
        "plt.ylabel(\"price\")\n",
        "plt.legend([\"open\", \"high\", \"low\", \"close\"])\n",
        "\n",
        "\n",
        "plt.xlim([\"2018-01-02\",\"2018-06-01\"])\n",
        "plt.show()"
      ],
      "metadata": {
        "id": "OvsifR_0fW4w",
        "colab": {
          "base_uri": "https://localhost:8080/",
          "height": 145
        },
        "outputId": "657d0c98-a2f0-44cc-f581-8dcfdb7f2fbf"
      },
      "execution_count": null,
      "outputs": [
        {
          "output_type": "display_data",
          "data": {
            "text/plain": [
              "<Figure size 2304x360 with 1 Axes>"
            ],
            "image/png": "[encoded data removed]"
          },
          "metadata": {}
        }
      ]
    },
    {
      "cell_type": "code",
      "source": [
        "fig, ax = plt.subplots(figsize=(32, 5))\n",
        "fig.autofmt_xdate(rotation=90)\n",
        "# Add x-axis and y-axis\n",
        "\n",
        "\n",
        "\n",
        "\n",
        "\n",
        "plt.bar(all_df[\"Date\"], all_df[\"Open\"], color='r')\n",
        "plt.bar(all_df[\"Date\"], all_df['High'], bottom= all_df[\"Open\"], color='b')\n",
        "plt.bar(all_df[\"Date\"],all_df['Low'], bottom= all_df[\"Open\"]+ all_df['High'], color='y')\n",
        "plt.bar(all_df[\"Date\"], all_df['Close'], bottom= all_df[\"Open\"]+ all_df['High']+all_df['Low'], color='g')\n",
        "\n",
        "# Set title and labels for axes\n",
        "#ax.set(xlabel=\"Date\", ylabel=\"low\",)\n",
        "\n",
        "plt.xlabel(\"Date\")\n",
        "plt.ylabel(\"price\")\n",
        "plt.legend([\"open\", \"high\", \"low\", \"close\"])\n",
        "\n",
        "\n",
        "plt.xlim([\"2018-06-02\",\"2019-01-01\"])\n",
        "plt.show()"
      ],
      "metadata": {
        "id": "M0ysOvCVfWzC",
        "colab": {
          "base_uri": "https://localhost:8080/",
          "height": 145
        },
        "outputId": "d60d061b-a020-4e62-83e8-ce8d7cd013b6"
      },
      "execution_count": null,
      "outputs": [
        {
          "output_type": "display_data",
          "data": {
            "text/plain": [
              "<Figure size 2304x360 with 1 Axes>"
            ],
            "image/png": "[encoded data removed]"
          },
          "metadata": {}
        }
      ]
    },
    {
      "cell_type": "code",
      "source": [
        "fig, ax = plt.subplots(figsize=(32, 5))\n",
        "fig.autofmt_xdate(rotation=90)\n",
        "# Add x-axis and y-axis\n",
        "\n",
        "\n",
        "\n",
        "plt.bar(all_df[\"Date\"], all_df[\"Open\"], color='r')\n",
        "plt.bar(all_df[\"Date\"], all_df['High'], bottom= all_df[\"Open\"], color='b')\n",
        "plt.bar(all_df[\"Date\"],all_df['Low'], bottom= all_df[\"Open\"]+ all_df['High'], color='y')\n",
        "plt.bar(all_df[\"Date\"], all_df['Close'], bottom= all_df[\"Open\"]+ all_df['High']+all_df['Low'], color='g')\n",
        "\n",
        "\n",
        "# Set title and labels for axes\n",
        "#ax.set(xlabel=\"Date\", ylabel=\"low\",)\n",
        "\n",
        "plt.xlabel(\"Date\")\n",
        "plt.ylabel(\"price\")\n",
        "plt.legend([\"open\", \"high\", \"low\", \"close\"])\n",
        "\n",
        "\n",
        "plt.xlim([\"2019-01-02\",\"2019-06-01\"])\n",
        "plt.show()"
      ],
      "metadata": {
        "id": "VhKZw3tgfWwl",
        "colab": {
          "base_uri": "https://localhost:8080/",
          "height": 145
        },
        "outputId": "2feaa3a4-8410-429a-8bbb-277cde0e0c20"
      },
      "execution_count": null,
      "outputs": [
        {
          "output_type": "display_data",
          "data": {
            "text/plain": [
              "<Figure size 2304x360 with 1 Axes>"
            ],
            "image/png": "[encoded data removed]"
          },
          "metadata": {}
        }
      ]
    },
    {
      "cell_type": "code",
      "source": [
        "fig, ax = plt.subplots(figsize=(32, 5))\n",
        "fig.autofmt_xdate(rotation=90)\n",
        "# Add x-axis and y-axis\n",
        "\n",
        "\n",
        "\n",
        "plt.bar(all_df[\"Date\"], all_df[\"Open\"], color='r')\n",
        "plt.bar(all_df[\"Date\"], all_df['High'], bottom= all_df[\"Open\"], color='b')\n",
        "plt.bar(all_df[\"Date\"],all_df['Low'], bottom= all_df[\"Open\"]+ all_df['High'], color='y')\n",
        "plt.bar(all_df[\"Date\"], all_df['Close'], bottom= all_df[\"Open\"]+ all_df['High']+all_df['Low'], color='g')\n",
        "\n",
        "\n",
        "# Set title and labels for axes\n",
        "#ax.set(xlabel=\"Date\", ylabel=\"low\",)\n",
        "\n",
        "plt.xlabel(\"Date\")\n",
        "plt.ylabel(\"price\")\n",
        "plt.legend([\"open\", \"high\", \"low\", \"close\"])\n",
        "\n",
        "\n",
        "plt.xlim([\"2019-06-02\",\"2020-01-01\"])\n",
        "plt.show()"
      ],
      "metadata": {
        "id": "t71SpRW8fWtj",
        "colab": {
          "base_uri": "https://localhost:8080/",
          "height": 145
        },
        "outputId": "243f980d-ae67-4ea6-99ee-d8ffc5bb0351"
      },
      "execution_count": null,
      "outputs": [
        {
          "output_type": "display_data",
          "data": {
            "text/plain": [
              "<Figure size 2304x360 with 1 Axes>"
            ],
            "image/png": "[encoded data removed]"
          },
          "metadata": {}
        }
      ]
    },
    {
      "cell_type": "code",
      "source": [
        "fig, ax = plt.subplots(figsize=(32, 5))\n",
        "fig.autofmt_xdate(rotation=90)\n",
        "# Add x-axis and y-axis\n",
        "\n",
        "\n",
        "\n",
        "plt.bar(all_df[\"Date\"], all_df[\"Open\"], color='r')\n",
        "plt.bar(all_df[\"Date\"], all_df['High'], bottom= all_df[\"Open\"], color='b')\n",
        "plt.bar(all_df[\"Date\"],all_df['Low'], bottom= all_df[\"Open\"]+ all_df['High'], color='y')\n",
        "plt.bar(all_df[\"Date\"], all_df['Close'], bottom= all_df[\"Open\"]+ all_df['High']+all_df['Low'], color='g')\n",
        "\n",
        "\n",
        "# Set title and labels for axes\n",
        "#ax.set(xlabel=\"Date\", ylabel=\"low\",)\n",
        "\n",
        "plt.xlabel(\"Date\")\n",
        "plt.ylabel(\"price\")\n",
        "plt.legend([\"open\", \"high\", \"low\", \"close\"])\n",
        "\n",
        "\n",
        "\n",
        "plt.xlim([\"2020-01-02\",\"2020-06-01\"])\n",
        "plt.show()"
      ],
      "metadata": {
        "id": "LaN50DLdfWqs",
        "colab": {
          "base_uri": "https://localhost:8080/",
          "height": 145
        },
        "outputId": "945beeec-4b39-40ba-8078-3add33a4e984"
      },
      "execution_count": null,
      "outputs": [
        {
          "output_type": "display_data",
          "data": {
            "text/plain": [
              "<Figure size 2304x360 with 1 Axes>"
            ],
            "image/png": "[encoded data removed]"
          },
          "metadata": {}
        }
      ]
    },
    {
      "cell_type": "code",
      "source": [
        "fig, ax = plt.subplots(figsize=(32, 5))\n",
        "fig.autofmt_xdate(rotation=90)\n",
        "# Add x-axis and y-axis\n",
        "\n",
        "\n",
        "\n",
        "plt.bar(all_df[\"Date\"], all_df[\"Open\"], color='r')\n",
        "plt.bar(all_df[\"Date\"], all_df['High'], bottom= all_df[\"Open\"], color='b')\n",
        "plt.bar(all_df[\"Date\"],all_df['Low'], bottom= all_df[\"Open\"]+ all_df['High'], color='y')\n",
        "plt.bar(all_df[\"Date\"], all_df['Close'], bottom= all_df[\"Open\"]+ all_df['High']+all_df['Low'], color='g')\n",
        "\n",
        "\n",
        "# Set title and labels for axes\n",
        "#ax.set(xlabel=\"Date\", ylabel=\"low\",)\n",
        "\n",
        "plt.xlabel(\"Date\")\n",
        "plt.ylabel(\"price\")\n",
        "plt.legend([\"open\", \"high\", \"low\", \"close\"])\n",
        "\n",
        "\n",
        "\n",
        "plt.xlim([\"2020-06-02\",\"2021-01-01\"])\n",
        "plt.show()"
      ],
      "metadata": {
        "id": "6YsGLE1cfWnc",
        "colab": {
          "base_uri": "https://localhost:8080/",
          "height": 145
        },
        "outputId": "3b93e940-ba47-4168-9d9c-389778ad1f40"
      },
      "execution_count": null,
      "outputs": [
        {
          "output_type": "display_data",
          "data": {
            "text/plain": [
              "<Figure size 2304x360 with 1 Axes>"
            ],
            "image/png": "[encoded data removed]"
          },
          "metadata": {}
        }
      ]
    },
    {
      "cell_type": "code",
      "source": [
        "fig, ax = plt.subplots(figsize=(32, 5))\n",
        "fig.autofmt_xdate(rotation=90)\n",
        "# Add x-axis and y-axis\n",
        "\n",
        "\n",
        "\n",
        "plt.bar(all_df[\"Date\"], all_df[\"Open\"], color='r')\n",
        "plt.bar(all_df[\"Date\"], all_df['High'], bottom= all_df[\"Open\"], color='b')\n",
        "plt.bar(all_df[\"Date\"],all_df['Low'], bottom= all_df[\"Open\"]+ all_df['High'], color='y')\n",
        "plt.bar(all_df[\"Date\"], all_df['Close'], bottom= all_df[\"Open\"]+ all_df['High']+all_df['Low'], color='g')\n",
        "\n",
        "\n",
        "# Set title and labels for axes\n",
        "#ax.set(xlabel=\"Date\", ylabel=\"low\",)\n",
        "\n",
        "plt.xlabel(\"Date\")\n",
        "plt.ylabel(\"price\")\n",
        "plt.legend([\"open\", \"high\", \"low\", \"close\"])\n",
        "\n",
        "\n",
        "\n",
        "plt.xlim([\"2021-01-02\",\"2021-06-01\"])\n",
        "plt.show()"
      ],
      "metadata": {
        "id": "kzFGoLfNfWka",
        "colab": {
          "base_uri": "https://localhost:8080/",
          "height": 145
        },
        "outputId": "6bca983f-090c-47c0-8d81-fdfac23fe83e"
      },
      "execution_count": null,
      "outputs": [
        {
          "output_type": "display_data",
          "data": {
            "text/plain": [
              "<Figure size 2304x360 with 1 Axes>"
            ],
            "image/png": "[encoded data removed]"
          },
          "metadata": {}
        }
      ]
    },
    {
      "cell_type": "code",
      "source": [
        "fig, ax = plt.subplots(figsize=(32, 5))\n",
        "fig.autofmt_xdate(rotation=90)\n",
        "# Add x-axis and y-axis\n",
        "\n",
        "\n",
        "\n",
        "plt.bar(all_df[\"Date\"], all_df[\"Open\"], color='r')\n",
        "plt.bar(all_df[\"Date\"], all_df['High'], bottom= all_df[\"Open\"], color='b')\n",
        "plt.bar(all_df[\"Date\"],all_df['Low'], bottom= all_df[\"Open\"]+ all_df['High'], color='y')\n",
        "plt.bar(all_df[\"Date\"], all_df['Close'], bottom= all_df[\"Open\"]+ all_df['High']+all_df['Low'], color='g')\n",
        "\n",
        "\n",
        "# Set title and labels for axes\n",
        "#ax.set(xlabel=\"Date\", ylabel=\"low\",)\n",
        "\n",
        "plt.xlabel(\"Date\")\n",
        "plt.ylabel(\"price\")\n",
        "plt.legend([\"open\", \"high\", \"low\", \"close\"])\n",
        "\n",
        "\n",
        "\n",
        "plt.xlim([\"2021-06-02\",\"2022-01-01\"])\n",
        "plt.show()"
      ],
      "metadata": {
        "id": "O5IbC2X9fWhC",
        "colab": {
          "base_uri": "https://localhost:8080/",
          "height": 145
        },
        "outputId": "59bd079f-1962-448b-d9e5-61ffce5636f3"
      },
      "execution_count": null,
      "outputs": [
        {
          "output_type": "display_data",
          "data": {
            "text/plain": [
              "<Figure size 2304x360 with 1 Axes>"
            ],
            "image/png": "[encoded data removed]"
          },
          "metadata": {}
        }
      ]
    },
    {
      "cell_type": "code",
      "source": [
        "#pk = df.groupby([\"Volume\"])\n",
        "fig, ax = plt.subplots(figsize=(32, 5))\n",
        "fig.autofmt_xdate(rotation=90)\n",
        "# Add x-axis and y-axis\n",
        "\n",
        "\n",
        "\n",
        "\n",
        "#plt.barh(df[\"Volume\"], df[\"Open\"], color='r')\n",
        "ax = all_df.groupby(by=\"Volume\") \\\n",
        "  .mean()[\"Open\"] \\\n",
        "  .plot(kind=\"bar\")\n",
        "\n",
        "# Set title and labels for axes\n",
        "#ax.set(xlabel=\"Date\", ylabel=\"low\",)\n",
        "\n",
        "plt.xlabel(\"Date\")\n",
        "plt.ylabel(\"price\")\n",
        "plt.legend([\"open\", \"high\", \"low\", \"close\"])\n",
        "plt.gca().axes.get_xaxis().set_visible(False)\n",
        "\n",
        "#plt.xlim([5914570,35096794147])\n",
        "plt.show()"
      ],
      "metadata": {
        "id": "2_78QBSPh3zi",
        "colab": {
          "base_uri": "https://localhost:8080/",
          "height": 115
        },
        "outputId": "3d835e91-4037-4a0a-bf2c-32579450e07e"
      },
      "execution_count": null,
      "outputs": [
        {
          "output_type": "display_data",
          "data": {
            "text/plain": [
              "<Figure size 2304x360 with 1 Axes>"
            ],
            "image/png": "[encoded data removed]"
          },
          "metadata": {}
        }
      ]
    },
    {
      "cell_type": "code",
      "source": [
        "#pk = df.groupby([\"Volume\"])\n",
        "fig, ax = plt.subplots(figsize=(32, 5))\n",
        "fig.autofmt_xdate(rotation=90)\n",
        "# Add x-axis and y-axis\n",
        "\n",
        "\n",
        "\n",
        "\n",
        "#plt.barh(df[\"Volume\"], df[\"Open\"], color='r')\n",
        "ax = all_df.groupby(by=\"Volume\") \\\n",
        "  .mean()[\"High\"] \\\n",
        "  .plot(kind=\"bar\", color = \"g\")\n",
        "\n",
        "# Set title and labels for axes\n",
        "#ax.set(xlabel=\"Date\", ylabel=\"low\",)\n",
        "\n",
        "plt.xlabel(\"Date\")\n",
        "plt.ylabel(\"price\")\n",
        "plt.legend([\"high\"])\n",
        "plt.gca().axes.get_xaxis().set_visible(False)\n",
        "\n",
        "#plt.xlim([5914570,35096794147])\n",
        "plt.show()"
      ],
      "metadata": {
        "id": "JQWonhi1h4f6",
        "colab": {
          "base_uri": "https://localhost:8080/",
          "height": 115
        },
        "outputId": "d4e19f28-c394-473c-d85d-bf9abd234965"
      },
      "execution_count": null,
      "outputs": [
        {
          "output_type": "display_data",
          "data": {
            "text/plain": [
              "<Figure size 2304x360 with 1 Axes>"
            ],
            "image/png": "[encoded data removed]"
          },
          "metadata": {}
        }
      ]
    },
    {
      "cell_type": "code",
      "source": [
        "#pk = df.groupby([\"Volume\"])\n",
        "fig, ax = plt.subplots(figsize=(32, 5))\n",
        "fig.autofmt_xdate(rotation=90)\n",
        "# Add x-axis and y-axis\n",
        "\n",
        "\n",
        "\n",
        "\n",
        "#plt.barh(df[\"Volume\"], df[\"Open\"], color='r')\n",
        "ax = all_df.groupby(by=\"Volume\") \\\n",
        "  .mean()[\"Close\"] \\\n",
        "  .plot(kind=\"bar\" , color = \"purple\")\n",
        "\n",
        "# Set title and labels for axes\n",
        "#ax.set(xlabel=\"Date\", ylabel=\"low\",)\n",
        "\n",
        "plt.xlabel(\"Date\")\n",
        "plt.ylabel(\"price\")\n",
        "plt.legend([\"close\"])\n",
        "plt.gca().axes.get_xaxis().set_visible(False)\n",
        "\n",
        "#plt.xlim([5914570,35096794147])\n",
        "plt.show()"
      ],
      "metadata": {
        "id": "AjC0Vhmlk6LD",
        "colab": {
          "base_uri": "https://localhost:8080/",
          "height": 115
        },
        "outputId": "cd6c41d5-e93b-4e22-df9a-4f23c7e4190a"
      },
      "execution_count": null,
      "outputs": [
        {
          "output_type": "display_data",
          "data": {
            "text/plain": [
              "<Figure size 2304x360 with 1 Axes>"
            ],
            "image/png": "[encoded data removed]"
          },
          "metadata": {}
        }
      ]
    },
    {
      "cell_type": "code",
      "source": [
        "fig, ax = plt.subplots(figsize=(32, 5))\n",
        "fig.autofmt_xdate(rotation=90)\n",
        "# Add x-axis and y-axis\n",
        "\n",
        "\n",
        "\n",
        "\n",
        "#plt.barh(df[\"Volume\"], df[\"Open\"], color='r')\n",
        "ax = all_df.groupby(by=\"Volume\") \\\n",
        "  .mean()[\"Low\"] \\\n",
        "  .plot(kind=\"bar\" , color = \"r\")\n",
        "\n",
        "# Set title and labels for axes\n",
        "#ax.set(xlabel=\"Date\", ylabel=\"low\",)\n",
        "\n",
        "plt.xlabel(\"Date\")\n",
        "plt.ylabel(\"price\")\n",
        "plt.legend([\"low\",])\n",
        "plt.gca().axes.get_xaxis().set_visible(False)\n",
        "\n",
        "#plt.xlim([5914570,35096794147])\n",
        "plt.show()"
      ],
      "metadata": {
        "id": "lkTILFSplIpD",
        "colab": {
          "base_uri": "https://localhost:8080/",
          "height": 115
        },
        "outputId": "fb5c9e2c-0f0c-411d-d545-fd489f537cfa"
      },
      "execution_count": null,
      "outputs": [
        {
          "output_type": "display_data",
          "data": {
            "text/plain": [
              "<Figure size 2304x360 with 1 Axes>"
            ],
            "image/png": "[encoded data removed]"
          },
          "metadata": {}
        }
      ]
    },
    {
      "cell_type": "markdown",
      "source": [
        "# Statistical Analysis & Hypothesis Testing"
      ],
      "metadata": {
        "id": "U6MMahJJrqEs"
      }
    },
    {
      "cell_type": "markdown",
      "source": [
        "# <font color=\"white\">\n",
        "We are conducting statistical tests to check how (or if) the volume and close features (in both single and combined manner) contributes to opening price of the next day.\n",
        "</font>"
      ],
      "metadata": {
        "id": "dmwDABpaEUK7"
      }
    },
    {
      "cell_type": "code",
      "source": [
        "next_day_opening_price = all_df.loc[1:]['Open']"
      ],
      "metadata": {
        "id": "VXI3J7FnrH64"
      },
      "execution_count": null,
      "outputs": []
    },
    {
      "cell_type": "code",
      "source": [
        "next_day_opening_price"
      ],
      "metadata": {
        "id": "MU3zG5vzrPnE",
        "colab": {
          "base_uri": "https://localhost:8080/"
        },
        "outputId": "6c8979a1-973e-47a7-b772-5bd8c93de283"
      },
      "execution_count": null,
      "outputs": [
        {
          "output_type": "execute_result",
          "data": {
            "text/plain": [
              "1         456.859985\n",
              "2         424.102997\n",
              "3         394.673004\n",
              "4         408.084991\n",
              "5         399.100006\n",
              "            ...     \n",
              "2750    47100.437500\n",
              "2751    47456.898438\n",
              "2752    47062.148438\n",
              "2753    45554.164063\n",
              "2754    46168.101563\n",
              "Name: Open, Length: 2754, dtype: float64"
            ]
          },
          "metadata": {},
          "execution_count": 133
        }
      ]
    },
    {
      "cell_type": "code",
      "source": [
        "prev_days= all_df.drop(all_df.tail(1).index)"
      ],
      "metadata": {
        "id": "B9UW3c7IrV2L"
      },
      "execution_count": null,
      "outputs": []
    },
    {
      "cell_type": "code",
      "source": [
        "next_day_opening_price.corr(prev_days['Volume'])"
      ],
      "metadata": {
        "id": "80IAq6FBrhQU",
        "colab": {
          "base_uri": "https://localhost:8080/"
        },
        "outputId": "05fe8404-34df-4ca7-a67b-2190b6c0d9b4"
      },
      "execution_count": null,
      "outputs": [
        {
          "output_type": "execute_result",
          "data": {
            "text/plain": [
              "0.7242979820465036"
            ]
          },
          "metadata": {},
          "execution_count": 135
        }
      ]
    },
    {
      "cell_type": "code",
      "source": [
        "next_day_opening_price.corr(prev_days['Close'])"
      ],
      "metadata": {
        "id": "hQ4y4aV3rmLm",
        "colab": {
          "base_uri": "https://localhost:8080/"
        },
        "outputId": "eb353430-76a2-4b48-868e-c16a397a2a27"
      },
      "execution_count": null,
      "outputs": [
        {
          "output_type": "execute_result",
          "data": {
            "text/plain": [
              "0.9988319358427098"
            ]
          },
          "metadata": {},
          "execution_count": 136
        }
      ]
    },
    {
      "cell_type": "code",
      "source": [
        "open_features = all_df[\"Open\"]\n",
        "open_features"
      ],
      "metadata": {
        "colab": {
          "base_uri": "https://localhost:8080/"
        },
        "id": "mUkDjuDto1YF",
        "outputId": "e466c1cc-ffdf-4404-cfb2-376555e6c6a7"
      },
      "execution_count": null,
      "outputs": [
        {
          "output_type": "execute_result",
          "data": {
            "text/plain": [
              "0         465.864014\n",
              "1         456.859985\n",
              "2         424.102997\n",
              "3         394.673004\n",
              "4         408.084991\n",
              "            ...     \n",
              "2750    47100.437500\n",
              "2751    47456.898438\n",
              "2752    47062.148438\n",
              "2753    45554.164063\n",
              "2754    46168.101563\n",
              "Name: Open, Length: 2755, dtype: float64"
            ]
          },
          "metadata": {},
          "execution_count": 139
        }
      ]
    },
    {
      "cell_type": "markdown",
      "source": [
        "Statistical tests to check how (or if) the volume and close features (in both single and combined manner) contributes to opening price of the next day with Elon Musk's tweets data"
      ],
      "metadata": {
        "id": "Okxco0x0oNu1"
      }
    },
    {
      "cell_type": "code",
      "source": [
        "#prev_days= el_df.drop(all_df.tail(1).index)"
      ],
      "metadata": {
        "id": "Is958S13oEq3"
      },
      "execution_count": null,
      "outputs": []
    },
    {
      "cell_type": "code",
      "source": [
        "next_day_opening_price.corr(prev_days['Volume'])"
      ],
      "metadata": {
        "id": "zWTEgZHHoI8G"
      },
      "execution_count": null,
      "outputs": []
    },
    {
      "cell_type": "code",
      "source": [
        "next_day_opening_price.corr(prev_days['Close'])"
      ],
      "metadata": {
        "id": "Qnq2kKYeoNDc"
      },
      "execution_count": null,
      "outputs": []
    },
    {
      "cell_type": "code",
      "source": [
        "open_features = all_df[\"Open\"]\n",
        "open_features"
      ],
      "metadata": {
        "id": "5EUgLElCoXfg"
      },
      "execution_count": null,
      "outputs": []
    },
    {
      "cell_type": "markdown",
      "source": [
        "# <font color=\"white\">\n",
        "Checking how open price affects high and low prices of that day, close prices affect the prices and the differences between the affect of them. The comparison of correlation between features.\n",
        "</font>\n"
      ],
      "metadata": {
        "id": "-sikNujOVaJk"
      }
    },
    {
      "cell_type": "code",
      "source": [
        "high_values = all_df[\"High\"]"
      ],
      "metadata": {
        "id": "LYkCwUbEFZk_"
      },
      "execution_count": null,
      "outputs": []
    },
    {
      "cell_type": "code",
      "source": [
        "low_values = all_df[\"Low\"]"
      ],
      "metadata": {
        "id": "mTYCXzOyFe-5"
      },
      "execution_count": null,
      "outputs": []
    },
    {
      "cell_type": "code",
      "source": [
        "plt.xlim(0, 65000)\n",
        "plt.ylim(0, 65000)\n",
        "\n",
        "plt.scatter(all_df[\"High\"], all_df[\"Open\"], s = 1, c  =\"purple\")\n",
        "plt.scatter(all_df[\"High\"], all_df[\"Close\"],s = 1, c = \"pink\")\n",
        "x = np.linspace(0, 70000)\n",
        "plt.plot(x, x, c = \"blue\") #plotting x=y line in order to see full correlation points"
      ],
      "metadata": {
        "colab": {
          "base_uri": "https://localhost:8080/",
          "height": 283
        },
        "id": "RdkxBNMiFlas",
        "outputId": "5eb3ca17-f0ae-454c-dc12-469a30c12f2f"
      },
      "execution_count": null,
      "outputs": [
        {
          "output_type": "execute_result",
          "data": {
            "text/plain": [
              "[<matplotlib.lines.Line2D at 0x7f11d79e91d0>]"
            ]
          },
          "metadata": {},
          "execution_count": 238
        },
        {
          "output_type": "display_data",
          "data": {
            "text/plain": [
              "<Figure size 432x288 with 1 Axes>"
            ],
            "image/png": "[encoded data removed]"
          },
          "metadata": {
            "needs_background": "light"
          }
        }
      ]
    },
    {
      "cell_type": "code",
      "source": [
        "all_df[['Open', 'High', 'Close']].corr().style.background_gradient(cmap=\"RdPu\")"
      ],
      "metadata": {
        "colab": {
          "base_uri": "https://localhost:8080/",
          "height": 143
        },
        "id": "v3qc8FliJTax",
        "outputId": "a25788ff-2553-4d23-cf2e-875c86e1765b"
      },
      "execution_count": null,
      "outputs": [
        {
          "output_type": "execute_result",
          "data": {
            "text/plain": [
              "<pandas.io.formats.style.Styler at 0x7f11d8416090>"
            ],
            "text/html": [
              "<style type=\"text/css\">\n",
              "#T_b31fa_row0_col0, #T_b31fa_row1_col1, #T_b31fa_row2_col2 {\n",
              "  background-color: #49006a;\n",
              "  color: #f1f1f1;\n",
              "}\n",
              "#T_b31fa_row0_col1 {\n",
              "  background-color: #feede9;\n",
              "  color: #000000;\n",
              "}\n",
              "#T_b31fa_row0_col2, #T_b31fa_row2_col0, #T_b31fa_row2_col1 {\n",
              "  background-color: #fff7f3;\n",
              "  color: #000000;\n",
              "}\n",
              "#T_b31fa_row1_col0 {\n",
              "  background-color: #e4429a;\n",
              "  color: #f1f1f1;\n",
              "}\n",
              "#T_b31fa_row1_col2 {\n",
              "  background-color: #e94b9c;\n",
              "  color: #f1f1f1;\n",
              "}\n",
              "</style>\n",
              "<table id=\"T_b31fa_\" class=\"dataframe\">\n",
              "  <thead>\n",
              "    <tr>\n",
              "      <th class=\"blank level0\" >&nbsp;</th>\n",
              "      <th class=\"col_heading level0 col0\" >Open</th>\n",
              "      <th class=\"col_heading level0 col1\" >High</th>\n",
              "      <th class=\"col_heading level0 col2\" >Close</th>\n",
              "    </tr>\n",
              "  </thead>\n",
              "  <tbody>\n",
              "    <tr>\n",
              "      <th id=\"T_b31fa_level0_row0\" class=\"row_heading level0 row0\" >Open</th>\n",
              "      <td id=\"T_b31fa_row0_col0\" class=\"data row0 col0\" >1.000000</td>\n",
              "      <td id=\"T_b31fa_row0_col1\" class=\"data row0 col1\" >0.999526</td>\n",
              "      <td id=\"T_b31fa_row0_col2\" class=\"data row0 col2\" >0.998834</td>\n",
              "    </tr>\n",
              "    <tr>\n",
              "      <th id=\"T_b31fa_level0_row1\" class=\"row_heading level0 row1\" >High</th>\n",
              "      <td id=\"T_b31fa_row1_col0\" class=\"data row1 col0\" >0.999526</td>\n",
              "      <td id=\"T_b31fa_row1_col1\" class=\"data row1 col1\" >1.000000</td>\n",
              "      <td id=\"T_b31fa_row1_col2\" class=\"data row1 col2\" >0.999497</td>\n",
              "    </tr>\n",
              "    <tr>\n",
              "      <th id=\"T_b31fa_level0_row2\" class=\"row_heading level0 row2\" >Close</th>\n",
              "      <td id=\"T_b31fa_row2_col0\" class=\"data row2 col0\" >0.998834</td>\n",
              "      <td id=\"T_b31fa_row2_col1\" class=\"data row2 col1\" >0.999497</td>\n",
              "      <td id=\"T_b31fa_row2_col2\" class=\"data row2 col2\" >1.000000</td>\n",
              "    </tr>\n",
              "  </tbody>\n",
              "</table>\n"
            ]
          },
          "metadata": {},
          "execution_count": 210
        }
      ]
    },
    {
      "cell_type": "markdown",
      "source": [
        "Interestingly, Opening price seems to have a somewhat higher correlation with High value of a day rather than Close prices and this increase happens when the prices are higher as well. Now let's check the same with Low values.\n"
      ],
      "metadata": {
        "id": "j4w_7EYAKWf0"
      }
    },
    {
      "cell_type": "code",
      "source": [
        "plt.xlim(0, 65000)\n",
        "plt.ylim(0, 65000)\n",
        "\n",
        "plt.scatter(all_df[\"Low\"], all_df[\"Open\"],  s = 1, c  =\"blue\")\n",
        "plt.scatter(all_df[\"Low\"], all_df[\"Close\"], s = 1, c = \"green\")\n",
        "\n",
        "x = np.linspace(0, 70000)\n",
        "plt.plot(x, x, c = \"pink\") #plotting x=y line in order to see full correlation points"
      ],
      "metadata": {
        "colab": {
          "base_uri": "https://localhost:8080/",
          "height": 283
        },
        "id": "E0Mns5lGRRSZ",
        "outputId": "25efa3b7-dbba-4852-ac95-4fa92e2bbf1d"
      },
      "execution_count": null,
      "outputs": [
        {
          "output_type": "execute_result",
          "data": {
            "text/plain": [
              "[<matplotlib.lines.Line2D at 0x7f11d7aff3d0>]"
            ]
          },
          "metadata": {},
          "execution_count": 235
        },
        {
          "output_type": "display_data",
          "data": {
            "text/plain": [
              "<Figure size 432x288 with 1 Axes>"
            ],
            "image/png": "[encoded data removed]"
          },
          "metadata": {
            "needs_background": "light"
          }
        }
      ]
    },
    {
      "cell_type": "code",
      "source": [
        "all_df[['Open', 'Low', 'Close']].corr().style.background_gradient(cmap=\"GnBu\")"
      ],
      "metadata": {
        "colab": {
          "base_uri": "https://localhost:8080/",
          "height": 143
        },
        "id": "BEwz74SCWXfb",
        "outputId": "4fe392a5-4760-48f1-cedf-643e7b209a6f"
      },
      "execution_count": null,
      "outputs": [
        {
          "output_type": "execute_result",
          "data": {
            "text/plain": [
              "<pandas.io.formats.style.Styler at 0x7f11d7b4e050>"
            ],
            "text/html": [
              "<style type=\"text/css\">\n",
              "#T_7458b_row0_col0, #T_7458b_row1_col1, #T_7458b_row2_col2 {\n",
              "  background-color: #084081;\n",
              "  color: #f1f1f1;\n",
              "}\n",
              "#T_7458b_row0_col1, #T_7458b_row0_col2, #T_7458b_row2_col0 {\n",
              "  background-color: #f7fcf0;\n",
              "  color: #000000;\n",
              "}\n",
              "#T_7458b_row1_col0 {\n",
              "  background-color: #cdebc6;\n",
              "  color: #000000;\n",
              "}\n",
              "#T_7458b_row1_col2 {\n",
              "  background-color: #83cfc1;\n",
              "  color: #000000;\n",
              "}\n",
              "#T_7458b_row2_col1 {\n",
              "  background-color: #bce5be;\n",
              "  color: #000000;\n",
              "}\n",
              "</style>\n",
              "<table id=\"T_7458b_\" class=\"dataframe\">\n",
              "  <thead>\n",
              "    <tr>\n",
              "      <th class=\"blank level0\" >&nbsp;</th>\n",
              "      <th class=\"col_heading level0 col0\" >Open</th>\n",
              "      <th class=\"col_heading level0 col1\" >Low</th>\n",
              "      <th class=\"col_heading level0 col2\" >Close</th>\n",
              "    </tr>\n",
              "  </thead>\n",
              "  <tbody>\n",
              "    <tr>\n",
              "      <th id=\"T_7458b_level0_row0\" class=\"row_heading level0 row0\" >Open</th>\n",
              "      <td id=\"T_7458b_row0_col0\" class=\"data row0 col0\" >1.000000</td>\n",
              "      <td id=\"T_7458b_row0_col1\" class=\"data row0 col1\" >0.999121</td>\n",
              "      <td id=\"T_7458b_row0_col2\" class=\"data row0 col2\" >0.998834</td>\n",
              "    </tr>\n",
              "    <tr>\n",
              "      <th id=\"T_7458b_level0_row1\" class=\"row_heading level0 row1\" >Low</th>\n",
              "      <td id=\"T_7458b_row1_col0\" class=\"data row1 col0\" >0.999121</td>\n",
              "      <td id=\"T_7458b_row1_col1\" class=\"data row1 col1\" >1.000000</td>\n",
              "      <td id=\"T_7458b_row1_col2\" class=\"data row1 col2\" >0.999391</td>\n",
              "    </tr>\n",
              "    <tr>\n",
              "      <th id=\"T_7458b_level0_row2\" class=\"row_heading level0 row2\" >Close</th>\n",
              "      <td id=\"T_7458b_row2_col0\" class=\"data row2 col0\" >0.998834</td>\n",
              "      <td id=\"T_7458b_row2_col1\" class=\"data row2 col1\" >0.999391</td>\n",
              "      <td id=\"T_7458b_row2_col2\" class=\"data row2 col2\" >1.000000</td>\n",
              "    </tr>\n",
              "  </tbody>\n",
              "</table>\n"
            ]
          },
          "metadata": {},
          "execution_count": 236
        }
      ]
    },
    {
      "cell_type": "markdown",
      "source": [
        "High values have more correlation with Open and Close prices of a day than Low prices. And here, low values have more correlation with closing values. This teaches us something: Opening prices are close to high prices, therefore bitcoin prices tend to be higher earlier in the day and get lower when we get closer to closing-time of the market. Therefore, a buyer should buy late and a seller should sell early.\n",
        "\n",
        "Of course, this market is open to manipulations and fluctuations, therefore there are drastic changes from time to time."
      ],
      "metadata": {
        "id": "yZXw2m_-cGUd"
      }
    },
    {
      "cell_type": "markdown",
      "source": [
        "# <font color=\"white\">\n",
        "Statistical tests to check if significant differences exist between different months of a single year and same month of different years\n",
        "</font>"
      ],
      "metadata": {
        "id": "JfjbFPSNrkM_"
      }
    },
    {
      "cell_type": "code",
      "source": [],
      "metadata": {
        "id": "yfgUL2K27fPV"
      },
      "execution_count": null,
      "outputs": []
    },
    {
      "cell_type": "code",
      "source": [],
      "metadata": {
        "id": "dj6U7sSrrjFf"
      },
      "execution_count": null,
      "outputs": []
    },
    {
      "cell_type": "markdown",
      "source": [],
      "metadata": {
        "id": "NN3nzgsYsCWw"
      }
    },
    {
      "cell_type": "markdown",
      "source": [
        "# Machine Learning"
      ],
      "metadata": {
        "id": "ENG4qEgayyHZ"
      }
    },
    {
      "cell_type": "markdown",
      "source": [
        "# <font color=\"pink\">\n",
        "Machine Learning Task 1: -\tPrediction of opening price for a single day given all data of previous 30 days\n",
        "</font>\n",
        "\n",
        "We are predicting the opening price of the 31st day by training the model with High, Low, Close, Adj Close and Volume values of thirty days.\n",
        "\n",
        "We are using Regressing method as this is a continious variable and we are using kNN regressor method."
      ],
      "metadata": {
        "id": "oXs4l-4jkFBa"
      }
    },
    {
      "cell_type": "code",
      "source": [
        "training_data_und = all_df[['High','Low','Close','Adj Close','Volume']]\n",
        "training_data_und = training_data_und[:30].values\n",
        "training_data_und"
      ],
      "metadata": {
        "colab": {
          "base_uri": "https://localhost:8080/"
        },
        "id": "86C54Twzlaau",
        "outputId": "1eb867cd-5135-4795-a688-fdbcf5be5830"
      },
      "execution_count": null,
      "outputs": [
        {
          "output_type": "execute_result",
          "data": {
            "text/plain": [
              "array([[4.68174011e+02, 4.52421997e+02, 4.57334015e+02, 4.57334015e+02,\n",
              "        2.10568000e+07],\n",
              "       [4.56859985e+02, 4.13104004e+02, 4.24440002e+02, 4.24440002e+02,\n",
              "        3.44832000e+07],\n",
              "       [4.27834991e+02, 3.84532013e+02, 3.94795990e+02, 3.94795990e+02,\n",
              "        3.79197000e+07],\n",
              "       [4.23295990e+02, 3.89882996e+02, 4.08903992e+02, 4.08903992e+02,\n",
              "        3.68636000e+07],\n",
              "       [4.12425995e+02, 3.93181000e+02, 3.98821014e+02, 3.98821014e+02,\n",
              "        2.65801000e+07],\n",
              "       [4.06915985e+02, 3.97130005e+02, 4.02152008e+02, 4.02152008e+02,\n",
              "        2.41276000e+07],\n",
              "       [4.41557007e+02, 3.96196991e+02, 4.35790985e+02, 4.35790985e+02,\n",
              "        4.50995000e+07],\n",
              "       [4.36112000e+02, 4.21131989e+02, 4.23204987e+02, 4.23204987e+02,\n",
              "        3.06277000e+07],\n",
              "       [4.23519989e+02, 4.09467987e+02, 4.11574005e+02, 4.11574005e+02,\n",
              "        2.68144000e+07],\n",
              "       [4.14937988e+02, 4.00009003e+02, 4.04424988e+02, 4.04424988e+02,\n",
              "        2.14608000e+07],\n",
              "       [4.06622986e+02, 3.97372009e+02, 3.99519989e+02, 3.99519989e+02,\n",
              "        1.50293000e+07],\n",
              "       [4.01016998e+02, 3.74332001e+02, 3.77181000e+02, 3.77181000e+02,\n",
              "        2.36133000e+07],\n",
              "       [3.85210999e+02, 3.72239990e+02, 3.75467010e+02, 3.75467010e+02,\n",
              "        3.24977000e+07],\n",
              "       [3.90976990e+02, 3.73442993e+02, 3.86944000e+02, 3.86944000e+02,\n",
              "        3.47073000e+07],\n",
              "       [3.91378998e+02, 3.80779999e+02, 3.83614990e+02, 3.83614990e+02,\n",
              "        2.62294000e+07],\n",
              "       [3.85497009e+02, 3.72946014e+02, 3.75071991e+02, 3.75071991e+02,\n",
              "        2.17777000e+07],\n",
              "       [3.77695007e+02, 3.57859009e+02, 3.59511993e+02, 3.59511993e+02,\n",
              "        3.09012000e+07],\n",
              "       [3.64487000e+02, 3.25885986e+02, 3.28865997e+02, 3.28865997e+02,\n",
              "        4.72365000e+07],\n",
              "       [3.41800995e+02, 2.89295990e+02, 3.20510010e+02, 3.20510010e+02,\n",
              "        8.33080960e+07],\n",
              "       [3.45134003e+02, 3.02559998e+02, 3.30079010e+02, 3.30079010e+02,\n",
              "        7.90118000e+07],\n",
              "       [3.39247009e+02, 3.20481995e+02, 3.36187012e+02, 3.36187012e+02,\n",
              "        4.91999000e+07],\n",
              "       [3.54364014e+02, 3.27187988e+02, 3.52940002e+02, 3.52940002e+02,\n",
              "        5.47363000e+07],\n",
              "       [3.82726013e+02, 3.47687012e+02, 3.65026001e+02, 3.65026001e+02,\n",
              "        8.36411040e+07],\n",
              "       [3.75066986e+02, 3.52963013e+02, 3.61562012e+02, 3.61562012e+02,\n",
              "        4.36657000e+07],\n",
              "       [3.67191010e+02, 3.55950989e+02, 3.62299011e+02, 3.62299011e+02,\n",
              "        1.33452000e+07],\n",
              "       [3.79433014e+02, 3.56144012e+02, 3.78549011e+02, 3.78549011e+02,\n",
              "        1.75528000e+07],\n",
              "       [3.97226013e+02, 3.68897003e+02, 3.90414001e+02, 3.90414001e+02,\n",
              "        3.52214000e+07],\n",
              "       [4.11697998e+02, 3.91324005e+02, 4.00869995e+02, 4.00869995e+02,\n",
              "        3.84915000e+07],\n",
              "       [4.02226990e+02, 3.88765991e+02, 3.94773010e+02, 3.94773010e+02,\n",
              "        2.52671000e+07],\n",
              "       [3.98807007e+02, 3.73070007e+02, 3.82556000e+02, 3.82556000e+02,\n",
              "        2.69900000e+07]])"
            ]
          },
          "metadata": {},
          "execution_count": 7
        }
      ]
    },
    {
      "cell_type": "code",
      "source": [
        "training_data_dep = all_df[['Open']]\n",
        "training_data_dep = training_data_dep[:30].values\n",
        "training_data_dep"
      ],
      "metadata": {
        "colab": {
          "base_uri": "https://localhost:8080/"
        },
        "id": "tloEdDCvly5r",
        "outputId": "fb39d5ce-1413-4e6c-82d9-63e647f861f4"
      },
      "execution_count": null,
      "outputs": [
        {
          "output_type": "execute_result",
          "data": {
            "text/plain": [
              "array([[465.864014],\n",
              "       [456.859985],\n",
              "       [424.102997],\n",
              "       [394.673004],\n",
              "       [408.084991],\n",
              "       [399.100006],\n",
              "       [402.09201 ],\n",
              "       [435.751007],\n",
              "       [423.156006],\n",
              "       [411.428986],\n",
              "       [403.556   ],\n",
              "       [399.471008],\n",
              "       [376.928009],\n",
              "       [376.088013],\n",
              "       [387.427002],\n",
              "       [383.988007],\n",
              "       [375.181   ],\n",
              "       [359.891998],\n",
              "       [328.915985],\n",
              "       [320.389008],\n",
              "       [330.584015],\n",
              "       [336.115997],\n",
              "       [352.747986],\n",
              "       [364.687012],\n",
              "       [361.362   ],\n",
              "       [362.605988],\n",
              "       [377.92099 ],\n",
              "       [391.691986],\n",
              "       [400.954987],\n",
              "       [394.518005]])"
            ]
          },
          "metadata": {},
          "execution_count": 8
        }
      ]
    },
    {
      "cell_type": "code",
      "source": [
        "test_data_und = all_df[['High','Low','Close','Adj Close','Volume']]\n",
        "test_data_und = test_data_und.iloc[31].values\n",
        "test_data_und = [test_data_und]\n",
        "test_data_und"
      ],
      "metadata": {
        "colab": {
          "base_uri": "https://localhost:8080/"
        },
        "id": "fBGFQITMmSn6",
        "outputId": "3a01ec7e-ddd0-4089-c9bb-6b1734243a5a"
      },
      "execution_count": null,
      "outputs": [
        {
          "output_type": "execute_result",
          "data": {
            "text/plain": [
              "[array([3.95157990e+02, 3.78971008e+02, 3.91441986e+02, 3.91441986e+02,\n",
              "        1.14168000e+07])]"
            ]
          },
          "metadata": {},
          "execution_count": 9
        }
      ]
    },
    {
      "cell_type": "code",
      "source": [
        "test_data_dep = all_df[['Open']]\n",
        "test_data_dep = test_data_dep.iloc[31].values\n",
        "test_data_dep = [test_data_dep]\n",
        "test_data_dep"
      ],
      "metadata": {
        "colab": {
          "base_uri": "https://localhost:8080/"
        },
        "id": "mJqiOljomTUj",
        "outputId": "88ee7f7d-5e96-4a0a-9bb1-b60c59a5de0f"
      },
      "execution_count": null,
      "outputs": [
        {
          "output_type": "execute_result",
          "data": {
            "text/plain": [
              "[array([383.976013])]"
            ]
          },
          "metadata": {},
          "execution_count": 10
        }
      ]
    },
    {
      "cell_type": "code",
      "source": [
        "all_df.iloc[31]"
      ],
      "metadata": {
        "colab": {
          "base_uri": "https://localhost:8080/"
        },
        "id": "FtqNWn8cmVpQ",
        "outputId": "20cad23f-5a4d-4e9a-d9c1-f478789eda43"
      },
      "execution_count": null,
      "outputs": [
        {
          "output_type": "execute_result",
          "data": {
            "text/plain": [
              "Date         2014-10-18\n",
              "Open         383.976013\n",
              "High          395.15799\n",
              "Low          378.971008\n",
              "Close        391.441986\n",
              "Adj Close    391.441986\n",
              "Volume         11416800\n",
              "Name: 31, dtype: object"
            ]
          },
          "metadata": {},
          "execution_count": 11
        }
      ]
    },
    {
      "cell_type": "code",
      "source": [
        "knn = KNeighborsRegressor()\n",
        "knn.fit(training_data_und, training_data_dep)\n",
        "knn.predict(test_data_und)"
      ],
      "metadata": {
        "colab": {
          "base_uri": "https://localhost:8080/"
        },
        "id": "kqOU3H_9mYF4",
        "outputId": "4af97953-ce30-47d2-a28c-29a74641a607"
      },
      "execution_count": null,
      "outputs": [
        {
          "output_type": "execute_result",
          "data": {
            "text/plain": [
              "array([[400.9633976]])"
            ]
          },
          "metadata": {},
          "execution_count": 12
        }
      ]
    },
    {
      "cell_type": "code",
      "source": [
        "test_data_dep"
      ],
      "metadata": {
        "colab": {
          "base_uri": "https://localhost:8080/"
        },
        "id": "JB-HnG9nmbLl",
        "outputId": "7f7a1006-74b5-4654-8c7e-13e2b25528f9"
      },
      "execution_count": null,
      "outputs": [
        {
          "output_type": "execute_result",
          "data": {
            "text/plain": [
              "[array([383.976013])]"
            ]
          },
          "metadata": {},
          "execution_count": 13
        }
      ]
    },
    {
      "cell_type": "markdown",
      "source": [
        "# <font color=\"pink\">\n",
        "Machine Learning Task 2: Perform hyper-parameter tuning to increase model performance\n",
        "</font>\n",
        "\n",
        "We are performing hyper-parameter tuning by changing the parameters in kNN regressor. After trying different values for different parameters, we have found the ideal values and closes prediction."
      ],
      "metadata": {
        "id": "77WOwBabm6xR"
      }
    },
    {
      "cell_type": "code",
      "source": [
        "model_v2 = KNeighborsRegressor()\n",
        "hyperparameters = dict(algorithm = 'auto',leaf_size=1, n_neighbors=30, p=1, metric = 'minkowski')\n",
        "hyperparameters\n",
        "model_v2 = model_v2.set_params(**hyperparameters)"
      ],
      "metadata": {
        "id": "-NCknlQgnRSt"
      },
      "execution_count": null,
      "outputs": []
    },
    {
      "cell_type": "code",
      "source": [
        "model_v2.get_params()"
      ],
      "metadata": {
        "colab": {
          "base_uri": "https://localhost:8080/"
        },
        "id": "Pqn4d-8NnlXm",
        "outputId": "8245e2ed-1286-46c1-c1f0-a81b2bfec72c"
      },
      "execution_count": null,
      "outputs": [
        {
          "output_type": "execute_result",
          "data": {
            "text/plain": [
              "{'algorithm': 'auto',\n",
              " 'leaf_size': 1,\n",
              " 'metric': 'minkowski',\n",
              " 'metric_params': None,\n",
              " 'n_jobs': None,\n",
              " 'n_neighbors': 30,\n",
              " 'p': 1,\n",
              " 'weights': 'uniform'}"
            ]
          },
          "metadata": {},
          "execution_count": 15
        }
      ]
    },
    {
      "cell_type": "code",
      "source": [
        "model_v2.fit(training_data_und, training_data_dep)"
      ],
      "metadata": {
        "colab": {
          "base_uri": "https://localhost:8080/"
        },
        "id": "gzYbXdKNnm86",
        "outputId": "69064a60-a459-4cdd-89b7-a48a84d7fb26"
      },
      "execution_count": null,
      "outputs": [
        {
          "output_type": "execute_result",
          "data": {
            "text/plain": [
              "KNeighborsRegressor(leaf_size=1, n_neighbors=30, p=1)"
            ]
          },
          "metadata": {},
          "execution_count": 16
        }
      ]
    },
    {
      "cell_type": "code",
      "source": [
        "model_v2.predict(test_data_und)"
      ],
      "metadata": {
        "colab": {
          "base_uri": "https://localhost:8080/"
        },
        "id": "cTjMmDgYnos1",
        "outputId": "5315eed6-5257-4d18-92c1-b627f747e6f3"
      },
      "execution_count": null,
      "outputs": [
        {
          "output_type": "execute_result",
          "data": {
            "text/plain": [
              "array([[386.87126673]])"
            ]
          },
          "metadata": {},
          "execution_count": 17
        }
      ]
    },
    {
      "cell_type": "markdown",
      "source": [
        "# <font color=\"pink\">\n",
        "Machine Learning Task 3: Create a simple recommendation system to decide whether to buy Bitcoin given the open and close prices, as well as volume, of previous 30 days\n",
        "</font>\n",
        "\n",
        "In this task, the system uses Open, Close and Volume values of a given 30 days and gives the High value of the next day.\n",
        "\n",
        "We tried decision tree, random forest, linear regression and kNN regression methods and found the closest one.\n",
        "\n",
        "As we are training the model with only 30 days, we are predicting that the user of this recommendation system is looking for a short-term profit, therefore giving the user the high value."
      ],
      "metadata": {
        "id": "V_HEk9H4nqu6"
      }
    },
    {
      "cell_type": "code",
      "source": [
        "all_df.head()"
      ],
      "metadata": {
        "colab": {
          "base_uri": "https://localhost:8080/",
          "height": 206
        },
        "id": "Gu5EZdQcoZL7",
        "outputId": "6cd1431e-fea1-4a76-84e4-86c1d8705e6f"
      },
      "execution_count": null,
      "outputs": [
        {
          "output_type": "execute_result",
          "data": {
            "text/plain": [
              "         Date        Open        High         Low       Close   Adj Close  \\\n",
              "0  2014-09-17  465.864014  468.174011  452.421997  457.334015  457.334015   \n",
              "1  2014-09-18  456.859985  456.859985  413.104004  424.440002  424.440002   \n",
              "2  2014-09-19  424.102997  427.834991  384.532013  394.795990  394.795990   \n",
              "3  2014-09-20  394.673004  423.295990  389.882996  408.903992  408.903992   \n",
              "4  2014-09-21  408.084991  412.425995  393.181000  398.821014  398.821014   \n",
              "\n",
              "     Volume  \n",
              "0  21056800  \n",
              "1  34483200  \n",
              "2  37919700  \n",
              "3  36863600  \n",
              "4  26580100  "
            ],
            "text/html": [
              "\n",
              "  <div id=\"df-77ffe951-01a1-4def-ae8e-57cf96ca5edd\">\n",
              "    <div class=\"colab-df-container\">\n",
              "      <div>\n",
              "<style scoped>\n",
              "    .dataframe tbody tr th:only-of-type {\n",
              "        vertical-align: middle;\n",
              "    }\n",
              "\n",
              "    .dataframe tbody tr th {\n",
              "        vertical-align: top;\n",
              "    }\n",
              "\n",
              "    .dataframe thead th {\n",
              "        text-align: right;\n",
              "    }\n",
              "</style>\n",
              "<table border=\"1\" class=\"dataframe\">\n",
              "  <thead>\n",
              "    <tr style=\"text-align: right;\">\n",
              "      <th></th>\n",
              "      <th>Date</th>\n",
              "      <th>Open</th>\n",
              "      <th>High</th>\n",
              "      <th>Low</th>\n",
              "      <th>Close</th>\n",
              "      <th>Adj Close</th>\n",
              "      <th>Volume</th>\n",
              "    </tr>\n",
              "  </thead>\n",
              "  <tbody>\n",
              "    <tr>\n",
              "      <th>0</th>\n",
              "      <td>2014-09-17</td>\n",
              "      <td>465.864014</td>\n",
              "      <td>468.174011</td>\n",
              "      <td>452.421997</td>\n",
              "      <td>457.334015</td>\n",
              "      <td>457.334015</td>\n",
              "      <td>21056800</td>\n",
              "    </tr>\n",
              "    <tr>\n",
              "      <th>1</th>\n",
              "      <td>2014-09-18</td>\n",
              "      <td>456.859985</td>\n",
              "      <td>456.859985</td>\n",
              "      <td>413.104004</td>\n",
              "      <td>424.440002</td>\n",
              "      <td>424.440002</td>\n",
              "      <td>34483200</td>\n",
              "    </tr>\n",
              "    <tr>\n",
              "      <th>2</th>\n",
              "      <td>2014-09-19</td>\n",
              "      <td>424.102997</td>\n",
              "      <td>427.834991</td>\n",
              "      <td>384.532013</td>\n",
              "      <td>394.795990</td>\n",
              "      <td>394.795990</td>\n",
              "      <td>37919700</td>\n",
              "    </tr>\n",
              "    <tr>\n",
              "      <th>3</th>\n",
              "      <td>2014-09-20</td>\n",
              "      <td>394.673004</td>\n",
              "      <td>423.295990</td>\n",
              "      <td>389.882996</td>\n",
              "      <td>408.903992</td>\n",
              "      <td>408.903992</td>\n",
              "      <td>36863600</td>\n",
              "    </tr>\n",
              "    <tr>\n",
              "      <th>4</th>\n",
              "      <td>2014-09-21</td>\n",
              "      <td>408.084991</td>\n",
              "      <td>412.425995</td>\n",
              "      <td>393.181000</td>\n",
              "      <td>398.821014</td>\n",
              "      <td>398.821014</td>\n",
              "      <td>26580100</td>\n",
              "    </tr>\n",
              "  </tbody>\n",
              "</table>\n",
              "</div>\n",
              "      <button class=\"colab-df-convert\" onclick=\"convertToInteractive('df-77ffe951-01a1-4def-ae8e-57cf96ca5edd')\"\n",
              "              title=\"Convert this dataframe to an interactive table.\"\n",
              "              style=\"display:none;\">\n",
              "        \n",
              "  <svg xmlns=\"http://www.w3.org/2000/svg\" height=\"24px\"viewBox=\"0 0 24 24\"\n",
              "       width=\"24px\">\n",
              "    <path d=\"M0 0h24v24H0V0z\" fill=\"none\"/>\n",
              "    <path d=\"M18.56 5.44l.94 2.06.94-2.06 2.06-.94-2.06-.94-.94-2.06-.94 2.06-2.06.94zm-11 1L8.5 8.5l.94-2.06 2.06-.94-2.06-.94L8.5 2.5l-.94 2.06-2.06.94zm10 10l.94 2.06.94-2.06 2.06-.94-2.06-.94-.94-2.06-.94 2.06-2.06.94z\"/><path d=\"M17.41 7.96l-1.37-1.37c-.4-.4-.92-.59-1.43-.59-.52 0-1.04.2-1.43.59L10.3 9.45l-7.72 7.72c-.78.78-.78 2.05 0 2.83L4 21.41c.39.39.9.59 1.41.59.51 0 1.02-.2 1.41-.59l7.78-7.78 2.81-2.81c.8-.78.8-2.07 0-2.86zM5.41 20L4 18.59l7.72-7.72 1.47 1.35L5.41 20z\"/>\n",
              "  </svg>\n",
              "      </button>\n",
              "      \n",
              "  <style>\n",
              "    .colab-df-container {\n",
              "      display:flex;\n",
              "      flex-wrap:wrap;\n",
              "      gap: 12px;\n",
              "    }\n",
              "\n",
              "    .colab-df-convert {\n",
              "      background-color: #E8F0FE;\n",
              "      border: none;\n",
              "      border-radius: 50%;\n",
              "      cursor: pointer;\n",
              "      display: none;\n",
              "      fill: #1967D2;\n",
              "      height: 32px;\n",
              "      padding: 0 0 0 0;\n",
              "      width: 32px;\n",
              "    }\n",
              "\n",
              "    .colab-df-convert:hover {\n",
              "      background-color: #E2EBFA;\n",
              "      box-shadow: 0px 1px 2px rgba(60, 64, 67, 0.3), 0px 1px 3px 1px rgba(60, 64, 67, 0.15);\n",
              "      fill: #174EA6;\n",
              "    }\n",
              "\n",
              "    [theme=dark] .colab-df-convert {\n",
              "      background-color: #3B4455;\n",
              "      fill: #D2E3FC;\n",
              "    }\n",
              "\n",
              "    [theme=dark] .colab-df-convert:hover {\n",
              "      background-color: #434B5C;\n",
              "      box-shadow: 0px 1px 3px 1px rgba(0, 0, 0, 0.15);\n",
              "      filter: drop-shadow(0px 1px 2px rgba(0, 0, 0, 0.3));\n",
              "      fill: #FFFFFF;\n",
              "    }\n",
              "  </style>\n",
              "\n",
              "      <script>\n",
              "        const buttonEl =\n",
              "          document.querySelector('#df-77ffe951-01a1-4def-ae8e-57cf96ca5edd button.colab-df-convert');\n",
              "        buttonEl.style.display =\n",
              "          google.colab.kernel.accessAllowed ? 'block' : 'none';\n",
              "\n",
              "        async function convertToInteractive(key) {\n",
              "          const element = document.querySelector('#df-77ffe951-01a1-4def-ae8e-57cf96ca5edd');\n",
              "          const dataTable =\n",
              "            await google.colab.kernel.invokeFunction('convertToInteractive',\n",
              "                                                     [key], {});\n",
              "          if (!dataTable) return;\n",
              "\n",
              "          const docLinkHtml = 'Like what you see? Visit the ' +\n",
              "            '<a target=\"_blank\" href=https://colab.research.google.com/notebooks/data_table.ipynb>data table notebook</a>'\n",
              "            + ' to learn more about interactive tables.';\n",
              "          element.innerHTML = '';\n",
              "          dataTable['output_type'] = 'display_data';\n",
              "          await google.colab.output.renderOutput(dataTable, element);\n",
              "          const docLink = document.createElement('div');\n",
              "          docLink.innerHTML = docLinkHtml;\n",
              "          element.appendChild(docLink);\n",
              "        }\n",
              "      </script>\n",
              "    </div>\n",
              "  </div>\n",
              "  "
            ]
          },
          "metadata": {},
          "execution_count": 18
        }
      ]
    },
    {
      "cell_type": "code",
      "source": [
        "training_data_und = all_df[['Open','Close','Volume']]\n",
        "training_data_und = training_data_und[:30].values\n",
        "training_data_und"
      ],
      "metadata": {
        "colab": {
          "base_uri": "https://localhost:8080/"
        },
        "id": "tXYGE4fVobgx",
        "outputId": "0d82fb29-eb19-42ac-d8cb-72dfa1f4fc51"
      },
      "execution_count": null,
      "outputs": [
        {
          "output_type": "execute_result",
          "data": {
            "text/plain": [
              "array([[4.65864014e+02, 4.57334015e+02, 2.10568000e+07],\n",
              "       [4.56859985e+02, 4.24440002e+02, 3.44832000e+07],\n",
              "       [4.24102997e+02, 3.94795990e+02, 3.79197000e+07],\n",
              "       [3.94673004e+02, 4.08903992e+02, 3.68636000e+07],\n",
              "       [4.08084991e+02, 3.98821014e+02, 2.65801000e+07],\n",
              "       [3.99100006e+02, 4.02152008e+02, 2.41276000e+07],\n",
              "       [4.02092010e+02, 4.35790985e+02, 4.50995000e+07],\n",
              "       [4.35751007e+02, 4.23204987e+02, 3.06277000e+07],\n",
              "       [4.23156006e+02, 4.11574005e+02, 2.68144000e+07],\n",
              "       [4.11428986e+02, 4.04424988e+02, 2.14608000e+07],\n",
              "       [4.03556000e+02, 3.99519989e+02, 1.50293000e+07],\n",
              "       [3.99471008e+02, 3.77181000e+02, 2.36133000e+07],\n",
              "       [3.76928009e+02, 3.75467010e+02, 3.24977000e+07],\n",
              "       [3.76088013e+02, 3.86944000e+02, 3.47073000e+07],\n",
              "       [3.87427002e+02, 3.83614990e+02, 2.62294000e+07],\n",
              "       [3.83988007e+02, 3.75071991e+02, 2.17777000e+07],\n",
              "       [3.75181000e+02, 3.59511993e+02, 3.09012000e+07],\n",
              "       [3.59891998e+02, 3.28865997e+02, 4.72365000e+07],\n",
              "       [3.28915985e+02, 3.20510010e+02, 8.33080960e+07],\n",
              "       [3.20389008e+02, 3.30079010e+02, 7.90118000e+07],\n",
              "       [3.30584015e+02, 3.36187012e+02, 4.91999000e+07],\n",
              "       [3.36115997e+02, 3.52940002e+02, 5.47363000e+07],\n",
              "       [3.52747986e+02, 3.65026001e+02, 8.36411040e+07],\n",
              "       [3.64687012e+02, 3.61562012e+02, 4.36657000e+07],\n",
              "       [3.61362000e+02, 3.62299011e+02, 1.33452000e+07],\n",
              "       [3.62605988e+02, 3.78549011e+02, 1.75528000e+07],\n",
              "       [3.77920990e+02, 3.90414001e+02, 3.52214000e+07],\n",
              "       [3.91691986e+02, 4.00869995e+02, 3.84915000e+07],\n",
              "       [4.00954987e+02, 3.94773010e+02, 2.52671000e+07],\n",
              "       [3.94518005e+02, 3.82556000e+02, 2.69900000e+07]])"
            ]
          },
          "metadata": {},
          "execution_count": 19
        }
      ]
    },
    {
      "cell_type": "code",
      "source": [],
      "metadata": {
        "id": "M4SMhIkGocBz"
      },
      "execution_count": null,
      "outputs": []
    },
    {
      "cell_type": "code",
      "source": [
        "test_data_und = all_df[['Open','Close','Volume']]\n",
        "test_data_und = test_data_und.iloc[32].values\n",
        "test_data_und = test_data_und.reshape(1,-1)\n",
        "test_data_und"
      ],
      "metadata": {
        "colab": {
          "base_uri": "https://localhost:8080/"
        },
        "id": "E5ZLtLhBohHX",
        "outputId": "33344afd-d984-449a-a9cc-8ff44b98e968"
      },
      "execution_count": null,
      "outputs": [
        {
          "output_type": "execute_result",
          "data": {
            "text/plain": [
              "array([[3.91253998e+02, 3.89545990e+02, 5.91457000e+06]])"
            ]
          },
          "metadata": {},
          "execution_count": 20
        }
      ]
    },
    {
      "cell_type": "code",
      "source": [
        "test_data_dep = all_df[['High']]\n",
        "test_data_dep = test_data_dep.iloc[33].values\n",
        "test_data_dep = test_data_dep.reshape(1,-1)\n",
        "test_data_dep"
      ],
      "metadata": {
        "colab": {
          "base_uri": "https://localhost:8080/"
        },
        "id": "mHd24pH1ohq2",
        "outputId": "c1c45891-2ed6-40cd-c6cc-931d69d79970"
      },
      "execution_count": null,
      "outputs": [
        {
          "output_type": "execute_result",
          "data": {
            "text/plain": [
              "array([[390.084015]])"
            ]
          },
          "metadata": {},
          "execution_count": 23
        }
      ]
    },
    {
      "cell_type": "code",
      "source": [
        "# create models in order to test the best fit\n",
        "knn = KNeighborsRegressor(2)\n",
        "dt  = DecisionTreeRegressor()\n",
        "rf  = RandomForestRegressor(n_estimators=50)\n",
        "model = LinearRegression()\n",
        "\n",
        "# train all said models\n",
        "knn.fit(training_data_und, training_data_dep)\n",
        "dt.fit(training_data_und, training_data_dep)\n",
        "rf.fit(training_data_und, training_data_dep)\n",
        "model.fit(training_data_und, training_data_dep)\n"
      ],
      "metadata": {
        "colab": {
          "base_uri": "https://localhost:8080/"
        },
        "id": "sANIjes-onqp",
        "outputId": "3a1e08f2-bb88-4ed5-c62e-2b2f608e8840"
      },
      "execution_count": null,
      "outputs": [
        {
          "output_type": "execute_result",
          "data": {
            "text/plain": [
              "LinearRegression()"
            ]
          },
          "metadata": {},
          "execution_count": 24
        }
      ]
    },
    {
      "cell_type": "code",
      "source": [
        "pred = model.predict(test_data_und)"
      ],
      "metadata": {
        "colab": {
          "base_uri": "https://localhost:8080/"
        },
        "id": "4aUhwg6RznzO",
        "outputId": "d777fa6a-074f-45a0-d942-ac95da2c078c"
      },
      "execution_count": null,
      "outputs": [
        {
          "output_type": "stream",
          "name": "stdout",
          "text": [
            "prediction is: [[391.253998]] and the real value is [[390.084015]]\n"
          ]
        }
      ]
    },
    {
      "cell_type": "code",
      "source": [
        "y_pred_rf = rf.predict(test_data_und)\n",
        "y_pred_knn = knn.predict(test_data_und)\n",
        "y_pred_dt = dt.predict(test_data_und)"
      ],
      "metadata": {
        "id": "KcOoeW9foxLO"
      },
      "execution_count": null,
      "outputs": []
    },
    {
      "cell_type": "code",
      "source": [
        "print(f\"result of rf : {y_pred_rf} and result of knn : {y_pred_knn} and result of dt : {y_pred_dt} result of lr : {pred}.\" )\n",
        "#Among the results linear regression was the closest one. Perhaps with more hyper-parameter tuning the results of kNN, desicion tree\n",
        "#or random forest would've been closer."
      ],
      "metadata": {
        "colab": {
          "base_uri": "https://localhost:8080/"
        },
        "id": "iX4BCsXYoxoW",
        "outputId": "a6b578f6-69db-422b-b1a9-7c4353b21318"
      },
      "execution_count": null,
      "outputs": [
        {
          "output_type": "stream",
          "name": "stdout",
          "text": [
            "result of rf : [393.73956108] and result of knn : [[382.459]] and result of dt : [387.427002] result of lr : [[391.253998]].\n"
          ]
        }
      ]
    },
    {
      "cell_type": "code",
      "source": [
        "print(f\"prediction is: {pred} and the real value is {test_data_dep}\")"
      ],
      "metadata": {
        "colab": {
          "base_uri": "https://localhost:8080/"
        },
        "id": "QWoWyqrWozda",
        "outputId": "9857734a-3d19-4ec3-ea03-faf80c513f41"
      },
      "execution_count": null,
      "outputs": [
        {
          "output_type": "execute_result",
          "data": {
            "text/plain": [
              "array([[390.084015]])"
            ]
          },
          "metadata": {},
          "execution_count": 27
        }
      ]
    },
    {
      "cell_type": "code",
      "source": [
        "#if the high value is higher than the average of the last week, we suggest them to buy bitcoin as they can get a good profit\n",
        "mean_week = training_data_und[23:30].mean()\n",
        "if (mean_week <= pred):\n",
        "  print(\"Bitcoin values are going up! You should definitely buy.\")\n",
        "else:\n",
        "  print(\"Now is not the time.\")"
      ],
      "metadata": {
        "colab": {
          "base_uri": "https://localhost:8080/"
        },
        "id": "GvIJToa_RDtX",
        "outputId": "f641d8dc-e271-4ac7-8f73-a7944592130e"
      },
      "execution_count": null,
      "outputs": [
        {
          "output_type": "stream",
          "name": "stdout",
          "text": [
            "Now is not the time.\n"
          ]
        }
      ]
    },
    {
      "cell_type": "markdown",
      "source": [
        "\n",
        "# <font color=\"pink\">\n",
        "Machine Learning Task 4: Predict trends of all features (open, high, low, close, adj close, volume) for the future time span from 09 March 2022 to 09 September 2022\n",
        "</font>\n",
        "\n",
        "For this model, we are predicting training the model after 2021. The reason for this is the radical increase in Bitcoin as the values in 2015 are too small compared to the values today. We also cut the values from 9 March 2022 because we are expected to estimate the trends from that date and the dataset includes dates until 2nd of April.\n",
        "\n",
        "After that, we are predicting a new day in a for loop for 180 days (6 months we are predicting), while adding the predicted day in the training data.\n",
        "\n",
        "After obtaining the estimated data for 6 months, we are plotting the data and drawing a trend line, in order to look at the trends. Later, we are comparing the obtained data with real-time data.\n",
        "\n"
      ],
      "metadata": {
        "id": "2nUwfz5vpomq"
      }
    },
    {
      "cell_type": "code",
      "source": [
        "all_df.loc[all_df['Date'] == '2022-03-09']"
      ],
      "metadata": {
        "colab": {
          "base_uri": "https://localhost:8080/",
          "height": 81
        },
        "id": "08XrsLpa0EsV",
        "outputId": "f38d5d74-b0e3-428b-b85b-b23bbddc3b22"
      },
      "execution_count": null,
      "outputs": [
        {
          "output_type": "execute_result",
          "data": {
            "text/plain": [
              "            Date          Open          High          Low         Close  \\\n",
              "2730  2022-03-09  38742.816406  42465.671875  38706.09375  41982.925781   \n",
              "\n",
              "         Adj Close       Volume  \n",
              "2730  41982.925781  32284121034  "
            ],
            "text/html": [
              "\n",
              "  <div id=\"df-be05bcf0-bf32-438c-8506-ec10f3653e01\">\n",
              "    <div class=\"colab-df-container\">\n",
              "      <div>\n",
              "<style scoped>\n",
              "    .dataframe tbody tr th:only-of-type {\n",
              "        vertical-align: middle;\n",
              "    }\n",
              "\n",
              "    .dataframe tbody tr th {\n",
              "        vertical-align: top;\n",
              "    }\n",
              "\n",
              "    .dataframe thead th {\n",
              "        text-align: right;\n",
              "    }\n",
              "</style>\n",
              "<table border=\"1\" class=\"dataframe\">\n",
              "  <thead>\n",
              "    <tr style=\"text-align: right;\">\n",
              "      <th></th>\n",
              "      <th>Date</th>\n",
              "      <th>Open</th>\n",
              "      <th>High</th>\n",
              "      <th>Low</th>\n",
              "      <th>Close</th>\n",
              "      <th>Adj Close</th>\n",
              "      <th>Volume</th>\n",
              "    </tr>\n",
              "  </thead>\n",
              "  <tbody>\n",
              "    <tr>\n",
              "      <th>2730</th>\n",
              "      <td>2022-03-09</td>\n",
              "      <td>38742.816406</td>\n",
              "      <td>42465.671875</td>\n",
              "      <td>38706.09375</td>\n",
              "      <td>41982.925781</td>\n",
              "      <td>41982.925781</td>\n",
              "      <td>32284121034</td>\n",
              "    </tr>\n",
              "  </tbody>\n",
              "</table>\n",
              "</div>\n",
              "      <button class=\"colab-df-convert\" onclick=\"convertToInteractive('df-be05bcf0-bf32-438c-8506-ec10f3653e01')\"\n",
              "              title=\"Convert this dataframe to an interactive table.\"\n",
              "              style=\"display:none;\">\n",
              "        \n",
              "  <svg xmlns=\"http://www.w3.org/2000/svg\" height=\"24px\"viewBox=\"0 0 24 24\"\n",
              "       width=\"24px\">\n",
              "    <path d=\"M0 0h24v24H0V0z\" fill=\"none\"/>\n",
              "    <path d=\"M18.56 5.44l.94 2.06.94-2.06 2.06-.94-2.06-.94-.94-2.06-.94 2.06-2.06.94zm-11 1L8.5 8.5l.94-2.06 2.06-.94-2.06-.94L8.5 2.5l-.94 2.06-2.06.94zm10 10l.94 2.06.94-2.06 2.06-.94-2.06-.94-.94-2.06-.94 2.06-2.06.94z\"/><path d=\"M17.41 7.96l-1.37-1.37c-.4-.4-.92-.59-1.43-.59-.52 0-1.04.2-1.43.59L10.3 9.45l-7.72 7.72c-.78.78-.78 2.05 0 2.83L4 21.41c.39.39.9.59 1.41.59.51 0 1.02-.2 1.41-.59l7.78-7.78 2.81-2.81c.8-.78.8-2.07 0-2.86zM5.41 20L4 18.59l7.72-7.72 1.47 1.35L5.41 20z\"/>\n",
              "  </svg>\n",
              "      </button>\n",
              "      \n",
              "  <style>\n",
              "    .colab-df-container {\n",
              "      display:flex;\n",
              "      flex-wrap:wrap;\n",
              "      gap: 12px;\n",
              "    }\n",
              "\n",
              "    .colab-df-convert {\n",
              "      background-color: #E8F0FE;\n",
              "      border: none;\n",
              "      border-radius: 50%;\n",
              "      cursor: pointer;\n",
              "      display: none;\n",
              "      fill: #1967D2;\n",
              "      height: 32px;\n",
              "      padding: 0 0 0 0;\n",
              "      width: 32px;\n",
              "    }\n",
              "\n",
              "    .colab-df-convert:hover {\n",
              "      background-color: #E2EBFA;\n",
              "      box-shadow: 0px 1px 2px rgba(60, 64, 67, 0.3), 0px 1px 3px 1px rgba(60, 64, 67, 0.15);\n",
              "      fill: #174EA6;\n",
              "    }\n",
              "\n",
              "    [theme=dark] .colab-df-convert {\n",
              "      background-color: #3B4455;\n",
              "      fill: #D2E3FC;\n",
              "    }\n",
              "\n",
              "    [theme=dark] .colab-df-convert:hover {\n",
              "      background-color: #434B5C;\n",
              "      box-shadow: 0px 1px 3px 1px rgba(0, 0, 0, 0.15);\n",
              "      filter: drop-shadow(0px 1px 2px rgba(0, 0, 0, 0.3));\n",
              "      fill: #FFFFFF;\n",
              "    }\n",
              "  </style>\n",
              "\n",
              "      <script>\n",
              "        const buttonEl =\n",
              "          document.querySelector('#df-be05bcf0-bf32-438c-8506-ec10f3653e01 button.colab-df-convert');\n",
              "        buttonEl.style.display =\n",
              "          google.colab.kernel.accessAllowed ? 'block' : 'none';\n",
              "\n",
              "        async function convertToInteractive(key) {\n",
              "          const element = document.querySelector('#df-be05bcf0-bf32-438c-8506-ec10f3653e01');\n",
              "          const dataTable =\n",
              "            await google.colab.kernel.invokeFunction('convertToInteractive',\n",
              "                                                     [key], {});\n",
              "          if (!dataTable) return;\n",
              "\n",
              "          const docLinkHtml = 'Like what you see? Visit the ' +\n",
              "            '<a target=\"_blank\" href=https://colab.research.google.com/notebooks/data_table.ipynb>data table notebook</a>'\n",
              "            + ' to learn more about interactive tables.';\n",
              "          element.innerHTML = '';\n",
              "          dataTable['output_type'] = 'display_data';\n",
              "          await google.colab.output.renderOutput(dataTable, element);\n",
              "          const docLink = document.createElement('div');\n",
              "          docLink.innerHTML = docLinkHtml;\n",
              "          element.appendChild(docLink);\n",
              "        }\n",
              "      </script>\n",
              "    </div>\n",
              "  </div>\n",
              "  "
            ]
          },
          "metadata": {},
          "execution_count": 10
        }
      ]
    },
    {
      "cell_type": "code",
      "source": [
        "all_df[:2730]"
      ],
      "metadata": {
        "colab": {
          "base_uri": "https://localhost:8080/",
          "height": 423
        },
        "id": "vJRy40nm0FZ8",
        "outputId": "3a9a70dd-4575-41b8-81e4-8a0f50624d93"
      },
      "execution_count": null,
      "outputs": [
        {
          "output_type": "execute_result",
          "data": {
            "text/plain": [
              "            Date          Open          High           Low         Close  \\\n",
              "0     2014-09-17    465.864014    468.174011    452.421997    457.334015   \n",
              "1     2014-09-18    456.859985    456.859985    413.104004    424.440002   \n",
              "2     2014-09-19    424.102997    427.834991    384.532013    394.795990   \n",
              "3     2014-09-20    394.673004    423.295990    389.882996    408.903992   \n",
              "4     2014-09-21    408.084991    412.425995    393.181000    398.821014   \n",
              "...          ...           ...           ...           ...           ...   \n",
              "2725  2022-03-04  42458.140625  42479.613281  38805.847656  39137.605469   \n",
              "2726  2022-03-05  39148.449219  39566.335938  38777.035156  39400.585938   \n",
              "2727  2022-03-06  39404.199219  39640.175781  38211.648438  38419.984375   \n",
              "2728  2022-03-07  38429.304688  39430.226563  37260.203125  38062.039063   \n",
              "2729  2022-03-08  38059.902344  39304.441406  37957.386719  38737.269531   \n",
              "\n",
              "         Adj Close       Volume  \n",
              "0       457.334015     21056800  \n",
              "1       424.440002     34483200  \n",
              "2       394.795990     37919700  \n",
              "3       408.903992     36863600  \n",
              "4       398.821014     26580100  \n",
              "...            ...          ...  \n",
              "2725  39137.605469  28516271427  \n",
              "2726  39400.585938  16975917450  \n",
              "2727  38419.984375  19745229902  \n",
              "2728  38062.039063  28546143503  \n",
              "2729  38737.269531  25776583476  \n",
              "\n",
              "[2730 rows x 7 columns]"
            ],
            "text/html": [
              "\n",
              "  <div id=\"df-b01fa279-38ad-4b4e-9def-f0781e990617\">\n",
              "    <div class=\"colab-df-container\">\n",
              "      <div>\n",
              "<style scoped>\n",
              "    .dataframe tbody tr th:only-of-type {\n",
              "        vertical-align: middle;\n",
              "    }\n",
              "\n",
              "    .dataframe tbody tr th {\n",
              "        vertical-align: top;\n",
              "    }\n",
              "\n",
              "    .dataframe thead th {\n",
              "        text-align: right;\n",
              "    }\n",
              "</style>\n",
              "<table border=\"1\" class=\"dataframe\">\n",
              "  <thead>\n",
              "    <tr style=\"text-align: right;\">\n",
              "      <th></th>\n",
              "      <th>Date</th>\n",
              "      <th>Open</th>\n",
              "      <th>High</th>\n",
              "      <th>Low</th>\n",
              "      <th>Close</th>\n",
              "      <th>Adj Close</th>\n",
              "      <th>Volume</th>\n",
              "    </tr>\n",
              "  </thead>\n",
              "  <tbody>\n",
              "    <tr>\n",
              "      <th>0</th>\n",
              "      <td>2014-09-17</td>\n",
              "      <td>465.864014</td>\n",
              "      <td>468.174011</td>\n",
              "      <td>452.421997</td>\n",
              "      <td>457.334015</td>\n",
              "      <td>457.334015</td>\n",
              "      <td>21056800</td>\n",
              "    </tr>\n",
              "    <tr>\n",
              "      <th>1</th>\n",
              "      <td>2014-09-18</td>\n",
              "      <td>456.859985</td>\n",
              "      <td>456.859985</td>\n",
              "      <td>413.104004</td>\n",
              "      <td>424.440002</td>\n",
              "      <td>424.440002</td>\n",
              "      <td>34483200</td>\n",
              "    </tr>\n",
              "    <tr>\n",
              "      <th>2</th>\n",
              "      <td>2014-09-19</td>\n",
              "      <td>424.102997</td>\n",
              "      <td>427.834991</td>\n",
              "      <td>384.532013</td>\n",
              "      <td>394.795990</td>\n",
              "      <td>394.795990</td>\n",
              "      <td>37919700</td>\n",
              "    </tr>\n",
              "    <tr>\n",
              "      <th>3</th>\n",
              "      <td>2014-09-20</td>\n",
              "      <td>394.673004</td>\n",
              "      <td>423.295990</td>\n",
              "      <td>389.882996</td>\n",
              "      <td>408.903992</td>\n",
              "      <td>408.903992</td>\n",
              "      <td>36863600</td>\n",
              "    </tr>\n",
              "    <tr>\n",
              "      <th>4</th>\n",
              "      <td>2014-09-21</td>\n",
              "      <td>408.084991</td>\n",
              "      <td>412.425995</td>\n",
              "      <td>393.181000</td>\n",
              "      <td>398.821014</td>\n",
              "      <td>398.821014</td>\n",
              "      <td>26580100</td>\n",
              "    </tr>\n",
              "    <tr>\n",
              "      <th>...</th>\n",
              "      <td>...</td>\n",
              "      <td>...</td>\n",
              "      <td>...</td>\n",
              "      <td>...</td>\n",
              "      <td>...</td>\n",
              "      <td>...</td>\n",
              "      <td>...</td>\n",
              "    </tr>\n",
              "    <tr>\n",
              "      <th>2725</th>\n",
              "      <td>2022-03-04</td>\n",
              "      <td>42458.140625</td>\n",
              "      <td>42479.613281</td>\n",
              "      <td>38805.847656</td>\n",
              "      <td>39137.605469</td>\n",
              "      <td>39137.605469</td>\n",
              "      <td>28516271427</td>\n",
              "    </tr>\n",
              "    <tr>\n",
              "      <th>2726</th>\n",
              "      <td>2022-03-05</td>\n",
              "      <td>39148.449219</td>\n",
              "      <td>39566.335938</td>\n",
              "      <td>38777.035156</td>\n",
              "      <td>39400.585938</td>\n",
              "      <td>39400.585938</td>\n",
              "      <td>16975917450</td>\n",
              "    </tr>\n",
              "    <tr>\n",
              "      <th>2727</th>\n",
              "      <td>2022-03-06</td>\n",
              "      <td>39404.199219</td>\n",
              "      <td>39640.175781</td>\n",
              "      <td>38211.648438</td>\n",
              "      <td>38419.984375</td>\n",
              "      <td>38419.984375</td>\n",
              "      <td>19745229902</td>\n",
              "    </tr>\n",
              "    <tr>\n",
              "      <th>2728</th>\n",
              "      <td>2022-03-07</td>\n",
              "      <td>38429.304688</td>\n",
              "      <td>39430.226563</td>\n",
              "      <td>37260.203125</td>\n",
              "      <td>38062.039063</td>\n",
              "      <td>38062.039063</td>\n",
              "      <td>28546143503</td>\n",
              "    </tr>\n",
              "    <tr>\n",
              "      <th>2729</th>\n",
              "      <td>2022-03-08</td>\n",
              "      <td>38059.902344</td>\n",
              "      <td>39304.441406</td>\n",
              "      <td>37957.386719</td>\n",
              "      <td>38737.269531</td>\n",
              "      <td>38737.269531</td>\n",
              "      <td>25776583476</td>\n",
              "    </tr>\n",
              "  </tbody>\n",
              "</table>\n",
              "<p>2730 rows × 7 columns</p>\n",
              "</div>\n",
              "      <button class=\"colab-df-convert\" onclick=\"convertToInteractive('df-b01fa279-38ad-4b4e-9def-f0781e990617')\"\n",
              "              title=\"Convert this dataframe to an interactive table.\"\n",
              "              style=\"display:none;\">\n",
              "        \n",
              "  <svg xmlns=\"http://www.w3.org/2000/svg\" height=\"24px\"viewBox=\"0 0 24 24\"\n",
              "       width=\"24px\">\n",
              "    <path d=\"M0 0h24v24H0V0z\" fill=\"none\"/>\n",
              "    <path d=\"M18.56 5.44l.94 2.06.94-2.06 2.06-.94-2.06-.94-.94-2.06-.94 2.06-2.06.94zm-11 1L8.5 8.5l.94-2.06 2.06-.94-2.06-.94L8.5 2.5l-.94 2.06-2.06.94zm10 10l.94 2.06.94-2.06 2.06-.94-2.06-.94-.94-2.06-.94 2.06-2.06.94z\"/><path d=\"M17.41 7.96l-1.37-1.37c-.4-.4-.92-.59-1.43-.59-.52 0-1.04.2-1.43.59L10.3 9.45l-7.72 7.72c-.78.78-.78 2.05 0 2.83L4 21.41c.39.39.9.59 1.41.59.51 0 1.02-.2 1.41-.59l7.78-7.78 2.81-2.81c.8-.78.8-2.07 0-2.86zM5.41 20L4 18.59l7.72-7.72 1.47 1.35L5.41 20z\"/>\n",
              "  </svg>\n",
              "      </button>\n",
              "      \n",
              "  <style>\n",
              "    .colab-df-container {\n",
              "      display:flex;\n",
              "      flex-wrap:wrap;\n",
              "      gap: 12px;\n",
              "    }\n",
              "\n",
              "    .colab-df-convert {\n",
              "      background-color: #E8F0FE;\n",
              "      border: none;\n",
              "      border-radius: 50%;\n",
              "      cursor: pointer;\n",
              "      display: none;\n",
              "      fill: #1967D2;\n",
              "      height: 32px;\n",
              "      padding: 0 0 0 0;\n",
              "      width: 32px;\n",
              "    }\n",
              "\n",
              "    .colab-df-convert:hover {\n",
              "      background-color: #E2EBFA;\n",
              "      box-shadow: 0px 1px 2px rgba(60, 64, 67, 0.3), 0px 1px 3px 1px rgba(60, 64, 67, 0.15);\n",
              "      fill: #174EA6;\n",
              "    }\n",
              "\n",
              "    [theme=dark] .colab-df-convert {\n",
              "      background-color: #3B4455;\n",
              "      fill: #D2E3FC;\n",
              "    }\n",
              "\n",
              "    [theme=dark] .colab-df-convert:hover {\n",
              "      background-color: #434B5C;\n",
              "      box-shadow: 0px 1px 3px 1px rgba(0, 0, 0, 0.15);\n",
              "      filter: drop-shadow(0px 1px 2px rgba(0, 0, 0, 0.3));\n",
              "      fill: #FFFFFF;\n",
              "    }\n",
              "  </style>\n",
              "\n",
              "      <script>\n",
              "        const buttonEl =\n",
              "          document.querySelector('#df-b01fa279-38ad-4b4e-9def-f0781e990617 button.colab-df-convert');\n",
              "        buttonEl.style.display =\n",
              "          google.colab.kernel.accessAllowed ? 'block' : 'none';\n",
              "\n",
              "        async function convertToInteractive(key) {\n",
              "          const element = document.querySelector('#df-b01fa279-38ad-4b4e-9def-f0781e990617');\n",
              "          const dataTable =\n",
              "            await google.colab.kernel.invokeFunction('convertToInteractive',\n",
              "                                                     [key], {});\n",
              "          if (!dataTable) return;\n",
              "\n",
              "          const docLinkHtml = 'Like what you see? Visit the ' +\n",
              "            '<a target=\"_blank\" href=https://colab.research.google.com/notebooks/data_table.ipynb>data table notebook</a>'\n",
              "            + ' to learn more about interactive tables.';\n",
              "          element.innerHTML = '';\n",
              "          dataTable['output_type'] = 'display_data';\n",
              "          await google.colab.output.renderOutput(dataTable, element);\n",
              "          const docLink = document.createElement('div');\n",
              "          docLink.innerHTML = docLinkHtml;\n",
              "          element.appendChild(docLink);\n",
              "        }\n",
              "      </script>\n",
              "    </div>\n",
              "  </div>\n",
              "  "
            ]
          },
          "metadata": {},
          "execution_count": 11
        }
      ]
    },
    {
      "cell_type": "code",
      "source": [
        "all_df.loc[all_df['Date'] == '2021-01-01']"
      ],
      "metadata": {
        "colab": {
          "base_uri": "https://localhost:8080/",
          "height": 81
        },
        "id": "oLnoBsdF0HBt",
        "outputId": "b57b0148-092a-41d4-ad96-f5e562ae16d8"
      },
      "execution_count": null,
      "outputs": [
        {
          "output_type": "execute_result",
          "data": {
            "text/plain": [
              "            Date          Open          High           Low         Close  \\\n",
              "2298  2021-01-01  28994.009766  29600.626953  28803.585938  29374.152344   \n",
              "\n",
              "         Adj Close       Volume  \n",
              "2298  29374.152344  40730301359  "
            ],
            "text/html": [
              "\n",
              "  <div id=\"df-4f2b1560-e583-474c-9221-10e3e8fd4c1c\">\n",
              "    <div class=\"colab-df-container\">\n",
              "      <div>\n",
              "<style scoped>\n",
              "    .dataframe tbody tr th:only-of-type {\n",
              "        vertical-align: middle;\n",
              "    }\n",
              "\n",
              "    .dataframe tbody tr th {\n",
              "        vertical-align: top;\n",
              "    }\n",
              "\n",
              "    .dataframe thead th {\n",
              "        text-align: right;\n",
              "    }\n",
              "</style>\n",
              "<table border=\"1\" class=\"dataframe\">\n",
              "  <thead>\n",
              "    <tr style=\"text-align: right;\">\n",
              "      <th></th>\n",
              "      <th>Date</th>\n",
              "      <th>Open</th>\n",
              "      <th>High</th>\n",
              "      <th>Low</th>\n",
              "      <th>Close</th>\n",
              "      <th>Adj Close</th>\n",
              "      <th>Volume</th>\n",
              "    </tr>\n",
              "  </thead>\n",
              "  <tbody>\n",
              "    <tr>\n",
              "      <th>2298</th>\n",
              "      <td>2021-01-01</td>\n",
              "      <td>28994.009766</td>\n",
              "      <td>29600.626953</td>\n",
              "      <td>28803.585938</td>\n",
              "      <td>29374.152344</td>\n",
              "      <td>29374.152344</td>\n",
              "      <td>40730301359</td>\n",
              "    </tr>\n",
              "  </tbody>\n",
              "</table>\n",
              "</div>\n",
              "      <button class=\"colab-df-convert\" onclick=\"convertToInteractive('df-4f2b1560-e583-474c-9221-10e3e8fd4c1c')\"\n",
              "              title=\"Convert this dataframe to an interactive table.\"\n",
              "              style=\"display:none;\">\n",
              "        \n",
              "  <svg xmlns=\"http://www.w3.org/2000/svg\" height=\"24px\"viewBox=\"0 0 24 24\"\n",
              "       width=\"24px\">\n",
              "    <path d=\"M0 0h24v24H0V0z\" fill=\"none\"/>\n",
              "    <path d=\"M18.56 5.44l.94 2.06.94-2.06 2.06-.94-2.06-.94-.94-2.06-.94 2.06-2.06.94zm-11 1L8.5 8.5l.94-2.06 2.06-.94-2.06-.94L8.5 2.5l-.94 2.06-2.06.94zm10 10l.94 2.06.94-2.06 2.06-.94-2.06-.94-.94-2.06-.94 2.06-2.06.94z\"/><path d=\"M17.41 7.96l-1.37-1.37c-.4-.4-.92-.59-1.43-.59-.52 0-1.04.2-1.43.59L10.3 9.45l-7.72 7.72c-.78.78-.78 2.05 0 2.83L4 21.41c.39.39.9.59 1.41.59.51 0 1.02-.2 1.41-.59l7.78-7.78 2.81-2.81c.8-.78.8-2.07 0-2.86zM5.41 20L4 18.59l7.72-7.72 1.47 1.35L5.41 20z\"/>\n",
              "  </svg>\n",
              "      </button>\n",
              "      \n",
              "  <style>\n",
              "    .colab-df-container {\n",
              "      display:flex;\n",
              "      flex-wrap:wrap;\n",
              "      gap: 12px;\n",
              "    }\n",
              "\n",
              "    .colab-df-convert {\n",
              "      background-color: #E8F0FE;\n",
              "      border: none;\n",
              "      border-radius: 50%;\n",
              "      cursor: pointer;\n",
              "      display: none;\n",
              "      fill: #1967D2;\n",
              "      height: 32px;\n",
              "      padding: 0 0 0 0;\n",
              "      width: 32px;\n",
              "    }\n",
              "\n",
              "    .colab-df-convert:hover {\n",
              "      background-color: #E2EBFA;\n",
              "      box-shadow: 0px 1px 2px rgba(60, 64, 67, 0.3), 0px 1px 3px 1px rgba(60, 64, 67, 0.15);\n",
              "      fill: #174EA6;\n",
              "    }\n",
              "\n",
              "    [theme=dark] .colab-df-convert {\n",
              "      background-color: #3B4455;\n",
              "      fill: #D2E3FC;\n",
              "    }\n",
              "\n",
              "    [theme=dark] .colab-df-convert:hover {\n",
              "      background-color: #434B5C;\n",
              "      box-shadow: 0px 1px 3px 1px rgba(0, 0, 0, 0.15);\n",
              "      filter: drop-shadow(0px 1px 2px rgba(0, 0, 0, 0.3));\n",
              "      fill: #FFFFFF;\n",
              "    }\n",
              "  </style>\n",
              "\n",
              "      <script>\n",
              "        const buttonEl =\n",
              "          document.querySelector('#df-4f2b1560-e583-474c-9221-10e3e8fd4c1c button.colab-df-convert');\n",
              "        buttonEl.style.display =\n",
              "          google.colab.kernel.accessAllowed ? 'block' : 'none';\n",
              "\n",
              "        async function convertToInteractive(key) {\n",
              "          const element = document.querySelector('#df-4f2b1560-e583-474c-9221-10e3e8fd4c1c');\n",
              "          const dataTable =\n",
              "            await google.colab.kernel.invokeFunction('convertToInteractive',\n",
              "                                                     [key], {});\n",
              "          if (!dataTable) return;\n",
              "\n",
              "          const docLinkHtml = 'Like what you see? Visit the ' +\n",
              "            '<a target=\"_blank\" href=https://colab.research.google.com/notebooks/data_table.ipynb>data table notebook</a>'\n",
              "            + ' to learn more about interactive tables.';\n",
              "          element.innerHTML = '';\n",
              "          dataTable['output_type'] = 'display_data';\n",
              "          await google.colab.output.renderOutput(dataTable, element);\n",
              "          const docLink = document.createElement('div');\n",
              "          docLink.innerHTML = docLinkHtml;\n",
              "          element.appendChild(docLink);\n",
              "        }\n",
              "      </script>\n",
              "    </div>\n",
              "  </div>\n",
              "  "
            ]
          },
          "metadata": {},
          "execution_count": 12
        }
      ]
    },
    {
      "cell_type": "code",
      "source": [
        "training_data_und = all_df[['Open','High','Low','Close','Adj Close','Volume']]\n",
        "training_data_und = training_data_und[2298:2729].values\n",
        "training_data_und"
      ],
      "metadata": {
        "colab": {
          "base_uri": "https://localhost:8080/"
        },
        "id": "H90r5a2m0I8Z",
        "outputId": "757b4980-edb0-49dd-9b83-075692ca0921"
      },
      "execution_count": null,
      "outputs": [
        {
          "output_type": "execute_result",
          "data": {
            "text/plain": [
              "array([[2.89940098e+04, 2.96006270e+04, 2.88035859e+04, 2.93741523e+04,\n",
              "        2.93741523e+04, 4.07303014e+10],\n",
              "       [2.93764551e+04, 3.31551172e+04, 2.90911816e+04, 3.21272676e+04,\n",
              "        3.21272676e+04, 6.78654208e+10],\n",
              "       [3.21294082e+04, 3.46085586e+04, 3.20523164e+04, 3.27820234e+04,\n",
              "        3.27820234e+04, 7.86652352e+10],\n",
              "       ...,\n",
              "       [3.91484492e+04, 3.95663359e+04, 3.87770352e+04, 3.94005859e+04,\n",
              "        3.94005859e+04, 1.69759174e+10],\n",
              "       [3.94041992e+04, 3.96401758e+04, 3.82116484e+04, 3.84199844e+04,\n",
              "        3.84199844e+04, 1.97452299e+10],\n",
              "       [3.84293047e+04, 3.94302266e+04, 3.72602031e+04, 3.80620391e+04,\n",
              "        3.80620391e+04, 2.85461435e+10]])"
            ]
          },
          "metadata": {},
          "execution_count": 13
        }
      ]
    },
    {
      "cell_type": "code",
      "source": [
        "training_data_dep = all_df[['Open','High','Low','Close','Adj Close','Volume']]\n",
        "training_data_dep = training_data_dep[2299:2730].values\n",
        "training_data_dep"
      ],
      "metadata": {
        "colab": {
          "base_uri": "https://localhost:8080/"
        },
        "id": "k89araga0LFz",
        "outputId": "1671ecd8-40bb-4eef-de83-d970db1bc67e"
      },
      "execution_count": null,
      "outputs": [
        {
          "output_type": "execute_result",
          "data": {
            "text/plain": [
              "array([[2.93764551e+04, 3.31551172e+04, 2.90911816e+04, 3.21272676e+04,\n",
              "        3.21272676e+04, 6.78654208e+10],\n",
              "       [3.21294082e+04, 3.46085586e+04, 3.20523164e+04, 3.27820234e+04,\n",
              "        3.27820234e+04, 7.86652352e+10],\n",
              "       [3.28109492e+04, 3.34402188e+04, 2.87227559e+04, 3.19719141e+04,\n",
              "        3.19719141e+04, 8.11634753e+10],\n",
              "       ...,\n",
              "       [3.94041992e+04, 3.96401758e+04, 3.82116484e+04, 3.84199844e+04,\n",
              "        3.84199844e+04, 1.97452299e+10],\n",
              "       [3.84293047e+04, 3.94302266e+04, 3.72602031e+04, 3.80620391e+04,\n",
              "        3.80620391e+04, 2.85461435e+10],\n",
              "       [3.80599023e+04, 3.93044414e+04, 3.79573867e+04, 3.87372695e+04,\n",
              "        3.87372695e+04, 2.57765835e+10]])"
            ]
          },
          "metadata": {},
          "execution_count": 14
        }
      ]
    },
    {
      "cell_type": "code",
      "source": [
        "model_for_fourth_task = LinearRegression()\n",
        "model_for_fourth_task.fit(training_data_und,training_data_dep)"
      ],
      "metadata": {
        "colab": {
          "base_uri": "https://localhost:8080/"
        },
        "id": "-ClV3Pmb0M27",
        "outputId": "fd94d664-fae1-4289-ec3f-3d5477dc6cff"
      },
      "execution_count": null,
      "outputs": [
        {
          "output_type": "execute_result",
          "data": {
            "text/plain": [
              "LinearRegression()"
            ]
          },
          "metadata": {},
          "execution_count": 15
        }
      ]
    },
    {
      "cell_type": "code",
      "source": [
        "start_of_test = all_df[['Open','High','Low','Close','Adj Close','Volume']]\n",
        "start_of_test = start_of_test.iloc[2731].values\n",
        "start_of_test = start_of_test.reshape(1,-1)\n",
        "start_of_test"
      ],
      "metadata": {
        "colab": {
          "base_uri": "https://localhost:8080/"
        },
        "id": "vcPGo4la0OwQ",
        "outputId": "e854d9a6-f5ac-4adc-801e-99f582335910"
      },
      "execution_count": null,
      "outputs": [
        {
          "output_type": "execute_result",
          "data": {
            "text/plain": [
              "array([[4.19740703e+04, 4.20047266e+04, 3.88329414e+04, 3.94374609e+04,\n",
              "        3.94374609e+04, 3.10780647e+10]])"
            ]
          },
          "metadata": {},
          "execution_count": 16
        }
      ]
    },
    {
      "cell_type": "code",
      "source": [
        "model_for_fourth_task.predict(start_of_test)"
      ],
      "metadata": {
        "colab": {
          "base_uri": "https://localhost:8080/"
        },
        "id": "PC65Dr5v0QY-",
        "outputId": "bac157cb-c797-41d2-93a8-bc03d9428f7b"
      },
      "execution_count": null,
      "outputs": [
        {
          "output_type": "execute_result",
          "data": {
            "text/plain": [
              "array([[3.94473934e+04, 4.07998317e+04, 3.80146363e+04, 3.96452579e+04,\n",
              "        3.96452579e+04, 3.85658656e+10]])"
            ]
          },
          "metadata": {},
          "execution_count": 17
        }
      ]
    },
    {
      "cell_type": "code",
      "source": [
        "predicted_data = model_for_fourth_task.predict(start_of_test)\n",
        "df_for_future = pd.DataFrame(columns = ['Open','High','Low','Close','Adj Close','Volume'])"
      ],
      "metadata": {
        "id": "bHrqE_E00SEW"
      },
      "execution_count": null,
      "outputs": []
    },
    {
      "cell_type": "code",
      "source": [
        "predicted_data = predicted_data[0]\n",
        "predicted_data"
      ],
      "metadata": {
        "colab": {
          "base_uri": "https://localhost:8080/"
        },
        "id": "YKUhyfdO0Uu8",
        "outputId": "eec9e28e-07c1-41b7-fac3-8430ae99e9ad"
      },
      "execution_count": null,
      "outputs": [
        {
          "output_type": "execute_result",
          "data": {
            "text/plain": [
              "array([3.94473934e+04, 4.07998317e+04, 3.80146363e+04, 3.96452579e+04,\n",
              "       3.96452579e+04, 3.85658656e+10])"
            ]
          },
          "metadata": {},
          "execution_count": 19
        }
      ]
    },
    {
      "cell_type": "code",
      "source": [
        "predicted_data[0]"
      ],
      "metadata": {
        "colab": {
          "base_uri": "https://localhost:8080/"
        },
        "id": "7OpoH4Mj0WrV",
        "outputId": "7588fa3b-2880-40cd-db38-09fc86bbaf7e"
      },
      "execution_count": null,
      "outputs": [
        {
          "output_type": "execute_result",
          "data": {
            "text/plain": [
              "39447.39340361594"
            ]
          },
          "metadata": {},
          "execution_count": 20
        }
      ]
    },
    {
      "cell_type": "code",
      "source": [
        "dictToAddData = {    'Open'      : predicted_data[0],\n",
        "                     'High'      : predicted_data[1],\n",
        "                     'Low'       : predicted_data[2],\n",
        "                     'Close'     : predicted_data[3],\n",
        "                     'Adj Close' : predicted_data[4],\n",
        "                     'Volume'    : predicted_data[5]}"
      ],
      "metadata": {
        "id": "NWlDqpHl0YKE"
      },
      "execution_count": null,
      "outputs": []
    },
    {
      "cell_type": "code",
      "source": [
        "def addToDataFrame(predictedData, dfForFuture):\n",
        "\n",
        "  for i in range(0,180):\n",
        "    dictToAddData = {'Open': predictedData[0], 'High': predictedData[1], 'Low': predictedData[2],'Close'     : predictedData[3],'Adj Close' : predictedData[4],'Volume'    : predictedData[5]}\n",
        "\n",
        "    dfForFuture     = dfForFuture.append(dictToAddData, ignore_index = True)\n",
        "    newTestData     = dfForFuture.iloc[i].values\n",
        "    newTestData     = newTestData.reshape(1,-1)\n",
        "    predictedData   = model_for_fourth_task.predict(newTestData)\n",
        "    predictedData   = predictedData[0]\n",
        "\n",
        "  return dfForFuture"
      ],
      "metadata": {
        "id": "rcB2KoRo0aOt"
      },
      "execution_count": null,
      "outputs": []
    },
    {
      "cell_type": "code",
      "source": [
        "finalDF = addToDataFrame(predicted_data,df_for_future)\n",
        "finalDF"
      ],
      "metadata": {
        "colab": {
          "base_uri": "https://localhost:8080/",
          "height": 423
        },
        "id": "tvJlDYoe0gnN",
        "outputId": "ae84f389-b55f-4cac-c2b5-048bf825028b"
      },
      "execution_count": null,
      "outputs": [
        {
          "output_type": "execute_result",
          "data": {
            "text/plain": [
              "             Open          High           Low         Close     Adj Close  \\\n",
              "0    39447.393404  40799.831668  38014.636258  39645.257939  39645.257939   \n",
              "1    39651.320925  40913.879549  38331.269460  39811.759881  39811.759881   \n",
              "2    39818.065796  41091.662571  38503.423952  39976.712443  39976.712443   \n",
              "3    39983.529374  41258.888645  38659.941702  40136.689855  40136.689855   \n",
              "4    40143.565258  41421.439901  38813.669018  40293.745225  40293.745225   \n",
              "..            ...           ...           ...           ...           ...   \n",
              "175  47272.784268  48555.601831  45771.335362  47265.460365  47265.460365   \n",
              "176  47276.568083  48559.387004  45775.029661  47269.160341  47269.160341   \n",
              "177  47280.270270  48563.090520  45778.644264  47272.780497  47272.780497   \n",
              "178  47283.892590  48566.714140  45782.180889  47276.322555  47276.322555   \n",
              "179  47287.436766  48570.259588  45785.641219  47279.788201  47279.788201   \n",
              "\n",
              "           Volume  \n",
              "0    3.856587e+10  \n",
              "1    4.054444e+10  \n",
              "2    4.108930e+10  \n",
              "3    4.143966e+10  \n",
              "4    4.164017e+10  \n",
              "..            ...  \n",
              "175  4.427663e+10  \n",
              "176  4.427795e+10  \n",
              "177  4.427924e+10  \n",
              "178  4.428050e+10  \n",
              "179  4.428173e+10  \n",
              "\n",
              "[180 rows x 6 columns]"
            ],
            "text/html": [
              "\n",
              "  <div id=\"df-8afaaaae-8a83-41ec-b03d-d97101333c8b\">\n",
              "    <div class=\"colab-df-container\">\n",
              "      <div>\n",
              "<style scoped>\n",
              "    .dataframe tbody tr th:only-of-type {\n",
              "        vertical-align: middle;\n",
              "    }\n",
              "\n",
              "    .dataframe tbody tr th {\n",
              "        vertical-align: top;\n",
              "    }\n",
              "\n",
              "    .dataframe thead th {\n",
              "        text-align: right;\n",
              "    }\n",
              "</style>\n",
              "<table border=\"1\" class=\"dataframe\">\n",
              "  <thead>\n",
              "    <tr style=\"text-align: right;\">\n",
              "      <th></th>\n",
              "      <th>Open</th>\n",
              "      <th>High</th>\n",
              "      <th>Low</th>\n",
              "      <th>Close</th>\n",
              "      <th>Adj Close</th>\n",
              "      <th>Volume</th>\n",
              "    </tr>\n",
              "  </thead>\n",
              "  <tbody>\n",
              "    <tr>\n",
              "      <th>0</th>\n",
              "      <td>39447.393404</td>\n",
              "      <td>40799.831668</td>\n",
              "      <td>38014.636258</td>\n",
              "      <td>39645.257939</td>\n",
              "      <td>39645.257939</td>\n",
              "      <td>3.856587e+10</td>\n",
              "    </tr>\n",
              "    <tr>\n",
              "      <th>1</th>\n",
              "      <td>39651.320925</td>\n",
              "      <td>40913.879549</td>\n",
              "      <td>38331.269460</td>\n",
              "      <td>39811.759881</td>\n",
              "      <td>39811.759881</td>\n",
              "      <td>4.054444e+10</td>\n",
              "    </tr>\n",
              "    <tr>\n",
              "      <th>2</th>\n",
              "      <td>39818.065796</td>\n",
              "      <td>41091.662571</td>\n",
              "      <td>38503.423952</td>\n",
              "      <td>39976.712443</td>\n",
              "      <td>39976.712443</td>\n",
              "      <td>4.108930e+10</td>\n",
              "    </tr>\n",
              "    <tr>\n",
              "      <th>3</th>\n",
              "      <td>39983.529374</td>\n",
              "      <td>41258.888645</td>\n",
              "      <td>38659.941702</td>\n",
              "      <td>40136.689855</td>\n",
              "      <td>40136.689855</td>\n",
              "      <td>4.143966e+10</td>\n",
              "    </tr>\n",
              "    <tr>\n",
              "      <th>4</th>\n",
              "      <td>40143.565258</td>\n",
              "      <td>41421.439901</td>\n",
              "      <td>38813.669018</td>\n",
              "      <td>40293.745225</td>\n",
              "      <td>40293.745225</td>\n",
              "      <td>4.164017e+10</td>\n",
              "    </tr>\n",
              "    <tr>\n",
              "      <th>...</th>\n",
              "      <td>...</td>\n",
              "      <td>...</td>\n",
              "      <td>...</td>\n",
              "      <td>...</td>\n",
              "      <td>...</td>\n",
              "      <td>...</td>\n",
              "    </tr>\n",
              "    <tr>\n",
              "      <th>175</th>\n",
              "      <td>47272.784268</td>\n",
              "      <td>48555.601831</td>\n",
              "      <td>45771.335362</td>\n",
              "      <td>47265.460365</td>\n",
              "      <td>47265.460365</td>\n",
              "      <td>4.427663e+10</td>\n",
              "    </tr>\n",
              "    <tr>\n",
              "      <th>176</th>\n",
              "      <td>47276.568083</td>\n",
              "      <td>48559.387004</td>\n",
              "      <td>45775.029661</td>\n",
              "      <td>47269.160341</td>\n",
              "      <td>47269.160341</td>\n",
              "      <td>4.427795e+10</td>\n",
              "    </tr>\n",
              "    <tr>\n",
              "      <th>177</th>\n",
              "      <td>47280.270270</td>\n",
              "      <td>48563.090520</td>\n",
              "      <td>45778.644264</td>\n",
              "      <td>47272.780497</td>\n",
              "      <td>47272.780497</td>\n",
              "      <td>4.427924e+10</td>\n",
              "    </tr>\n",
              "    <tr>\n",
              "      <th>178</th>\n",
              "      <td>47283.892590</td>\n",
              "      <td>48566.714140</td>\n",
              "      <td>45782.180889</td>\n",
              "      <td>47276.322555</td>\n",
              "      <td>47276.322555</td>\n",
              "      <td>4.428050e+10</td>\n",
              "    </tr>\n",
              "    <tr>\n",
              "      <th>179</th>\n",
              "      <td>47287.436766</td>\n",
              "      <td>48570.259588</td>\n",
              "      <td>45785.641219</td>\n",
              "      <td>47279.788201</td>\n",
              "      <td>47279.788201</td>\n",
              "      <td>4.428173e+10</td>\n",
              "    </tr>\n",
              "  </tbody>\n",
              "</table>\n",
              "<p>180 rows × 6 columns</p>\n",
              "</div>\n",
              "      <button class=\"colab-df-convert\" onclick=\"convertToInteractive('df-8afaaaae-8a83-41ec-b03d-d97101333c8b')\"\n",
              "              title=\"Convert this dataframe to an interactive table.\"\n",
              "              style=\"display:none;\">\n",
              "        \n",
              "  <svg xmlns=\"http://www.w3.org/2000/svg\" height=\"24px\"viewBox=\"0 0 24 24\"\n",
              "       width=\"24px\">\n",
              "    <path d=\"M0 0h24v24H0V0z\" fill=\"none\"/>\n",
              "    <path d=\"M18.56 5.44l.94 2.06.94-2.06 2.06-.94-2.06-.94-.94-2.06-.94 2.06-2.06.94zm-11 1L8.5 8.5l.94-2.06 2.06-.94-2.06-.94L8.5 2.5l-.94 2.06-2.06.94zm10 10l.94 2.06.94-2.06 2.06-.94-2.06-.94-.94-2.06-.94 2.06-2.06.94z\"/><path d=\"M17.41 7.96l-1.37-1.37c-.4-.4-.92-.59-1.43-.59-.52 0-1.04.2-1.43.59L10.3 9.45l-7.72 7.72c-.78.78-.78 2.05 0 2.83L4 21.41c.39.39.9.59 1.41.59.51 0 1.02-.2 1.41-.59l7.78-7.78 2.81-2.81c.8-.78.8-2.07 0-2.86zM5.41 20L4 18.59l7.72-7.72 1.47 1.35L5.41 20z\"/>\n",
              "  </svg>\n",
              "      </button>\n",
              "      \n",
              "  <style>\n",
              "    .colab-df-container {\n",
              "      display:flex;\n",
              "      flex-wrap:wrap;\n",
              "      gap: 12px;\n",
              "    }\n",
              "\n",
              "    .colab-df-convert {\n",
              "      background-color: #E8F0FE;\n",
              "      border: none;\n",
              "      border-radius: 50%;\n",
              "      cursor: pointer;\n",
              "      display: none;\n",
              "      fill: #1967D2;\n",
              "      height: 32px;\n",
              "      padding: 0 0 0 0;\n",
              "      width: 32px;\n",
              "    }\n",
              "\n",
              "    .colab-df-convert:hover {\n",
              "      background-color: #E2EBFA;\n",
              "      box-shadow: 0px 1px 2px rgba(60, 64, 67, 0.3), 0px 1px 3px 1px rgba(60, 64, 67, 0.15);\n",
              "      fill: #174EA6;\n",
              "    }\n",
              "\n",
              "    [theme=dark] .colab-df-convert {\n",
              "      background-color: #3B4455;\n",
              "      fill: #D2E3FC;\n",
              "    }\n",
              "\n",
              "    [theme=dark] .colab-df-convert:hover {\n",
              "      background-color: #434B5C;\n",
              "      box-shadow: 0px 1px 3px 1px rgba(0, 0, 0, 0.15);\n",
              "      filter: drop-shadow(0px 1px 2px rgba(0, 0, 0, 0.3));\n",
              "      fill: #FFFFFF;\n",
              "    }\n",
              "  </style>\n",
              "\n",
              "      <script>\n",
              "        const buttonEl =\n",
              "          document.querySelector('#df-8afaaaae-8a83-41ec-b03d-d97101333c8b button.colab-df-convert');\n",
              "        buttonEl.style.display =\n",
              "          google.colab.kernel.accessAllowed ? 'block' : 'none';\n",
              "\n",
              "        async function convertToInteractive(key) {\n",
              "          const element = document.querySelector('#df-8afaaaae-8a83-41ec-b03d-d97101333c8b');\n",
              "          const dataTable =\n",
              "            await google.colab.kernel.invokeFunction('convertToInteractive',\n",
              "                                                     [key], {});\n",
              "          if (!dataTable) return;\n",
              "\n",
              "          const docLinkHtml = 'Like what you see? Visit the ' +\n",
              "            '<a target=\"_blank\" href=https://colab.research.google.com/notebooks/data_table.ipynb>data table notebook</a>'\n",
              "            + ' to learn more about interactive tables.';\n",
              "          element.innerHTML = '';\n",
              "          dataTable['output_type'] = 'display_data';\n",
              "          await google.colab.output.renderOutput(dataTable, element);\n",
              "          const docLink = document.createElement('div');\n",
              "          docLink.innerHTML = docLinkHtml;\n",
              "          element.appendChild(docLink);\n",
              "        }\n",
              "      </script>\n",
              "    </div>\n",
              "  </div>\n",
              "  "
            ]
          },
          "metadata": {},
          "execution_count": 25
        }
      ]
    },
    {
      "cell_type": "code",
      "source": [
        "x_coordinates =[]\n",
        "for a in range (180):\n",
        "  x_coordinates.append(a)\n",
        "y_coordinates = finalDF[\"Open\"]\n",
        "y_coordinates1 = finalDF[\"High\"]\n",
        "y_coordinates2 = finalDF[\"Low\"]\n",
        "y_coordinates3 = finalDF[\"Close\"]\n",
        "y_coordinates4 = finalDF[\"Adj Close\"]\n",
        "y_coordinates5 = finalDF[\"Volume\"]\n"
      ],
      "metadata": {
        "id": "Lg1nuT3Z3VX7"
      },
      "execution_count": null,
      "outputs": []
    },
    {
      "cell_type": "code",
      "source": [
        "plt.scatter(x_coordinates, y_coordinates, c = \"blue\", s = 1) #open\n",
        "plt.scatter(x_coordinates, y_coordinates1, c = \"pink\", s = 1) #high\n",
        "plt.scatter(x_coordinates, y_coordinates2, c = \"yellow\", s = 1) #low\n",
        "plt.scatter(x_coordinates, y_coordinates3, c = \"green\", s = 1) #close\n",
        "plt.scatter(x_coordinates, y_coordinates4, c = \"purple\", s = 1) #adj close\n"
      ],
      "metadata": {
        "colab": {
          "base_uri": "https://localhost:8080/",
          "height": 283
        },
        "id": "LADx-u_93c5Q",
        "outputId": "63c784e8-6640-4ba2-80a2-e3bdc2e0f6c0"
      },
      "execution_count": null,
      "outputs": [
        {
          "output_type": "execute_result",
          "data": {
            "text/plain": [
              "<matplotlib.collections.PathCollection at 0x7f11dad4cc50>"
            ]
          },
          "metadata": {},
          "execution_count": 72
        },
        {
          "output_type": "display_data",
          "data": {
            "text/plain": [
              "<Figure size 432x288 with 1 Axes>"
            ],
            "image/png": "[encoded data removed]"
          },
          "metadata": {
            "needs_background": "light"
          }
        }
      ]
    },
    {
      "cell_type": "code",
      "source": [
        "plt.scatter(x_coordinates, y_coordinates5, s = 1)"
      ],
      "metadata": {
        "colab": {
          "base_uri": "https://localhost:8080/",
          "height": 294
        },
        "id": "L-S1P7vu7_El",
        "outputId": "1c996e53-be92-4454-d27e-69ec43cc242c"
      },
      "execution_count": null,
      "outputs": [
        {
          "output_type": "execute_result",
          "data": {
            "text/plain": [
              "<matplotlib.collections.PathCollection at 0x7f11dad43590>"
            ]
          },
          "metadata": {},
          "execution_count": 73
        },
        {
          "output_type": "display_data",
          "data": {
            "text/plain": [
              "<Figure size 432x288 with 1 Axes>"
            ],
            "image/png": "[encoded data removed]"
          },
          "metadata": {
            "needs_background": "light"
          }
        }
      ]
    },
    {
      "cell_type": "markdown",
      "source": [
        "Let's look at the values of bitcoin (so far), and the predictions we have made so far."
      ],
      "metadata": {
        "id": "eMerzcYY89n9"
      }
    },
    {
      "cell_type": "code",
      "source": [
        "june_df = pd.read_csv(join(path_prefix,\"BTC-USD_june.csv\"));\n",
        "june_df.loc[june_df['Date'] == '2022-03-09']\n"
      ],
      "metadata": {
        "colab": {
          "base_uri": "https://localhost:8080/",
          "height": 81
        },
        "id": "wNI5_mgW9wZY",
        "outputId": "c5e0c39d-2b68-44a1-9e44-738a4e4e1b08"
      },
      "execution_count": null,
      "outputs": [
        {
          "output_type": "execute_result",
          "data": {
            "text/plain": [
              "            Date          Open          High          Low         Close  \\\n",
              "2730  2022-03-09  38742.816406  42465.671875  38706.09375  41982.925781   \n",
              "\n",
              "         Adj Close       Volume  \n",
              "2730  41982.925781  32284121034  "
            ],
            "text/html": [
              "\n",
              "  <div id=\"df-5fd19af6-56f5-4056-9afd-32609e4d7a7e\">\n",
              "    <div class=\"colab-df-container\">\n",
              "      <div>\n",
              "<style scoped>\n",
              "    .dataframe tbody tr th:only-of-type {\n",
              "        vertical-align: middle;\n",
              "    }\n",
              "\n",
              "    .dataframe tbody tr th {\n",
              "        vertical-align: top;\n",
              "    }\n",
              "\n",
              "    .dataframe thead th {\n",
              "        text-align: right;\n",
              "    }\n",
              "</style>\n",
              "<table border=\"1\" class=\"dataframe\">\n",
              "  <thead>\n",
              "    <tr style=\"text-align: right;\">\n",
              "      <th></th>\n",
              "      <th>Date</th>\n",
              "      <th>Open</th>\n",
              "      <th>High</th>\n",
              "      <th>Low</th>\n",
              "      <th>Close</th>\n",
              "      <th>Adj Close</th>\n",
              "      <th>Volume</th>\n",
              "    </tr>\n",
              "  </thead>\n",
              "  <tbody>\n",
              "    <tr>\n",
              "      <th>2730</th>\n",
              "      <td>2022-03-09</td>\n",
              "      <td>38742.816406</td>\n",
              "      <td>42465.671875</td>\n",
              "      <td>38706.09375</td>\n",
              "      <td>41982.925781</td>\n",
              "      <td>41982.925781</td>\n",
              "      <td>32284121034</td>\n",
              "    </tr>\n",
              "  </tbody>\n",
              "</table>\n",
              "</div>\n",
              "      <button class=\"colab-df-convert\" onclick=\"convertToInteractive('df-5fd19af6-56f5-4056-9afd-32609e4d7a7e')\"\n",
              "              title=\"Convert this dataframe to an interactive table.\"\n",
              "              style=\"display:none;\">\n",
              "        \n",
              "  <svg xmlns=\"http://www.w3.org/2000/svg\" height=\"24px\"viewBox=\"0 0 24 24\"\n",
              "       width=\"24px\">\n",
              "    <path d=\"M0 0h24v24H0V0z\" fill=\"none\"/>\n",
              "    <path d=\"M18.56 5.44l.94 2.06.94-2.06 2.06-.94-2.06-.94-.94-2.06-.94 2.06-2.06.94zm-11 1L8.5 8.5l.94-2.06 2.06-.94-2.06-.94L8.5 2.5l-.94 2.06-2.06.94zm10 10l.94 2.06.94-2.06 2.06-.94-2.06-.94-.94-2.06-.94 2.06-2.06.94z\"/><path d=\"M17.41 7.96l-1.37-1.37c-.4-.4-.92-.59-1.43-.59-.52 0-1.04.2-1.43.59L10.3 9.45l-7.72 7.72c-.78.78-.78 2.05 0 2.83L4 21.41c.39.39.9.59 1.41.59.51 0 1.02-.2 1.41-.59l7.78-7.78 2.81-2.81c.8-.78.8-2.07 0-2.86zM5.41 20L4 18.59l7.72-7.72 1.47 1.35L5.41 20z\"/>\n",
              "  </svg>\n",
              "      </button>\n",
              "      \n",
              "  <style>\n",
              "    .colab-df-container {\n",
              "      display:flex;\n",
              "      flex-wrap:wrap;\n",
              "      gap: 12px;\n",
              "    }\n",
              "\n",
              "    .colab-df-convert {\n",
              "      background-color: #E8F0FE;\n",
              "      border: none;\n",
              "      border-radius: 50%;\n",
              "      cursor: pointer;\n",
              "      display: none;\n",
              "      fill: #1967D2;\n",
              "      height: 32px;\n",
              "      padding: 0 0 0 0;\n",
              "      width: 32px;\n",
              "    }\n",
              "\n",
              "    .colab-df-convert:hover {\n",
              "      background-color: #E2EBFA;\n",
              "      box-shadow: 0px 1px 2px rgba(60, 64, 67, 0.3), 0px 1px 3px 1px rgba(60, 64, 67, 0.15);\n",
              "      fill: #174EA6;\n",
              "    }\n",
              "\n",
              "    [theme=dark] .colab-df-convert {\n",
              "      background-color: #3B4455;\n",
              "      fill: #D2E3FC;\n",
              "    }\n",
              "\n",
              "    [theme=dark] .colab-df-convert:hover {\n",
              "      background-color: #434B5C;\n",
              "      box-shadow: 0px 1px 3px 1px rgba(0, 0, 0, 0.15);\n",
              "      filter: drop-shadow(0px 1px 2px rgba(0, 0, 0, 0.3));\n",
              "      fill: #FFFFFF;\n",
              "    }\n",
              "  </style>\n",
              "\n",
              "      <script>\n",
              "        const buttonEl =\n",
              "          document.querySelector('#df-5fd19af6-56f5-4056-9afd-32609e4d7a7e button.colab-df-convert');\n",
              "        buttonEl.style.display =\n",
              "          google.colab.kernel.accessAllowed ? 'block' : 'none';\n",
              "\n",
              "        async function convertToInteractive(key) {\n",
              "          const element = document.querySelector('#df-5fd19af6-56f5-4056-9afd-32609e4d7a7e');\n",
              "          const dataTable =\n",
              "            await google.colab.kernel.invokeFunction('convertToInteractive',\n",
              "                                                     [key], {});\n",
              "          if (!dataTable) return;\n",
              "\n",
              "          const docLinkHtml = 'Like what you see? Visit the ' +\n",
              "            '<a target=\"_blank\" href=https://colab.research.google.com/notebooks/data_table.ipynb>data table notebook</a>'\n",
              "            + ' to learn more about interactive tables.';\n",
              "          element.innerHTML = '';\n",
              "          dataTable['output_type'] = 'display_data';\n",
              "          await google.colab.output.renderOutput(dataTable, element);\n",
              "          const docLink = document.createElement('div');\n",
              "          docLink.innerHTML = docLinkHtml;\n",
              "          element.appendChild(docLink);\n",
              "        }\n",
              "      </script>\n",
              "    </div>\n",
              "  </div>\n",
              "  "
            ]
          },
          "metadata": {},
          "execution_count": 93
        }
      ]
    },
    {
      "cell_type": "code",
      "source": [
        "june_df = june_df[2730:]"
      ],
      "metadata": {
        "id": "fO8mRno7-Xje"
      },
      "execution_count": null,
      "outputs": []
    },
    {
      "cell_type": "code",
      "source": [
        "y_coordinates =  june_df[\"Open\"]\n",
        "y_coordinates1 = june_df[\"High\"]\n",
        "y_coordinates2 = june_df[\"Low\"]\n",
        "y_coordinates3 = june_df[\"Close\"]\n",
        "y_coordinates4 = june_df[\"Adj Close\"]\n",
        "y_coordinates5 = june_df[\"Volume\"]"
      ],
      "metadata": {
        "id": "oyfmklzFAIzT"
      },
      "execution_count": null,
      "outputs": []
    },
    {
      "cell_type": "code",
      "source": [
        "x_coordinates =[]\n",
        "for a in range (len(y_coordinates)):\n",
        "  x_coordinates.append(a)\n",
        "plt.plot(x_coordinates, y_coordinates, c = \"blue\") #open\n",
        "plt.plot(x_coordinates, y_coordinates1, c = \"pink\") #high\n",
        "plt.plot(x_coordinates, y_coordinates2, c = \"yellow\") #low\n",
        "plt.plot(x_coordinates, y_coordinates3, c = \"green\") #close\n",
        "plt.plot(x_coordinates, y_coordinates4, c = \"purple\") #adj close"
      ],
      "metadata": {
        "colab": {
          "base_uri": "https://localhost:8080/",
          "height": 283
        },
        "id": "ayzbdU--AHYQ",
        "outputId": "c0dcca8d-4314-4f13-e60b-2ef24c2556d1"
      },
      "execution_count": null,
      "outputs": [
        {
          "output_type": "execute_result",
          "data": {
            "text/plain": [
              "[<matplotlib.lines.Line2D at 0x7f11dae6eb10>]"
            ]
          },
          "metadata": {},
          "execution_count": 100
        },
        {
          "output_type": "display_data",
          "data": {
            "text/plain": [
              "<Figure size 432x288 with 1 Axes>"
            ],
            "image/png": "[encoded data removed]"
          },
          "metadata": {
            "needs_background": "light"
          }
        }
      ]
    },
    {
      "cell_type": "code",
      "source": [
        "plt.plot(x_coordinates, y_coordinates5)"
      ],
      "metadata": {
        "colab": {
          "base_uri": "https://localhost:8080/",
          "height": 294
        },
        "id": "tHV-0OzfBHQK",
        "outputId": "2ad96de0-fc97-4f42-e25c-3361d24e4b8f"
      },
      "execution_count": null,
      "outputs": [
        {
          "output_type": "execute_result",
          "data": {
            "text/plain": [
              "[<matplotlib.lines.Line2D at 0x7f11daa4d210>]"
            ]
          },
          "metadata": {},
          "execution_count": 102
        },
        {
          "output_type": "display_data",
          "data": {
            "text/plain": [
              "<Figure size 432x288 with 1 Axes>"
            ],
            "image/png": "[encoded data removed]"
          },
          "metadata": {
            "needs_background": "light"
          }
        }
      ]
    },
    {
      "cell_type": "code",
      "source": [
        "pred_june = finalDF[:len(june_df)]\n",
        "pred_june"
      ],
      "metadata": {
        "colab": {
          "base_uri": "https://localhost:8080/",
          "height": 1000
        },
        "id": "nfPyilrwBioH",
        "outputId": "76c6e6e6-6949-4732-fff5-1778e3d6e8bf"
      },
      "execution_count": null,
      "outputs": [
        {
          "output_type": "execute_result",
          "data": {
            "text/plain": [
              "            Open          High           Low         Close     Adj Close  \\\n",
              "0   39447.393404  40799.831668  38014.636258  39645.257939  39645.257939   \n",
              "1   39651.320925  40913.879549  38331.269460  39811.759881  39811.759881   \n",
              "2   39818.065796  41091.662571  38503.423952  39976.712443  39976.712443   \n",
              "3   39983.529374  41258.888645  38659.941702  40136.689855  40136.689855   \n",
              "4   40143.565258  41421.439901  38813.669018  40293.745225  40293.745225   \n",
              "5   40300.704520  41579.761620  38965.681844  40447.601698  40447.601698   \n",
              "6   40454.643596  41734.367679  39115.263067  40598.259500  40598.259500   \n",
              "7   40605.387054  41885.477098  39262.068530  40745.726574  40745.726574   \n",
              "8   40752.939920  42033.244676  39405.938927  40890.043503  40890.043503   \n",
              "9   40897.341906  42177.781944  39546.825638  41031.263110  41031.263110   \n",
              "10  41038.645298  42319.179176  39684.734972  41169.444477  41169.444477   \n",
              "11  41176.908935  42457.514713  39819.701205  41304.649139  41304.649139   \n",
              "12  41312.194244  42592.860085  39951.772350  41436.939245  41436.939245   \n",
              "13  41444.563334  42725.282629  40081.002869  41566.376600  41566.376600   \n",
              "14  41574.078009  42854.846861  40207.449912  41693.022194  41693.022194   \n",
              "15  41700.799277  42981.615199  40331.171395  41816.935970  41816.935970   \n",
              "16  41824.787105  43105.648349  40452.225013  41938.176713  41938.176713   \n",
              "17  41946.100308  43227.005518  40570.667752  42056.802013  42056.802013   \n",
              "18  42064.796507  43345.744539  40686.555641  42172.868253  42172.868253   \n",
              "19  42180.932119  43461.921948  40799.943645  42286.430620  42286.430620   \n",
              "20  42294.562361  43575.593034  40910.885615  42397.543118  42397.543118   \n",
              "21  42405.741271  43686.811879  41019.434279  42506.258594  42506.258594   \n",
              "22  42514.521726  43795.631394  41125.641246  42612.628756  42612.628756   \n",
              "23  42620.955465  43902.103344  41229.557024  42716.704197  42716.704197   \n",
              "24  42725.093112  44006.278373  41331.231034  42818.534421  42818.534421   \n",
              "25  42826.984201  44108.206035  41430.711635  42918.167863  42918.167863   \n",
              "26  42926.677194  44207.934813  41528.046144  43015.651915  43015.651915   \n",
              "27  43024.219513  44305.512142  41623.280859  43111.032945  43111.032945   \n",
              "28  43119.657552  44400.984438  41716.461076  43204.356322  43204.356322   \n",
              "29  43213.036708  44494.397110  41807.631118  43295.666435  43295.666435   \n",
              "30  43304.401397  44585.794593  41896.834351  43385.006716  43385.006716   \n",
              "31  43393.795077  44675.220359  41984.113203  43472.419660  43472.419660   \n",
              "32  43481.260269  44762.716944  42069.509191  43557.946847  43557.946847   \n",
              "33  43566.838575  44848.325967  42153.062931  43641.628956  43641.628956   \n",
              "34  43650.570702  44932.088148  42234.814169  43723.505793  43723.505793   \n",
              "35  43732.496477  45014.043328  42314.801788  43803.616302  43803.616302   \n",
              "36  43812.654868  45094.230490  42393.063835  43881.998588  43881.998588   \n",
              "37  43891.084003  45172.687776  42469.637536  43958.689935  43958.689935   \n",
              "38  43967.821188  45249.452504  42544.559314  44033.726820  44033.726820   \n",
              "39  44042.902923  45324.561188  42617.864806  44107.144935  44107.144935   \n",
              "40  44116.364920  45398.049553  42689.588879  44178.979203  44178.979203   \n",
              "41  44188.242123  45469.952555  42759.765650  44249.263791  44249.263791   \n",
              "42  44258.568721  45540.304395  42828.428499  44318.032130  44318.032130   \n",
              "43  44327.378163  45609.138535  42895.610085  44385.316931  44385.316931   \n",
              "44  44394.703181  45676.487717  42961.342363  44451.150198  44451.150198   \n",
              "45  44460.575796  45742.383977  43025.656600  44515.563245  44515.563245   \n",
              "46  44525.027343  45806.858657  43088.583387  44578.586711  44578.586711   \n",
              "47  44588.088478  45869.942426  43150.152655  44640.250572  44640.250572   \n",
              "48  44649.789196  45931.665290  43210.393691  44700.584159  44700.584159   \n",
              "49  44710.158845  45992.056607  43269.335147  44759.616171  44759.616171   \n",
              "50  44769.226140  46051.145104  43327.005061  44817.374686  44817.374686   \n",
              "51  44827.019178  46108.958885  43383.430862  44873.887178  44873.887178   \n",
              "52  44883.565447  46165.525450  43438.639390  44929.180527  44929.180527   \n",
              "53  44938.891844  46220.871706  43492.656905  44983.281032  44983.281032   \n",
              "54  44993.024686  46275.023978  43545.509102  45036.214429  45036.214429   \n",
              "55  45045.989721  46328.008023  43597.221118  45088.005894  45088.005894   \n",
              "56  45097.812142  46379.849045  43647.817553  45138.680063  45138.680063   \n",
              "57  45148.516599  46430.571701  43697.322471  45188.261038  45188.261038   \n",
              "\n",
              "          Volume  \n",
              "0   3.856587e+10  \n",
              "1   4.054444e+10  \n",
              "2   4.108930e+10  \n",
              "3   4.143966e+10  \n",
              "4   4.164017e+10  \n",
              "5   4.177082e+10  \n",
              "6   4.186346e+10  \n",
              "7   4.193611e+10  \n",
              "8   4.199787e+10  \n",
              "9   4.205349e+10  \n",
              "10  4.210542e+10  \n",
              "11  4.215495e+10  \n",
              "12  4.220274e+10  \n",
              "13  4.224916e+10  \n",
              "14  4.229441e+10  \n",
              "15  4.233858e+10  \n",
              "16  4.238176e+10  \n",
              "17  4.242398e+10  \n",
              "18  4.246528e+10  \n",
              "19  4.250568e+10  \n",
              "20  4.254520e+10  \n",
              "21  4.258387e+10  \n",
              "22  4.262171e+10  \n",
              "23  4.265872e+10  \n",
              "24  4.269494e+10  \n",
              "25  4.273038e+10  \n",
              "26  4.276505e+10  \n",
              "27  4.279898e+10  \n",
              "28  4.283217e+10  \n",
              "29  4.286465e+10  \n",
              "30  4.289643e+10  \n",
              "31  4.292752e+10  \n",
              "32  4.295794e+10  \n",
              "33  4.298770e+10  \n",
              "34  4.301683e+10  \n",
              "35  4.304532e+10  \n",
              "36  4.307320e+10  \n",
              "37  4.310048e+10  \n",
              "38  4.312717e+10  \n",
              "39  4.315328e+10  \n",
              "40  4.317883e+10  \n",
              "41  4.320383e+10  \n",
              "42  4.322829e+10  \n",
              "43  4.325222e+10  \n",
              "44  4.327563e+10  \n",
              "45  4.329855e+10  \n",
              "46  4.332096e+10  \n",
              "47  4.334289e+10  \n",
              "48  4.336435e+10  \n",
              "49  4.338535e+10  \n",
              "50  4.340589e+10  \n",
              "51  4.342599e+10  \n",
              "52  4.344566e+10  \n",
              "53  4.346490e+10  \n",
              "54  4.348373e+10  \n",
              "55  4.350215e+10  \n",
              "56  4.352018e+10  \n",
              "57  4.353781e+10  "
            ],
            "text/html": [
              "\n",
              "  <div id=\"df-3d3db294-b8cb-4212-9c40-0048d9f4a14e\">\n",
              "    <div class=\"colab-df-container\">\n",
              "      <div>\n",
              "<style scoped>\n",
              "    .dataframe tbody tr th:only-of-type {\n",
              "        vertical-align: middle;\n",
              "    }\n",
              "\n",
              "    .dataframe tbody tr th {\n",
              "        vertical-align: top;\n",
              "    }\n",
              "\n",
              "    .dataframe thead th {\n",
              "        text-align: right;\n",
              "    }\n",
              "</style>\n",
              "<table border=\"1\" class=\"dataframe\">\n",
              "  <thead>\n",
              "    <tr style=\"text-align: right;\">\n",
              "      <th></th>\n",
              "      <th>Open</th>\n",
              "      <th>High</th>\n",
              "      <th>Low</th>\n",
              "      <th>Close</th>\n",
              "      <th>Adj Close</th>\n",
              "      <th>Volume</th>\n",
              "    </tr>\n",
              "  </thead>\n",
              "  <tbody>\n",
              "    <tr>\n",
              "      <th>0</th>\n",
              "      <td>39447.393404</td>\n",
              "      <td>40799.831668</td>\n",
              "      <td>38014.636258</td>\n",
              "      <td>39645.257939</td>\n",
              "      <td>39645.257939</td>\n",
              "      <td>3.856587e+10</td>\n",
              "    </tr>\n",
              "    <tr>\n",
              "      <th>1</th>\n",
              "      <td>39651.320925</td>\n",
              "      <td>40913.879549</td>\n",
              "      <td>38331.269460</td>\n",
              "      <td>39811.759881</td>\n",
              "      <td>39811.759881</td>\n",
              "      <td>4.054444e+10</td>\n",
              "    </tr>\n",
              "    <tr>\n",
              "      <th>2</th>\n",
              "      <td>39818.065796</td>\n",
              "      <td>41091.662571</td>\n",
              "      <td>38503.423952</td>\n",
              "      <td>39976.712443</td>\n",
              "      <td>39976.712443</td>\n",
              "      <td>4.108930e+10</td>\n",
              "    </tr>\n",
              "    <tr>\n",
              "      <th>3</th>\n",
              "      <td>39983.529374</td>\n",
              "      <td>41258.888645</td>\n",
              "      <td>38659.941702</td>\n",
              "      <td>40136.689855</td>\n",
              "      <td>40136.689855</td>\n",
              "      <td>4.143966e+10</td>\n",
              "    </tr>\n",
              "    <tr>\n",
              "      <th>4</th>\n",
              "      <td>40143.565258</td>\n",
              "      <td>41421.439901</td>\n",
              "      <td>38813.669018</td>\n",
              "      <td>40293.745225</td>\n",
              "      <td>40293.745225</td>\n",
              "      <td>4.164017e+10</td>\n",
              "    </tr>\n",
              "    <tr>\n",
              "      <th>5</th>\n",
              "      <td>40300.704520</td>\n",
              "      <td>41579.761620</td>\n",
              "      <td>38965.681844</td>\n",
              "      <td>40447.601698</td>\n",
              "      <td>40447.601698</td>\n",
              "      <td>4.177082e+10</td>\n",
              "    </tr>\n",
              "    <tr>\n",
              "      <th>6</th>\n",
              "      <td>40454.643596</td>\n",
              "      <td>41734.367679</td>\n",
              "      <td>39115.263067</td>\n",
              "      <td>40598.259500</td>\n",
              "      <td>40598.259500</td>\n",
              "      <td>4.186346e+10</td>\n",
              "    </tr>\n",
              "    <tr>\n",
              "      <th>7</th>\n",
              "      <td>40605.387054</td>\n",
              "      <td>41885.477098</td>\n",
              "      <td>39262.068530</td>\n",
              "      <td>40745.726574</td>\n",
              "      <td>40745.726574</td>\n",
              "      <td>4.193611e+10</td>\n",
              "    </tr>\n",
              "    <tr>\n",
              "      <th>8</th>\n",
              "      <td>40752.939920</td>\n",
              "      <td>42033.244676</td>\n",
              "      <td>39405.938927</td>\n",
              "      <td>40890.043503</td>\n",
              "      <td>40890.043503</td>\n",
              "      <td>4.199787e+10</td>\n",
              "    </tr>\n",
              "    <tr>\n",
              "      <th>9</th>\n",
              "      <td>40897.341906</td>\n",
              "      <td>42177.781944</td>\n",
              "      <td>39546.825638</td>\n",
              "      <td>41031.263110</td>\n",
              "      <td>41031.263110</td>\n",
              "      <td>4.205349e+10</td>\n",
              "    </tr>\n",
              "    <tr>\n",
              "      <th>10</th>\n",
              "      <td>41038.645298</td>\n",
              "      <td>42319.179176</td>\n",
              "      <td>39684.734972</td>\n",
              "      <td>41169.444477</td>\n",
              "      <td>41169.444477</td>\n",
              "      <td>4.210542e+10</td>\n",
              "    </tr>\n",
              "    <tr>\n",
              "      <th>11</th>\n",
              "      <td>41176.908935</td>\n",
              "      <td>42457.514713</td>\n",
              "      <td>39819.701205</td>\n",
              "      <td>41304.649139</td>\n",
              "      <td>41304.649139</td>\n",
              "      <td>4.215495e+10</td>\n",
              "    </tr>\n",
              "    <tr>\n",
              "      <th>12</th>\n",
              "      <td>41312.194244</td>\n",
              "      <td>42592.860085</td>\n",
              "      <td>39951.772350</td>\n",
              "      <td>41436.939245</td>\n",
              "      <td>41436.939245</td>\n",
              "      <td>4.220274e+10</td>\n",
              "    </tr>\n",
              "    <tr>\n",
              "      <th>13</th>\n",
              "      <td>41444.563334</td>\n",
              "      <td>42725.282629</td>\n",
              "      <td>40081.002869</td>\n",
              "      <td>41566.376600</td>\n",
              "      <td>41566.376600</td>\n",
              "      <td>4.224916e+10</td>\n",
              "    </tr>\n",
              "    <tr>\n",
              "      <th>14</th>\n",
              "      <td>41574.078009</td>\n",
              "      <td>42854.846861</td>\n",
              "      <td>40207.449912</td>\n",
              "      <td>41693.022194</td>\n",
              "      <td>41693.022194</td>\n",
              "      <td>4.229441e+10</td>\n",
              "    </tr>\n",
              "    <tr>\n",
              "      <th>15</th>\n",
              "      <td>41700.799277</td>\n",
              "      <td>42981.615199</td>\n",
              "      <td>40331.171395</td>\n",
              "      <td>41816.935970</td>\n",
              "      <td>41816.935970</td>\n",
              "      <td>4.233858e+10</td>\n",
              "    </tr>\n",
              "    <tr>\n",
              "      <th>16</th>\n",
              "      <td>41824.787105</td>\n",
              "      <td>43105.648349</td>\n",
              "      <td>40452.225013</td>\n",
              "      <td>41938.176713</td>\n",
              "      <td>41938.176713</td>\n",
              "      <td>4.238176e+10</td>\n",
              "    </tr>\n",
              "    <tr>\n",
              "      <th>17</th>\n",
              "      <td>41946.100308</td>\n",
              "      <td>43227.005518</td>\n",
              "      <td>40570.667752</td>\n",
              "      <td>42056.802013</td>\n",
              "      <td>42056.802013</td>\n",
              "      <td>4.242398e+10</td>\n",
              "    </tr>\n",
              "    <tr>\n",
              "      <th>18</th>\n",
              "      <td>42064.796507</td>\n",
              "      <td>43345.744539</td>\n",
              "      <td>40686.555641</td>\n",
              "      <td>42172.868253</td>\n",
              "      <td>42172.868253</td>\n",
              "      <td>4.246528e+10</td>\n",
              "    </tr>\n",
              "    <tr>\n",
              "      <th>19</th>\n",
              "      <td>42180.932119</td>\n",
              "      <td>43461.921948</td>\n",
              "      <td>40799.943645</td>\n",
              "      <td>42286.430620</td>\n",
              "      <td>42286.430620</td>\n",
              "      <td>4.250568e+10</td>\n",
              "    </tr>\n",
              "    <tr>\n",
              "      <th>20</th>\n",
              "      <td>42294.562361</td>\n",
              "      <td>43575.593034</td>\n",
              "      <td>40910.885615</td>\n",
              "      <td>42397.543118</td>\n",
              "      <td>42397.543118</td>\n",
              "      <td>4.254520e+10</td>\n",
              "    </tr>\n",
              "    <tr>\n",
              "      <th>21</th>\n",
              "      <td>42405.741271</td>\n",
              "      <td>43686.811879</td>\n",
              "      <td>41019.434279</td>\n",
              "      <td>42506.258594</td>\n",
              "      <td>42506.258594</td>\n",
              "      <td>4.258387e+10</td>\n",
              "    </tr>\n",
              "    <tr>\n",
              "      <th>22</th>\n",
              "      <td>42514.521726</td>\n",
              "      <td>43795.631394</td>\n",
              "      <td>41125.641246</td>\n",
              "      <td>42612.628756</td>\n",
              "      <td>42612.628756</td>\n",
              "      <td>4.262171e+10</td>\n",
              "    </tr>\n",
              "    <tr>\n",
              "      <th>23</th>\n",
              "      <td>42620.955465</td>\n",
              "      <td>43902.103344</td>\n",
              "      <td>41229.557024</td>\n",
              "      <td>42716.704197</td>\n",
              "      <td>42716.704197</td>\n",
              "      <td>4.265872e+10</td>\n",
              "    </tr>\n",
              "    <tr>\n",
              "      <th>24</th>\n",
              "      <td>42725.093112</td>\n",
              "      <td>44006.278373</td>\n",
              "      <td>41331.231034</td>\n",
              "      <td>42818.534421</td>\n",
              "      <td>42818.534421</td>\n",
              "      <td>4.269494e+10</td>\n",
              "    </tr>\n",
              "    <tr>\n",
              "      <th>25</th>\n",
              "      <td>42826.984201</td>\n",
              "      <td>44108.206035</td>\n",
              "      <td>41430.711635</td>\n",
              "      <td>42918.167863</td>\n",
              "      <td>42918.167863</td>\n",
              "      <td>4.273038e+10</td>\n",
              "    </tr>\n",
              "    <tr>\n",
              "      <th>26</th>\n",
              "      <td>42926.677194</td>\n",
              "      <td>44207.934813</td>\n",
              "      <td>41528.046144</td>\n",
              "      <td>43015.651915</td>\n",
              "      <td>43015.651915</td>\n",
              "      <td>4.276505e+10</td>\n",
              "    </tr>\n",
              "    <tr>\n",
              "      <th>27</th>\n",
              "      <td>43024.219513</td>\n",
              "      <td>44305.512142</td>\n",
              "      <td>41623.280859</td>\n",
              "      <td>43111.032945</td>\n",
              "      <td>43111.032945</td>\n",
              "      <td>4.279898e+10</td>\n",
              "    </tr>\n",
              "    <tr>\n",
              "      <th>28</th>\n",
              "      <td>43119.657552</td>\n",
              "      <td>44400.984438</td>\n",
              "      <td>41716.461076</td>\n",
              "      <td>43204.356322</td>\n",
              "      <td>43204.356322</td>\n",
              "      <td>4.283217e+10</td>\n",
              "    </tr>\n",
              "    <tr>\n",
              "      <th>29</th>\n",
              "      <td>43213.036708</td>\n",
              "      <td>44494.397110</td>\n",
              "      <td>41807.631118</td>\n",
              "      <td>43295.666435</td>\n",
              "      <td>43295.666435</td>\n",
              "      <td>4.286465e+10</td>\n",
              "    </tr>\n",
              "    <tr>\n",
              "      <th>30</th>\n",
              "      <td>43304.401397</td>\n",
              "      <td>44585.794593</td>\n",
              "      <td>41896.834351</td>\n",
              "      <td>43385.006716</td>\n",
              "      <td>43385.006716</td>\n",
              "      <td>4.289643e+10</td>\n",
              "    </tr>\n",
              "    <tr>\n",
              "      <th>31</th>\n",
              "      <td>43393.795077</td>\n",
              "      <td>44675.220359</td>\n",
              "      <td>41984.113203</td>\n",
              "      <td>43472.419660</td>\n",
              "      <td>43472.419660</td>\n",
              "      <td>4.292752e+10</td>\n",
              "    </tr>\n",
              "    <tr>\n",
              "      <th>32</th>\n",
              "      <td>43481.260269</td>\n",
              "      <td>44762.716944</td>\n",
              "      <td>42069.509191</td>\n",
              "      <td>43557.946847</td>\n",
              "      <td>43557.946847</td>\n",
              "      <td>4.295794e+10</td>\n",
              "    </tr>\n",
              "    <tr>\n",
              "      <th>33</th>\n",
              "      <td>43566.838575</td>\n",
              "      <td>44848.325967</td>\n",
              "      <td>42153.062931</td>\n",
              "      <td>43641.628956</td>\n",
              "      <td>43641.628956</td>\n",
              "      <td>4.298770e+10</td>\n",
              "    </tr>\n",
              "    <tr>\n",
              "      <th>34</th>\n",
              "      <td>43650.570702</td>\n",
              "      <td>44932.088148</td>\n",
              "      <td>42234.814169</td>\n",
              "      <td>43723.505793</td>\n",
              "      <td>43723.505793</td>\n",
              "      <td>4.301683e+10</td>\n",
              "    </tr>\n",
              "    <tr>\n",
              "      <th>35</th>\n",
              "      <td>43732.496477</td>\n",
              "      <td>45014.043328</td>\n",
              "      <td>42314.801788</td>\n",
              "      <td>43803.616302</td>\n",
              "      <td>43803.616302</td>\n",
              "      <td>4.304532e+10</td>\n",
              "    </tr>\n",
              "    <tr>\n",
              "      <th>36</th>\n",
              "      <td>43812.654868</td>\n",
              "      <td>45094.230490</td>\n",
              "      <td>42393.063835</td>\n",
              "      <td>43881.998588</td>\n",
              "      <td>43881.998588</td>\n",
              "      <td>4.307320e+10</td>\n",
              "    </tr>\n",
              "    <tr>\n",
              "      <th>37</th>\n",
              "      <td>43891.084003</td>\n",
              "      <td>45172.687776</td>\n",
              "      <td>42469.637536</td>\n",
              "      <td>43958.689935</td>\n",
              "      <td>43958.689935</td>\n",
              "      <td>4.310048e+10</td>\n",
              "    </tr>\n",
              "    <tr>\n",
              "      <th>38</th>\n",
              "      <td>43967.821188</td>\n",
              "      <td>45249.452504</td>\n",
              "      <td>42544.559314</td>\n",
              "      <td>44033.726820</td>\n",
              "      <td>44033.726820</td>\n",
              "      <td>4.312717e+10</td>\n",
              "    </tr>\n",
              "    <tr>\n",
              "      <th>39</th>\n",
              "      <td>44042.902923</td>\n",
              "      <td>45324.561188</td>\n",
              "      <td>42617.864806</td>\n",
              "      <td>44107.144935</td>\n",
              "      <td>44107.144935</td>\n",
              "      <td>4.315328e+10</td>\n",
              "    </tr>\n",
              "    <tr>\n",
              "      <th>40</th>\n",
              "      <td>44116.364920</td>\n",
              "      <td>45398.049553</td>\n",
              "      <td>42689.588879</td>\n",
              "      <td>44178.979203</td>\n",
              "      <td>44178.979203</td>\n",
              "      <td>4.317883e+10</td>\n",
              "    </tr>\n",
              "    <tr>\n",
              "      <th>41</th>\n",
              "      <td>44188.242123</td>\n",
              "      <td>45469.952555</td>\n",
              "      <td>42759.765650</td>\n",
              "      <td>44249.263791</td>\n",
              "      <td>44249.263791</td>\n",
              "      <td>4.320383e+10</td>\n",
              "    </tr>\n",
              "    <tr>\n",
              "      <th>42</th>\n",
              "      <td>44258.568721</td>\n",
              "      <td>45540.304395</td>\n",
              "      <td>42828.428499</td>\n",
              "      <td>44318.032130</td>\n",
              "      <td>44318.032130</td>\n",
              "      <td>4.322829e+10</td>\n",
              "    </tr>\n",
              "    <tr>\n",
              "      <th>43</th>\n",
              "      <td>44327.378163</td>\n",
              "      <td>45609.138535</td>\n",
              "      <td>42895.610085</td>\n",
              "      <td>44385.316931</td>\n",
              "      <td>44385.316931</td>\n",
              "      <td>4.325222e+10</td>\n",
              "    </tr>\n",
              "    <tr>\n",
              "      <th>44</th>\n",
              "      <td>44394.703181</td>\n",
              "      <td>45676.487717</td>\n",
              "      <td>42961.342363</td>\n",
              "      <td>44451.150198</td>\n",
              "      <td>44451.150198</td>\n",
              "      <td>4.327563e+10</td>\n",
              "    </tr>\n",
              "    <tr>\n",
              "      <th>45</th>\n",
              "      <td>44460.575796</td>\n",
              "      <td>45742.383977</td>\n",
              "      <td>43025.656600</td>\n",
              "      <td>44515.563245</td>\n",
              "      <td>44515.563245</td>\n",
              "      <td>4.329855e+10</td>\n",
              "    </tr>\n",
              "    <tr>\n",
              "      <th>46</th>\n",
              "      <td>44525.027343</td>\n",
              "      <td>45806.858657</td>\n",
              "      <td>43088.583387</td>\n",
              "      <td>44578.586711</td>\n",
              "      <td>44578.586711</td>\n",
              "      <td>4.332096e+10</td>\n",
              "    </tr>\n",
              "    <tr>\n",
              "      <th>47</th>\n",
              "      <td>44588.088478</td>\n",
              "      <td>45869.942426</td>\n",
              "      <td>43150.152655</td>\n",
              "      <td>44640.250572</td>\n",
              "      <td>44640.250572</td>\n",
              "      <td>4.334289e+10</td>\n",
              "    </tr>\n",
              "    <tr>\n",
              "      <th>48</th>\n",
              "      <td>44649.789196</td>\n",
              "      <td>45931.665290</td>\n",
              "      <td>43210.393691</td>\n",
              "      <td>44700.584159</td>\n",
              "      <td>44700.584159</td>\n",
              "      <td>4.336435e+10</td>\n",
              "    </tr>\n",
              "    <tr>\n",
              "      <th>49</th>\n",
              "      <td>44710.158845</td>\n",
              "      <td>45992.056607</td>\n",
              "      <td>43269.335147</td>\n",
              "      <td>44759.616171</td>\n",
              "      <td>44759.616171</td>\n",
              "      <td>4.338535e+10</td>\n",
              "    </tr>\n",
              "    <tr>\n",
              "      <th>50</th>\n",
              "      <td>44769.226140</td>\n",
              "      <td>46051.145104</td>\n",
              "      <td>43327.005061</td>\n",
              "      <td>44817.374686</td>\n",
              "      <td>44817.374686</td>\n",
              "      <td>4.340589e+10</td>\n",
              "    </tr>\n",
              "    <tr>\n",
              "      <th>51</th>\n",
              "      <td>44827.019178</td>\n",
              "      <td>46108.958885</td>\n",
              "      <td>43383.430862</td>\n",
              "      <td>44873.887178</td>\n",
              "      <td>44873.887178</td>\n",
              "      <td>4.342599e+10</td>\n",
              "    </tr>\n",
              "    <tr>\n",
              "      <th>52</th>\n",
              "      <td>44883.565447</td>\n",
              "      <td>46165.525450</td>\n",
              "      <td>43438.639390</td>\n",
              "      <td>44929.180527</td>\n",
              "      <td>44929.180527</td>\n",
              "      <td>4.344566e+10</td>\n",
              "    </tr>\n",
              "    <tr>\n",
              "      <th>53</th>\n",
              "      <td>44938.891844</td>\n",
              "      <td>46220.871706</td>\n",
              "      <td>43492.656905</td>\n",
              "      <td>44983.281032</td>\n",
              "      <td>44983.281032</td>\n",
              "      <td>4.346490e+10</td>\n",
              "    </tr>\n",
              "    <tr>\n",
              "      <th>54</th>\n",
              "      <td>44993.024686</td>\n",
              "      <td>46275.023978</td>\n",
              "      <td>43545.509102</td>\n",
              "      <td>45036.214429</td>\n",
              "      <td>45036.214429</td>\n",
              "      <td>4.348373e+10</td>\n",
              "    </tr>\n",
              "    <tr>\n",
              "      <th>55</th>\n",
              "      <td>45045.989721</td>\n",
              "      <td>46328.008023</td>\n",
              "      <td>43597.221118</td>\n",
              "      <td>45088.005894</td>\n",
              "      <td>45088.005894</td>\n",
              "      <td>4.350215e+10</td>\n",
              "    </tr>\n",
              "    <tr>\n",
              "      <th>56</th>\n",
              "      <td>45097.812142</td>\n",
              "      <td>46379.849045</td>\n",
              "      <td>43647.817553</td>\n",
              "      <td>45138.680063</td>\n",
              "      <td>45138.680063</td>\n",
              "      <td>4.352018e+10</td>\n",
              "    </tr>\n",
              "    <tr>\n",
              "      <th>57</th>\n",
              "      <td>45148.516599</td>\n",
              "      <td>46430.571701</td>\n",
              "      <td>43697.322471</td>\n",
              "      <td>45188.261038</td>\n",
              "      <td>45188.261038</td>\n",
              "      <td>4.353781e+10</td>\n",
              "    </tr>\n",
              "  </tbody>\n",
              "</table>\n",
              "</div>\n",
              "      <button class=\"colab-df-convert\" onclick=\"convertToInteractive('df-3d3db294-b8cb-4212-9c40-0048d9f4a14e')\"\n",
              "              title=\"Convert this dataframe to an interactive table.\"\n",
              "              style=\"display:none;\">\n",
              "        \n",
              "  <svg xmlns=\"http://www.w3.org/2000/svg\" height=\"24px\"viewBox=\"0 0 24 24\"\n",
              "       width=\"24px\">\n",
              "    <path d=\"M0 0h24v24H0V0z\" fill=\"none\"/>\n",
              "    <path d=\"M18.56 5.44l.94 2.06.94-2.06 2.06-.94-2.06-.94-.94-2.06-.94 2.06-2.06.94zm-11 1L8.5 8.5l.94-2.06 2.06-.94-2.06-.94L8.5 2.5l-.94 2.06-2.06.94zm10 10l.94 2.06.94-2.06 2.06-.94-2.06-.94-.94-2.06-.94 2.06-2.06.94z\"/><path d=\"M17.41 7.96l-1.37-1.37c-.4-.4-.92-.59-1.43-.59-.52 0-1.04.2-1.43.59L10.3 9.45l-7.72 7.72c-.78.78-.78 2.05 0 2.83L4 21.41c.39.39.9.59 1.41.59.51 0 1.02-.2 1.41-.59l7.78-7.78 2.81-2.81c.8-.78.8-2.07 0-2.86zM5.41 20L4 18.59l7.72-7.72 1.47 1.35L5.41 20z\"/>\n",
              "  </svg>\n",
              "      </button>\n",
              "      \n",
              "  <style>\n",
              "    .colab-df-container {\n",
              "      display:flex;\n",
              "      flex-wrap:wrap;\n",
              "      gap: 12px;\n",
              "    }\n",
              "\n",
              "    .colab-df-convert {\n",
              "      background-color: #E8F0FE;\n",
              "      border: none;\n",
              "      border-radius: 50%;\n",
              "      cursor: pointer;\n",
              "      display: none;\n",
              "      fill: #1967D2;\n",
              "      height: 32px;\n",
              "      padding: 0 0 0 0;\n",
              "      width: 32px;\n",
              "    }\n",
              "\n",
              "    .colab-df-convert:hover {\n",
              "      background-color: #E2EBFA;\n",
              "      box-shadow: 0px 1px 2px rgba(60, 64, 67, 0.3), 0px 1px 3px 1px rgba(60, 64, 67, 0.15);\n",
              "      fill: #174EA6;\n",
              "    }\n",
              "\n",
              "    [theme=dark] .colab-df-convert {\n",
              "      background-color: #3B4455;\n",
              "      fill: #D2E3FC;\n",
              "    }\n",
              "\n",
              "    [theme=dark] .colab-df-convert:hover {\n",
              "      background-color: #434B5C;\n",
              "      box-shadow: 0px 1px 3px 1px rgba(0, 0, 0, 0.15);\n",
              "      filter: drop-shadow(0px 1px 2px rgba(0, 0, 0, 0.3));\n",
              "      fill: #FFFFFF;\n",
              "    }\n",
              "  </style>\n",
              "\n",
              "      <script>\n",
              "        const buttonEl =\n",
              "          document.querySelector('#df-3d3db294-b8cb-4212-9c40-0048d9f4a14e button.colab-df-convert');\n",
              "        buttonEl.style.display =\n",
              "          google.colab.kernel.accessAllowed ? 'block' : 'none';\n",
              "\n",
              "        async function convertToInteractive(key) {\n",
              "          const element = document.querySelector('#df-3d3db294-b8cb-4212-9c40-0048d9f4a14e');\n",
              "          const dataTable =\n",
              "            await google.colab.kernel.invokeFunction('convertToInteractive',\n",
              "                                                     [key], {});\n",
              "          if (!dataTable) return;\n",
              "\n",
              "          const docLinkHtml = 'Like what you see? Visit the ' +\n",
              "            '<a target=\"_blank\" href=https://colab.research.google.com/notebooks/data_table.ipynb>data table notebook</a>'\n",
              "            + ' to learn more about interactive tables.';\n",
              "          element.innerHTML = '';\n",
              "          dataTable['output_type'] = 'display_data';\n",
              "          await google.colab.output.renderOutput(dataTable, element);\n",
              "          const docLink = document.createElement('div');\n",
              "          docLink.innerHTML = docLinkHtml;\n",
              "          element.appendChild(docLink);\n",
              "        }\n",
              "      </script>\n",
              "    </div>\n",
              "  </div>\n",
              "  "
            ]
          },
          "metadata": {},
          "execution_count": 104
        }
      ]
    },
    {
      "cell_type": "code",
      "source": [
        "y_coordinates =  pred_june[\"Open\"]\n",
        "y_coordinates1 = pred_june[\"High\"]\n",
        "y_coordinates2 = pred_june[\"Low\"]\n",
        "y_coordinates3 = pred_june[\"Close\"]\n",
        "y_coordinates4 = pred_june[\"Adj Close\"]\n",
        "y_coordinates5 = pred_june[\"Volume\"]"
      ],
      "metadata": {
        "id": "7v0-a-FMCKoj"
      },
      "execution_count": null,
      "outputs": []
    },
    {
      "cell_type": "code",
      "source": [
        "x_coordinates =[]\n",
        "for a in range (len(y_coordinates)):\n",
        "  x_coordinates.append(a)\n",
        "plt.plot(x_coordinates, y_coordinates, c = \"blue\") #open\n",
        "plt.plot(x_coordinates, y_coordinates1, c = \"pink\") #high\n",
        "plt.plot(x_coordinates, y_coordinates2, c = \"yellow\") #low\n",
        "plt.plot(x_coordinates, y_coordinates3, c = \"green\") #close\n",
        "plt.plot(x_coordinates, y_coordinates4, c = \"purple\") #adj close"
      ],
      "metadata": {
        "colab": {
          "base_uri": "https://localhost:8080/",
          "height": 283
        },
        "id": "ZU0obVb6CaRU",
        "outputId": "f8c01ddf-293a-4152-bf17-f0b4d001b151"
      },
      "execution_count": null,
      "outputs": [
        {
          "output_type": "execute_result",
          "data": {
            "text/plain": [
              "[<matplotlib.lines.Line2D at 0x7f11dab4be50>]"
            ]
          },
          "metadata": {},
          "execution_count": 106
        },
        {
          "output_type": "display_data",
          "data": {
            "text/plain": [
              "<Figure size 432x288 with 1 Axes>"
            ],
            "image/png": "[encoded data removed]"
          },
          "metadata": {
            "needs_background": "light"
          }
        }
      ]
    },
    {
      "cell_type": "markdown",
      "source": [
        "Overall, our prediction system is unable to detect the fluctuations but is somewhat successful in detecting the overall trends, which is what we were aiming for. It is important to note that Bitcoin suffered from a fall noone anticipated mid-March, and had a hard time with a lot of fluctuations since then.\n",
        "\n",
        "Bitcoin is a very hard currency to predict successfully, which makes it an interesting data to watch."
      ],
      "metadata": {
        "id": "DYrHMcc8ChZb"
      }
    },
    {
      "cell_type": "markdown",
      "metadata": {
        "id": "8h0G5RNzuABB"
      },
      "source": [
        "## Future Work\n",
        "\n",
        "Bitcoin is a very fluctuating, hard-to-guess cryptocurrency that has changed the economic viewpoints and our society's understanding of currencies. It is not centralised, not regulated, therefore it is very hard to guess it's future and very open to any manipulation. Tomorrow we may wake up and see a drastic change with no warning whatsoever. It is a marvel to observe the changes.\n",
        "\n",
        "We have tried to observe the manipulation of one rich man on a cryptocurrency and tried to understand the movement of the certain cryptocurrency. Understand the outliers. In the future, the same work may be put into other alternate coins and understand if the same changes applies to them. It is also possible to train different regressive methods and try to tune it into a more-accurate guessing algorithm. Than again, in a market that changes so fast and drastically, it is nearly impossible to do all-correct guesses. If so, some data scientists would be super-rich on bitcoins!"
      ]
    }
  ]
}